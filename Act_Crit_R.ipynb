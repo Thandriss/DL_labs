{
  "nbformat": 4,
  "nbformat_minor": 0,
  "metadata": {
    "colab": {
      "name": "Act-Crit-R.ipynb",
      "provenance": [],
      "authorship_tag": "ABX9TyO7o2iLo5GTDNMXUYuQV3Za",
      "include_colab_link": true
    },
    "kernelspec": {
      "name": "python3",
      "display_name": "Python 3"
    },
    "language_info": {
      "name": "python"
    }
  },
  "cells": [
    {
      "cell_type": "markdown",
      "metadata": {
        "id": "view-in-github",
        "colab_type": "text"
      },
      "source": [
        "<a href=\"https://colab.research.google.com/github/Thandriss/DL_labs/blob/main/Act_Crit_R.ipynb\" target=\"_parent\"><img src=\"https://colab.research.google.com/assets/colab-badge.svg\" alt=\"Open In Colab\"/></a>"
      ]
    },
    {
      "cell_type": "markdown",
      "source": [
        ""
      ],
      "metadata": {
        "id": "FiwM3qTZMOjc"
      }
    },
    {
      "cell_type": "code",
      "execution_count": 53,
      "metadata": {
        "colab": {
          "base_uri": "https://localhost:8080/"
        },
        "id": "bOJ9dYGnIgRM",
        "outputId": "3084d43e-66ca-426a-f25c-7a5aeb550089"
      },
      "outputs": [
        {
          "output_type": "stream",
          "name": "stdout",
          "text": [
            "Requirement already satisfied: gym in /usr/local/lib/python3.7/dist-packages (0.17.3)\n",
            "Requirement already satisfied: scipy in /usr/local/lib/python3.7/dist-packages (from gym) (1.4.1)\n",
            "Requirement already satisfied: numpy>=1.10.4 in /usr/local/lib/python3.7/dist-packages (from gym) (1.21.6)\n",
            "Requirement already satisfied: pyglet<=1.5.0,>=1.4.0 in /usr/local/lib/python3.7/dist-packages (from gym) (1.5.0)\n",
            "Requirement already satisfied: cloudpickle<1.7.0,>=1.2.0 in /usr/local/lib/python3.7/dist-packages (from gym) (1.3.0)\n",
            "Requirement already satisfied: future in /usr/local/lib/python3.7/dist-packages (from pyglet<=1.5.0,>=1.4.0->gym) (0.16.0)\n",
            "Requirement already satisfied: pyglet in /usr/local/lib/python3.7/dist-packages (1.5.0)\n",
            "Requirement already satisfied: future in /usr/local/lib/python3.7/dist-packages (from pyglet) (0.16.0)\n"
          ]
        }
      ],
      "source": [
        "!pip install gym\n",
        "!pip install pyglet"
      ]
    },
    {
      "cell_type": "code",
      "source": [
        "%%bash\n",
        "sudo apt-get install -y xvfb python-opengl > /dev/null 2>&1\n",
        "pip install pyvirtualdisplay > /dev/null 2>&1\n",
        "pip install git+https://github.com/tensorflow/docs > /dev/null 2>&1"
      ],
      "metadata": {
        "id": "zQmXDTPeIrGF"
      },
      "execution_count": 81,
      "outputs": []
    },
    {
      "cell_type": "code",
      "source": [
        "import collections\n",
        "import gym\n",
        "import numpy as np\n",
        "import statistics\n",
        "import tensorflow as tf\n",
        "import tqdm\n",
        "\n",
        "from matplotlib import pyplot as plt\n",
        "from tensorflow.keras import layers\n",
        "from typing import Any, List, Sequence, Tuple\n",
        "\n",
        "\n",
        "\n",
        "env = gym.make(\"CartPole-v0\")\n",
        "\n",
        "\n",
        "seed = 42\n",
        "env.seed(seed)\n",
        "tf.random.set_seed(seed)\n",
        "np.random.seed(seed)\n",
        "\n",
        "\n",
        "eps = np.finfo(np.float32).eps.item()"
      ],
      "metadata": {
        "id": "c81idTnCIu84"
      },
      "execution_count": 82,
      "outputs": []
    },
    {
      "cell_type": "code",
      "source": [
        "class ActorCritic(tf.keras.Model):\n",
        "\n",
        "\n",
        "  def __init__(\n",
        "      self, \n",
        "      num_actions: int, \n",
        "      num_hidden_units: int):\n",
        "    \n",
        "    super().__init__()\n",
        "\n",
        "    self.common = layers.Dense(num_hidden_units, activation=\"softmax\")\n",
        "    self.actor = layers.Dense(num_actions)\n",
        "    self.critic = layers.Dense(1)\n",
        "\n",
        "  def call(self, inputs: tf.Tensor) -> Tuple[tf.Tensor, tf.Tensor]:\n",
        "    x = self.common(inputs)\n",
        "    return self.actor(x), self.critic(x)"
      ],
      "metadata": {
        "id": "YXxWa12rIvwx"
      },
      "execution_count": 83,
      "outputs": []
    },
    {
      "cell_type": "code",
      "source": [
        "num_actions = env.action_space.n  # 2\n",
        "num_hidden_units = 128\n",
        "\n",
        "model = ActorCritic(num_actions, num_hidden_units)"
      ],
      "metadata": {
        "id": "xSfbWpFrI309"
      },
      "execution_count": 84,
      "outputs": []
    },
    {
      "cell_type": "code",
      "source": [
        "\n",
        "\n",
        "def env_step(action: np.ndarray) -> Tuple[np.ndarray, np.ndarray, np.ndarray]:\n",
        "\n",
        "  state, reward, done, _ = env.step(action)\n",
        "  return (state.astype(np.float32), \n",
        "          np.array(reward, np.int32), \n",
        "          np.array(done, np.int32))\n",
        "\n",
        "\n",
        "def tf_env_step(action: tf.Tensor) -> List[tf.Tensor]:\n",
        "  return tf.numpy_function(env_step, [action], \n",
        "                           [tf.float32, tf.int32, tf.int32])"
      ],
      "metadata": {
        "id": "WMtkW30QI7Ob"
      },
      "execution_count": 85,
      "outputs": []
    },
    {
      "cell_type": "code",
      "source": [
        "def run_episode(\n",
        "    initial_state: tf.Tensor,  \n",
        "    model: tf.keras.Model, \n",
        "    max_steps: int) -> Tuple[tf.Tensor, tf.Tensor, tf.Tensor]:\n",
        "  \n",
        "\n",
        "  action_probs = tf.TensorArray(dtype=tf.float32, size=0, dynamic_size=True)\n",
        "  values = tf.TensorArray(dtype=tf.float32, size=0, dynamic_size=True)\n",
        "  rewards = tf.TensorArray(dtype=tf.int32, size=0, dynamic_size=True)\n",
        "\n",
        "  initial_state_shape = initial_state.shape\n",
        "  state = initial_state\n",
        "\n",
        "  for t in tf.range(max_steps):\n",
        "\n",
        "    state = tf.expand_dims(state, 0)\n",
        "  \n",
        "\n",
        "    action_logits_t, value = model(state)\n",
        "  \n",
        "\n",
        "    action = tf.random.categorical(action_logits_t, 1)[0, 0]\n",
        "    action_probs_t = tf.nn.softmax(action_logits_t)\n",
        "\n",
        "\n",
        "    values = values.write(t, tf.squeeze(value))\n",
        "\n",
        "\n",
        "    action_probs = action_probs.write(t, action_probs_t[0, action])\n",
        "  \n",
        "\n",
        "    state, reward, done = tf_env_step(action)\n",
        "    state.set_shape(initial_state_shape)\n",
        "  \n",
        "\n",
        "    rewards = rewards.write(t, reward)\n",
        "\n",
        "    if tf.cast(done, tf.bool):\n",
        "      break\n",
        "\n",
        "  action_probs = action_probs.stack()\n",
        "  values = values.stack()\n",
        "  rewards = rewards.stack()\n",
        "  \n",
        "  return action_probs, values, rewards"
      ],
      "metadata": {
        "id": "HGoMYxWTI7_z"
      },
      "execution_count": 86,
      "outputs": []
    },
    {
      "cell_type": "code",
      "source": [
        "def get_expected_return(\n",
        "    rewards: tf.Tensor, \n",
        "    gamma: float, \n",
        "    standardize: bool = True) -> tf.Tensor:\n",
        "\n",
        "\n",
        "  n = tf.shape(rewards)[0]\n",
        "  returns = tf.TensorArray(dtype=tf.float32, size=n)\n",
        "\n",
        "\n",
        "  rewards = tf.cast(rewards[::-1], dtype=tf.float32)\n",
        "  discounted_sum = tf.constant(0.0)\n",
        "  discounted_sum_shape = discounted_sum.shape\n",
        "  for i in tf.range(n):\n",
        "    reward = rewards[i]\n",
        "    discounted_sum = reward + gamma * discounted_sum\n",
        "    discounted_sum.set_shape(discounted_sum_shape)\n",
        "    returns = returns.write(i, discounted_sum)\n",
        "  returns = returns.stack()[::-1]\n",
        "\n",
        "  if standardize:\n",
        "    returns = ((returns - tf.math.reduce_mean(returns)) / \n",
        "               (tf.math.reduce_std(returns) + eps))\n",
        "\n",
        "  return returns"
      ],
      "metadata": {
        "id": "SYQfQ956I_Wr"
      },
      "execution_count": 87,
      "outputs": []
    },
    {
      "cell_type": "code",
      "source": [
        "huber_loss = tf.keras.losses.Huber(reduction=tf.keras.losses.Reduction.SUM)\n",
        "\n",
        "def compute_loss(\n",
        "    action_probs: tf.Tensor,  \n",
        "    values: tf.Tensor,  \n",
        "    returns: tf.Tensor) -> tf.Tensor:\n",
        "\n",
        "\n",
        "  advantage = returns - values\n",
        "\n",
        "  action_log_probs = tf.math.log(action_probs)\n",
        "  actor_loss = -tf.math.reduce_sum(action_log_probs * advantage)\n",
        "\n",
        "  critic_loss = huber_loss(values, returns)\n",
        "\n",
        "  return actor_loss + critic_loss"
      ],
      "metadata": {
        "id": "D5IXqIMHJCnH"
      },
      "execution_count": 88,
      "outputs": []
    },
    {
      "cell_type": "code",
      "source": [
        "optimizer = tf.keras.optimizers.Adam(learning_rate=0.01)\n",
        "\n",
        "\n",
        "@tf.function\n",
        "def train_step(\n",
        "    initial_state: tf.Tensor, \n",
        "    model: tf.keras.Model, \n",
        "    optimizer: tf.keras.optimizers.Optimizer, \n",
        "    gamma: float, \n",
        "    max_steps_per_episode: int) -> tf.Tensor:\n",
        "\n",
        "\n",
        "  with tf.GradientTape() as tape:\n",
        "\n",
        "\n",
        "    action_probs, values, rewards = run_episode(\n",
        "        initial_state, model, max_steps_per_episode) \n",
        "\n",
        "\n",
        "    returns = get_expected_return(rewards, gamma)\n",
        "\n",
        "\n",
        "    action_probs, values, returns = [\n",
        "        tf.expand_dims(x, 1) for x in [action_probs, values, returns]] \n",
        "\n",
        "\n",
        "    loss = compute_loss(action_probs, values, returns)\n",
        "\n",
        "\n",
        "  grads = tape.gradient(loss, model.trainable_variables)\n",
        "\n",
        "\n",
        "  optimizer.apply_gradients(zip(grads, model.trainable_variables))\n",
        "\n",
        "  episode_reward = tf.math.reduce_sum(rewards)\n",
        "\n",
        "  return episode_reward"
      ],
      "metadata": {
        "id": "6RfDSjKuJJm8"
      },
      "execution_count": 89,
      "outputs": []
    },
    {
      "cell_type": "code",
      "source": [
        "%%time\n",
        "\n",
        "min_episodes_criterion = 100\n",
        "max_episodes = 10\n",
        "max_steps_per_episode = 1000\n",
        "\n",
        "\n",
        "reward_threshold = 195\n",
        "running_reward = 0\n",
        "\n",
        "\n",
        "gamma = 0.99\n",
        "\n",
        "\n",
        "episodes_reward: collections.deque = collections.deque(maxlen=min_episodes_criterion)\n",
        "\n",
        "with tqdm.trange(max_episodes) as t:\n",
        "  for i in t:\n",
        "    initial_state = tf.constant(env.reset(), dtype=tf.float32)\n",
        "    episode_reward = int(train_step(\n",
        "        initial_state, model, optimizer, gamma, max_steps_per_episode))\n",
        "    \n",
        "    episodes_reward.append(episode_reward)\n",
        "    running_reward = statistics.mean(episodes_reward)\n",
        "  \n",
        "    t.set_description(f'Episode {i}')\n",
        "    t.set_postfix(\n",
        "        episode_reward=episode_reward, running_reward=running_reward)\n",
        "  \n",
        "\n",
        "    if i % 10 == 0:\n",
        "      pass \n",
        "  \n",
        "    if running_reward > reward_threshold and i >= min_episodes_criterion:  \n",
        "        break\n",
        "\n",
        "print(f'\\nSolved at episode {i}: average reward: {running_reward:.2f}!')"
      ],
      "metadata": {
        "colab": {
          "base_uri": "https://localhost:8080/"
        },
        "id": "cG3tLp22JKcr",
        "outputId": "987d50e0-f820-4c8b-9b00-4207c1104efc"
      },
      "execution_count": 90,
      "outputs": [
        {
          "output_type": "stream",
          "name": "stderr",
          "text": [
            "Episode 9: 100%|██████████| 10/10 [00:04<00:00,  2.30it/s, episode_reward=23, running_reward=24.6]"
          ]
        },
        {
          "output_type": "stream",
          "name": "stdout",
          "text": [
            "\n",
            "Solved at episode 9: average reward: 24.60!\n",
            "CPU times: user 3.41 s, sys: 62.3 ms, total: 3.47 s\n",
            "Wall time: 4.36 s\n"
          ]
        },
        {
          "output_type": "stream",
          "name": "stderr",
          "text": [
            "\n"
          ]
        }
      ]
    },
    {
      "cell_type": "code",
      "source": [
        "\n",
        "\n",
        "from IPython import display as ipythondisplay\n",
        "from PIL import Image\n",
        "from pyvirtualdisplay import Display\n",
        "\n",
        "\n",
        "display = Display(visible=0, size=(400, 300))\n",
        "display.start()\n",
        "\n",
        "\n",
        "def render_episode(env: gym.Env, model: tf.keras.Model, max_steps: int): \n",
        "  screen = env.render(mode='rgb_array')\n",
        "  im = Image.fromarray(screen)\n",
        "\n",
        "  images = [im]\n",
        "  \n",
        "  state = tf.constant(env.reset(), dtype=tf.float32)\n",
        "  for i in range(1, max_steps + 1):\n",
        "    state = tf.expand_dims(state, 0)\n",
        "    action_probs, _ = model(state)\n",
        "    action = np.argmax(np.squeeze(action_probs))\n",
        "\n",
        "    state, _, done, _ = env.step(action)\n",
        "    state = tf.constant(state, dtype=tf.float32)\n",
        "\n",
        "\n",
        "    if i % 10 == 0:\n",
        "      screen = env.render(mode='rgb_array')\n",
        "      images.append(Image.fromarray(screen))\n",
        "  \n",
        "    if done:\n",
        "      break\n",
        "  \n",
        "  return images\n",
        "\n",
        "\n",
        "\n",
        "images = render_episode(env, model, max_steps_per_episode)\n",
        "image_file = 'cartpole-v0.gif'\n",
        "\n",
        "images[0].save(\n",
        "    image_file, save_all=True, append_images=images[1:], loop=0, duration=1)"
      ],
      "metadata": {
        "id": "iG9Cqsh_JOFY"
      },
      "execution_count": 91,
      "outputs": []
    },
    {
      "cell_type": "code",
      "source": [
        "import tensorflow_docs.vis.embed as embed\n",
        "embed.embed_file(image_file)"
      ],
      "metadata": {
        "colab": {
          "base_uri": "https://localhost:8080/",
          "height": 422
        },
        "id": "A-veEm1LJRY3",
        "outputId": "ac2e667b-ca58-41c4-fc6d-65c18abb10d6"
      },
      "execution_count": 92,
      "outputs": [
        {
          "output_type": "execute_result",
          "data": {
            "text/plain": [
              "<IPython.core.display.HTML object>"
            ],
            "text/html": [
              "<img src=\"data:image/gif;base64,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\"/>"
            ]
          },
          "metadata": {},
          "execution_count": 92
        }
      ]
    }
  ]
}