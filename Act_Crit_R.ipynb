{
  "nbformat": 4,
  "nbformat_minor": 0,
  "metadata": {
    "colab": {
      "name": "Act-Crit-R.ipynb",
      "provenance": [],
      "collapsed_sections": [],
      "authorship_tag": "ABX9TyOiPWbt2i0f0BM+ywTGZ9W9",
      "include_colab_link": true
    },
    "kernelspec": {
      "name": "python3",
      "display_name": "Python 3"
    },
    "language_info": {
      "name": "python"
    }
  },
  "cells": [
    {
      "cell_type": "markdown",
      "metadata": {
        "id": "view-in-github",
        "colab_type": "text"
      },
      "source": [
        "<a href=\"https://colab.research.google.com/github/Thandriss/DL_labs/blob/main/Act_Crit_R.ipynb\" target=\"_parent\"><img src=\"https://colab.research.google.com/assets/colab-badge.svg\" alt=\"Open In Colab\"/></a>"
      ]
    },
    {
      "cell_type": "markdown",
      "source": [
        ""
      ],
      "metadata": {
        "id": "FiwM3qTZMOjc"
      }
    },
    {
      "cell_type": "code",
      "execution_count": 1,
      "metadata": {
        "colab": {
          "base_uri": "https://localhost:8080/"
        },
        "id": "bOJ9dYGnIgRM",
        "outputId": "f0e80237-2312-415b-d7bf-0c67e7c7f5b6"
      },
      "outputs": [
        {
          "output_type": "stream",
          "name": "stdout",
          "text": [
            "Requirement already satisfied: gym in /usr/local/lib/python3.7/dist-packages (0.17.3)\n",
            "Requirement already satisfied: scipy in /usr/local/lib/python3.7/dist-packages (from gym) (1.4.1)\n",
            "Requirement already satisfied: cloudpickle<1.7.0,>=1.2.0 in /usr/local/lib/python3.7/dist-packages (from gym) (1.3.0)\n",
            "Requirement already satisfied: pyglet<=1.5.0,>=1.4.0 in /usr/local/lib/python3.7/dist-packages (from gym) (1.5.0)\n",
            "Requirement already satisfied: numpy>=1.10.4 in /usr/local/lib/python3.7/dist-packages (from gym) (1.21.6)\n",
            "Requirement already satisfied: future in /usr/local/lib/python3.7/dist-packages (from pyglet<=1.5.0,>=1.4.0->gym) (0.16.0)\n",
            "Requirement already satisfied: pyglet in /usr/local/lib/python3.7/dist-packages (1.5.0)\n",
            "Requirement already satisfied: future in /usr/local/lib/python3.7/dist-packages (from pyglet) (0.16.0)\n"
          ]
        }
      ],
      "source": [
        "!pip install gym\n",
        "!pip install pyglet"
      ]
    },
    {
      "cell_type": "code",
      "source": [
        "%%bash\n",
        "sudo apt-get install -y xvfb python-opengl > /dev/null 2>&1\n",
        "pip install pyvirtualdisplay > /dev/null 2>&1\n",
        "pip install git+https://github.com/tensorflow/docs > /dev/null 2>&1"
      ],
      "metadata": {
        "id": "zQmXDTPeIrGF"
      },
      "execution_count": 2,
      "outputs": []
    },
    {
      "cell_type": "code",
      "source": [
        "import collections\n",
        "import gym\n",
        "import numpy as np\n",
        "import statistics\n",
        "import tensorflow as tf\n",
        "import tqdm\n",
        "\n",
        "from matplotlib import pyplot as plt\n",
        "from tensorflow.keras import layers\n",
        "from typing import Any, List, Sequence, Tuple\n",
        "\n",
        "\n",
        "\n",
        "env = gym.make(\"CartPole-v0\")\n",
        "\n",
        "\n",
        "seed = 42\n",
        "env.seed(seed)\n",
        "tf.random.set_seed(seed)\n",
        "np.random.seed(seed)\n",
        "\n",
        "\n",
        "eps = np.finfo(np.float32).eps.item()"
      ],
      "metadata": {
        "id": "c81idTnCIu84"
      },
      "execution_count": 55,
      "outputs": []
    },
    {
      "cell_type": "code",
      "source": [
        "class ActorCritic(tf.keras.Model):\n",
        "\n",
        "\n",
        "  def __init__(\n",
        "      self, \n",
        "      num_actions: int, \n",
        "      num_hidden_units: int):\n",
        "    \n",
        "    super().__init__()\n",
        "\n",
        "    self.common = layers.Dense(num_hidden_units, activation=\"relu\")\n",
        "    self.actor = layers.Dense(num_actions)\n",
        "    self.critic = layers.Dense(1)\n",
        "\n",
        "  def call(self, inputs: tf.Tensor) -> Tuple[tf.Tensor, tf.Tensor]:\n",
        "    x = self.common(inputs)\n",
        "    return self.actor(x), self.critic(x)"
      ],
      "metadata": {
        "id": "YXxWa12rIvwx"
      },
      "execution_count": 56,
      "outputs": []
    },
    {
      "cell_type": "code",
      "source": [
        "num_actions = env.action_space.n  # 2\n",
        "num_hidden_units = 128\n",
        "\n",
        "model = ActorCritic(num_actions, num_hidden_units)"
      ],
      "metadata": {
        "id": "xSfbWpFrI309"
      },
      "execution_count": 57,
      "outputs": []
    },
    {
      "cell_type": "markdown",
      "source": [
        "# Получение данных из среды \n",
        "Данные обучения собираются для каждого эпизода. Затем на каждом временном шаге будет выполняться прямой проход модели для состояния среды, чтобы генерировать вероятности действий и критическое значение на основе текущей политики, параметризованной весами модели."
      ],
      "metadata": {
        "id": "MwYQ6WUIixdq"
      }
    },
    {
      "cell_type": "code",
      "source": [
        "\n",
        "\n",
        "def env_step(action: np.ndarray) -> Tuple[np.ndarray, np.ndarray, np.ndarray]:\n",
        "\n",
        "  state, reward, done, _ = env.step(action)\n",
        "  return (state.astype(np.float32), \n",
        "          np.array(reward, np.int32), \n",
        "          np.array(done, np.int32))\n",
        "\n",
        "\n",
        "def tf_env_step(action: tf.Tensor) -> List[tf.Tensor]:\n",
        "  return tf.numpy_function(env_step, [action], \n",
        "                           [tf.float32, tf.int32, tf.int32])"
      ],
      "metadata": {
        "id": "WMtkW30QI7Ob"
      },
      "execution_count": 58,
      "outputs": []
    },
    {
      "cell_type": "code",
      "source": [
        "def run_episode(\n",
        "    initial_state: tf.Tensor,  \n",
        "    model: tf.keras.Model, \n",
        "    max_steps: int) -> Tuple[tf.Tensor, tf.Tensor, tf.Tensor]:\n",
        "  \n",
        "\n",
        "  action_probs = tf.TensorArray(dtype=tf.float32, size=0, dynamic_size=True)\n",
        "  values = tf.TensorArray(dtype=tf.float32, size=0, dynamic_size=True)\n",
        "  rewards = tf.TensorArray(dtype=tf.int32, size=0, dynamic_size=True)\n",
        "\n",
        "  initial_state_shape = initial_state.shape\n",
        "  state = initial_state\n",
        "\n",
        "  for t in tf.range(max_steps):\n",
        "\n",
        "    state = tf.expand_dims(state, 0)\n",
        "  \n",
        "\n",
        "    action_logits_t, value = model(state)\n",
        "  \n",
        "\n",
        "    action = tf.random.categorical(action_logits_t, 1)[0, 0]\n",
        "    action_probs_t = tf.nn.softmax(action_logits_t)\n",
        "\n",
        "\n",
        "    values = values.write(t, tf.squeeze(value))\n",
        "\n",
        "\n",
        "    action_probs = action_probs.write(t, action_probs_t[0, action])\n",
        "  \n",
        "\n",
        "    state, reward, done = tf_env_step(action)\n",
        "    state.set_shape(initial_state_shape)\n",
        "  \n",
        "\n",
        "    rewards = rewards.write(t, reward)\n",
        "\n",
        "    if tf.cast(done, tf.bool):\n",
        "      break\n",
        "\n",
        "  action_probs = action_probs.stack()\n",
        "  values = values.stack()\n",
        "  rewards = rewards.stack()\n",
        "  \n",
        "  return action_probs, values, rewards"
      ],
      "metadata": {
        "id": "HGoMYxWTI7_z"
      },
      "execution_count": 59,
      "outputs": []
    },
    {
      "cell_type": "code",
      "source": [
        "def get_expected_return(\n",
        "    rewards: tf.Tensor, \n",
        "    gamma: float, \n",
        "    standardize: bool = True) -> tf.Tensor:\n",
        "\n",
        "\n",
        "  n = tf.shape(rewards)[0]\n",
        "  returns = tf.TensorArray(dtype=tf.float32, size=n)\n",
        "\n",
        "\n",
        "  rewards = tf.cast(rewards[::-1], dtype=tf.float32)\n",
        "  discounted_sum = tf.constant(0.0)\n",
        "  discounted_sum_shape = discounted_sum.shape\n",
        "  for i in tf.range(n):\n",
        "    reward = rewards[i]\n",
        "    discounted_sum = reward + gamma * discounted_sum\n",
        "    discounted_sum.set_shape(discounted_sum_shape)\n",
        "    returns = returns.write(i, discounted_sum)\n",
        "  returns = returns.stack()[::-1]\n",
        "\n",
        "  if standardize:\n",
        "    returns = ((returns - tf.math.reduce_mean(returns)) / \n",
        "               (tf.math.reduce_std(returns) + eps))\n",
        "\n",
        "  return returns"
      ],
      "metadata": {
        "id": "SYQfQ956I_Wr"
      },
      "execution_count": 60,
      "outputs": []
    },
    {
      "cell_type": "code",
      "source": [
        "huber_loss = tf.keras.losses.Huber(reduction=tf.keras.losses.Reduction.SUM)\n",
        "\n",
        "def compute_loss(\n",
        "    action_probs: tf.Tensor,  \n",
        "    values: tf.Tensor,  \n",
        "    returns: tf.Tensor) -> tf.Tensor:\n",
        "\n",
        "\n",
        "  advantage = returns - values\n",
        "\n",
        "  action_log_probs = tf.math.log(action_probs)\n",
        "  actor_loss = -tf.math.reduce_sum(action_log_probs * advantage)\n",
        "\n",
        "  critic_loss = huber_loss(values, returns)\n",
        "\n",
        "  return actor_loss + critic_loss"
      ],
      "metadata": {
        "id": "D5IXqIMHJCnH"
      },
      "execution_count": 61,
      "outputs": []
    },
    {
      "cell_type": "code",
      "source": [
        "optimizer = tf.keras.optimizers.Adam(learning_rate=0.01)\n",
        "\n",
        "\n",
        "@tf.function\n",
        "def train_step(\n",
        "    initial_state: tf.Tensor, \n",
        "    model: tf.keras.Model, \n",
        "    optimizer: tf.keras.optimizers.Optimizer, \n",
        "    gamma: float, \n",
        "    max_steps_per_episode: int) -> tf.Tensor:\n",
        "\n",
        "\n",
        "  with tf.GradientTape() as tape:\n",
        "\n",
        "\n",
        "    action_probs, values, rewards = run_episode(\n",
        "        initial_state, model, max_steps_per_episode) \n",
        "\n",
        "\n",
        "    returns = get_expected_return(rewards, gamma)\n",
        "\n",
        "\n",
        "    action_probs, values, returns = [\n",
        "        tf.expand_dims(x, 1) for x in [action_probs, values, returns]] \n",
        "\n",
        "\n",
        "    loss = compute_loss(action_probs, values, returns)\n",
        "\n",
        "\n",
        "  grads = tape.gradient(loss, model.trainable_variables)\n",
        "\n",
        "\n",
        "  optimizer.apply_gradients(zip(grads, model.trainable_variables))\n",
        "\n",
        "  episode_reward = tf.math.reduce_sum(rewards)\n",
        "\n",
        "  return episode_reward"
      ],
      "metadata": {
        "id": "6RfDSjKuJJm8"
      },
      "execution_count": 62,
      "outputs": []
    },
    {
      "cell_type": "code",
      "source": [
        "%%time\n",
        "\n",
        "min_episodes_criterion = 100\n",
        "max_episodes = 10000\n",
        "max_steps_per_episode = 1000\n",
        "\n",
        "\n",
        "reward_threshold = 195\n",
        "running_reward = 0\n",
        "\n",
        "\n",
        "gamma = 0.99\n",
        "\n",
        "\n",
        "episodes_reward: collections.deque = collections.deque(maxlen=min_episodes_criterion)\n",
        "\n",
        "with tqdm.trange(max_episodes) as t:\n",
        "  for i in t:\n",
        "    initial_state = tf.constant(env.reset(), dtype=tf.float32)\n",
        "    episode_reward = int(train_step(\n",
        "        initial_state, model, optimizer, gamma, max_steps_per_episode))\n",
        "    \n",
        "    episodes_reward.append(episode_reward)\n",
        "    running_reward = statistics.mean(episodes_reward)\n",
        "  \n",
        "    t.set_description(f'Episode {i}')\n",
        "    t.set_postfix(\n",
        "        episode_reward=episode_reward, running_reward=running_reward)\n",
        "  \n",
        "\n",
        "    if i % 10 == 0:\n",
        "      pass \n",
        "  \n",
        "    if running_reward > reward_threshold and i >= min_episodes_criterion:  \n",
        "        break\n",
        "\n",
        "print(f'\\nSolved at episode {i}: average reward: {running_reward:.2f}!')"
      ],
      "metadata": {
        "colab": {
          "base_uri": "https://localhost:8080/"
        },
        "id": "cG3tLp22JKcr",
        "outputId": "1052a4c8-c455-45bb-d2a5-ba1bddd966bb"
      },
      "execution_count": 63,
      "outputs": [
        {
          "output_type": "stream",
          "name": "stderr",
          "text": [
            "Episode 425:   4%|▍         | 425/10000 [00:32<12:08, 13.14it/s, episode_reward=200, running_reward=196]"
          ]
        },
        {
          "output_type": "stream",
          "name": "stdout",
          "text": [
            "\n",
            "Solved at episode 425: average reward: 195.53!\n",
            "CPU times: user 42.5 s, sys: 1.8 s, total: 44.3 s\n",
            "Wall time: 32.3 s\n"
          ]
        },
        {
          "output_type": "stream",
          "name": "stderr",
          "text": [
            "\n"
          ]
        }
      ]
    },
    {
      "cell_type": "code",
      "source": [
        "\n",
        "\n",
        "from IPython import display as ipythondisplay\n",
        "from PIL import Image\n",
        "from pyvirtualdisplay import Display\n",
        "\n",
        "\n",
        "display = Display(visible=0, size=(400, 300))\n",
        "display.start()\n",
        "\n",
        "\n",
        "def render_episode(env: gym.Env, model: tf.keras.Model, max_steps: int): \n",
        "  screen = env.render(mode='rgb_array')\n",
        "  im = Image.fromarray(screen)\n",
        "\n",
        "  images = [im]\n",
        "  \n",
        "  state = tf.constant(env.reset(), dtype=tf.float32)\n",
        "  for i in range(1, max_steps + 1):\n",
        "    state = tf.expand_dims(state, 0)\n",
        "    action_probs, _ = model(state)\n",
        "    action = np.argmax(np.squeeze(action_probs))\n",
        "\n",
        "    state, _, done, _ = env.step(action)\n",
        "    state = tf.constant(state, dtype=tf.float32)\n",
        "\n",
        "\n",
        "    if i % 10 == 0:\n",
        "      screen = env.render(mode='rgb_array')\n",
        "      images.append(Image.fromarray(screen))\n",
        "  \n",
        "    if done:\n",
        "      break\n",
        "  \n",
        "  return images\n",
        "\n",
        "\n",
        "\n",
        "images = render_episode(env, model, max_steps_per_episode)\n",
        "image_file = 'cartpole-v0.gif'\n",
        "\n",
        "images[0].save(\n",
        "    image_file, save_all=True, append_images=images[1:], loop=0, duration=1)"
      ],
      "metadata": {
        "id": "iG9Cqsh_JOFY"
      },
      "execution_count": 64,
      "outputs": []
    },
    {
      "cell_type": "code",
      "source": [
        "import tensorflow_docs.vis.embed as embed\n",
        "embed.embed_file(image_file)"
      ],
      "metadata": {
        "colab": {
          "base_uri": "https://localhost:8080/",
          "height": 422
        },
        "id": "A-veEm1LJRY3",
        "outputId": "53797c60-b33d-43f2-ecad-7f7b77a35336"
      },
      "execution_count": 65,
      "outputs": [
        {
          "output_type": "execute_result",
          "data": {
            "text/plain": [
              "<IPython.core.display.HTML object>"
            ],
            "text/html": [
              "<img src=\"data:image/gif;base64,R0lGODlhWAKQAYIAAAAAAMyZZmZmzJmZzP///wAAAAAAAAAAACH/C05FVFNDQVBFMi4wAwEAAAAsAAAAAFgCkAEACP8ACQgcSLCgwYMIEypcyLChw4cQI0qcSLGixYsYM2rcyLGjx48gQ4ocSbKkyZMoU6pcybKly5cwY8qcSbOmzZs4c+rcybOnz59AgwodSrSo0aNIkypdyrSp06dQo0qdSrWq1atYs2rdyrWr169gw4odS7as2bNo06pdy7at27dw48qdS7eu3bt48+rdy7ev37+AAwseTLiw4cOIEytezLix48eQI0ueTLmy5cuYM2vezLmz58+gQ4seTbq06dOoU6tezbq169ewY8ueTbu27du4c+vezbu379/AgwsfTry48ePIkytfzry58+fQo0ufTr269evYs2vfzr279+/gw4v/H0++vPnz6NOrX8++vfv38OPLn0+/vv37+PPr38+/v3+ABAQOJFjQ4EGECRUuZNjQ4UOIESVOpFjR4kWMGTVu5NjR40eQIUWOJFnS5EmUKVWuZNnS5UuYMWXOpFnT5k2cOXXu5NnT50+gQYUOJVrU6FGkSZUuZdrU6VOoUaVOpVrV6lWsWbVu5drV61ewYcWOJVvW7Fm0adWuZdvW7Vu4ceXOpVvX7l28efXu5dvX71/AgQUPJlzY8GHEiRUvZtzY8WPIkSVPplzZ8mXMmTVv5tzZ82fQoUWPJl3a9GnUqVWvZt3a9WvYsWXPpl3b9m3cuXXv5t3b92/gwYUPJ17c//hx5MmVL2fe3Plz6NGlT6de3fp17Nm1b+fe3ft38OHFjydf3vx59OnVr2ff3v17+PHlz6df3/59/Pn17+ff3z9AAgIHEixo8CDChAoXMmzo8CHEiBInUqxo8SLGjBo3cuzo8SPIkCJHkixp8iTKlCpXsmzp8iXMmDJn0qxp8ybOnDp38uzp8yfQoEKHEi1q9CjSpEqXMm3q9CnUqFKnUq1q9SrWrFq3cu3q9SvYsGLHki1r9izatGrXsm3r9i3cuHLn0q1r9y7evHr38u3r9y/gwIIHEy5s+DDixIoXM27s+DHkyJInU65s+TLmzJo3c+7s+TPo0KJHky5t+jTq1P+qV7Nu7fo17NiyZ9Oubfs27ty6d/Pu7fs38ODChxMvbvw48uTKlzNv7vw59OjSp1Ovbv069uzat3Pv7v07+PDix5Mvb/48+vTq17Nv7/49/Pjy59Ovb/8+/vz69/Pv7x8gAYEDCRY0eBBhQoULGTZ0+BBiRIkTKVa0eBFjRo0bOXb0+BFkSJEjSZY0eRJlSpUrWbZ0+RJmTJkzada0eRNnTp07efb0+RNoUKFDiRY1ehRpUqVLmTZ1+hRqVKlTqVa1ehVrVq1buXb1+hVsWLFjyZY1exZtWrVr2bZ1+xZu1gBz5xKwexdvXr17+fb1+xdwYMGDCRc2fBhxYsWLGTf/dvwYcmTJkylXthwAc2bNBDh39vwZdGjRo0mXNn0adWrVq1m3dv0admzZs2nXtn0bd27du28H8P0bOAHhw4kXN34ceXLly5k3d/4cenTp06lXt34de3bt27l39/4dfPjuAciXN08AfXr169m3d/8efnz58+nXt38ff379+/n39w+QgMCBBAsaPIgwocKFDBs6fAgxosSJFCtavOgwgMaNHAl4/AgypMiRJEuaPIkypcqVLFu6fAkzpsyZNGvavIkzp86dPHvmDAA0qFACRIsaPYo0qdKlTJs6fQo1qtSpVKtavYo1q9atXLt6/Qo2rNixXwOYPYuWgNq1bNu6fQs3/67cuXTr2r2LN6/evXz7+v0LOLDgwYQLGz6MOHHhAIwbOyYAObLkyZQrW76MObPmzZw7e/4MOrTo0aRLmz6NOrXq1axbu369OoDs2bQJ2L6NO7fu3bx7+/4NPLjw4cSLGz+OPLny5cybO38OPbr06dSrRw+APbt2Aty7e/8OPrz48eTLmz+PPr369ezbu38PP778+fTr27+PP7/+/fcD+AcYQODAAAQMHkSYUOFChg0dPoQYUeJEihUtXsSYUeNGjh09fgQZUuRIkiVDBkCZUiUBli1dvoQZU+ZMmjVt3sSZU+dOnj19/gQaVOhQokWNHkWaVOnSowGcPoVKQOpUqv9VrV7FmlXrVq5dvX4FG1bsWLJlzZ5Fm1btWrZt3b6FG7dtALp17RLAm1fvXr59/f4FHFjwYMKFDR9GnFjxYsaNHT+GHFnyZMqVLV+eHEDzZs4EPH8GHVr0aNKlTZ9GnVr1atatXb+GHVv2bNq1bd/GnVv3bt69cwcAHlw4AeLFjR9Hnlz5cubNnT+HHl36dOrVrV/Hnl37du7dvX8HH178+O8BzJ9HT0D9evbt3b+HH1/+fPr17d/Hn1//fv79/QMkIHAgwYIGDyJMqHAhw4YOH0KMKHEixYoWL2LMyDAAx44eCYAMKXIkyZImT6JMqXIly5YuX8KMKXMmzZo2b+L/zKlzJ8+ePn/uDCB0KFECRo8iTap0KdOmTp9CjSp1KtWqVq9izap1K9euXr+CDSt2LNmyYQOgTauWANu2bt/CjSt3Lt26du/izat3L9++fv8CDix4MOHChg8jTqx48eEAjh9DJiB5MuXKli9jzqx5M+fOnj+DDi16NOnSpk+jTq16NevWrl/Djt06AO3atgngzq17N+/evn8DDy58OPHixo8jT658OfPmzp9Djy59OvXq1q9PD6B9O3cC3r+DDy9+PPny5s+jT69+Pfv27t/Djy9/Pv369u/jz69/P//++QEGEDiQIAGDBxEmVLiQYUOHDyFGlDiRYkWLFzFm1LiR/2NHjx9BhhQ5kmTJkAFQplRJgGVLly9hxpQ5k2ZNmzdx5tS5k2dPnz+BBhU6lGhRo0eRJlW69GgAp0+hEpA6lWpVq1exZtW6lWtXr1/BhhU7lmxZs2fRplW7lm1bt2/hxm0bgG5duwTw5tW7l29fv38BBxY8mHBhw4cRJ1a8mHFjx48hR5Y8mXJly5cnB9C8mTMBz59BhxY9mnRp06dRp1a9mnVr169hx5Y9m3Zt27dx59a9m3fv3AGABxdOgHhx48eRJ1e+nHlz58+hR5c+nXp169exZ9e+nXt379/Bhxc//nsA8+fRE1C/nn179+/hx5c/n359+/fx59e/n39///8ACQgcSLCgwYMIEypcyLChw4cQI0qcSLGixYsYMzIMwLGjRwIgQ4ocSbKkyZMoU6pcybKly5cwY8qcSbOmzZs4c+rcybOnz587AwgdSpSA0aNIkypdyrSp06dQo0qdSrWq1atYs2rdyrWr169gw4odS7Zs2ABo06olwLat27dw48qdS7eu3bt48+rdy7ev37+AAwseTLiw4cOIEytefDiA48eQCUieTLmy5cuYM2vezLmz58+gQ4seTbq06dOoU6tezbq169ewY7cOQLu2bQK4c+vezbu379/AgwsfTry48ePIkytfzry58+fQo0ufTr269evTA2jfzp2A9+/gw4v/H0++vPnz6NOrX8++vfv38OPLn0+/vv37+PPr38+/f36AAQQOJEjA4EGECRUuZNjQ4UOIESVOpFjR4kWMGTVu5NjR40eQIUWOJFkyZACUKVUSYNnS5UuYMWXOpFnT5k2cOXXu5NnT50+gQYUOJVrU6FGkSZUuPRrA6VOoBKROpVrV6lWsWbVu5drV61ewYcWOJVvW7Fm0adWuZdvW7Vu4cdsGoFvXLgG8efXu5dvX71/AgQUPJlzY8GHEiRUvZtzY8WPIkSVPplzZ8uXJATRv5kzA82fQoUWPJl3a9GnUqVWvZt3a9WvYsWXPpl3b9m3cuXXv5t07dwDgwYUTIF7c//hx5MmVL2fe3Plz6NGlT6de3fp17Nm1b+fe3ft38OHFj/8ewPx59ATUr2ff3v17+PHlz6df3/59/Pn17+ff3z9AAgIHEixo8CDChAoXMmzo8CHEiBInUqxo8SLGjAwDcOzokQDIkCJHkixp8iTKlCpXsmzp8iXMmDJn0qxp8ybOnDp38uzp8+fOAEKHEiVg9CjSpEqXMm3q9CnUqFKnUq1q9SrWrFq3cu3q9SvYsGLHki0bNgDatGoJsG3r9i3cuHLn0q1r9y7evHr38u3r9y/gwIIHEy5s+DDixIoXHw7g+DFkApInU65s+TLmzJo3c+7s+TPo0KJHky5t+jTq1P+qV7Nu7fo17NitA9CubZsA7ty6d/Pu7fs38ODChxMvbvw48uTKlzNv7vw59OjSp1Ovbv369ADat3Mn4P07+PDix5Mvb/48+vTq17Nv7/49/Pjy59Ovb/8+/vz69/Pvnx9gAIEDCRIweBBhQoULGTZ0+BBiRIkTKVa0eBFjRo0bOXb0+BFkSJEjSZYMGQBlSpUEWLZ0+RJmTJkzada0eRNnTp07efb0+RNoUKFDiRY1ehRpUqVLjwZw+hQqAalTqVa1ehVrVq1buXb1+hVsWLFjyZY1exZtWrVr2bZ1+xZu3LYB6Na1SwBvXr17+fb1+xdwYMGDCRc2fBhxYsWLGTf/dvwYcmTJkylXtnx5cgDNmzkT8PwZdGjRo0mXNn0adWrVq1m3dv0admzZs2nXtn0bd27du3n3zh0AeHDhBIgXN34ceXLly5k3d/4cenTp06lXt34de3bt27l39/4dfHjx478HMH8ePQH169m3d/8efnz58+nXt38ff379+/n39w+QgMCBBAsaPIgwocKFDBs6fAgxosSJFCtavIgxI8MAHDt6JAAypMiRJEuaPIkypcqVLFu6fAkzpsyZNGvavIkzp86dPHv6/LkzgNChRAkYPYo0qdKlTJs6fQo1qtSpVKtavYo1q9atXLt6/Qo2rNixZMuGDYA2rVoCbNu6fQs3/67cuXTr2r2LN6/evXz7+v0LOLDgwYQLGz6MOLHixYcDOH4MmYDkyZQrW76MObPmzZw7e/4MOrTo0aRLmz6NOrXq1axbu34NO3brALRr2yaAO7fu3bx7+/4NPLjw4cSLGz+OPLny5cybO38OPbr06dSrW78+PYD27dwJeP8OPrz48eTLmz+PPr369ezbu38PP778+fTr27+PP7/+/fz75wcYQOBAggQMHkSYUOFChg0dPoQYUeJEihUtXsSYUeNGjh09fgQZUuRIkiVDBkCZUiUBli1dvoQZU+ZMmjVt3sSZU+dOnj19/gQaVOhQokWNHkWaVOnSowGcPoVKQOpUqv9VrV7FmlXrVq5dvX4FG1bsWLJlzZ5Fm1btWrZt3b6FG7dtALp17RLAm1fvXr59/f4FHFjwYMKFDR9GnFjxYsaNHT+GHFnyZMqVLV+eHEDzZs4EPH8GHVr0aNKlTZ9GnVr1atatXb+GHVv2bNq1bd/GnVv3bt69cwcAHlw4AeLFjR9Hnlz5cubNnT+HHl36dOrVrV/Hnl37du7dvX8HH178+O8BzJ9HT0D9evbt3b+HH1/+fPr17d/Hn1//fv79/QMkIHAgwYIGDyJMqHAhw4YOH0KMKHEixYoWL2LMyDAAx44eCYAMKXIkyZImT6JMqXIly5YuX8KMKXMmzZo2b+L/zKlzJ8+ePn/uDCB0KFECRo8iTap0KdOmTp9CjSp1KtWqVq9izap1K9euXr+CDSt2LNmyYAOgTauWANu2bt/CjSt3Lt26du/izat3L9++fv8CDix4MOHChg8jTqx48eEAjh9DJiB5MuXKli9jzqx5M+fOnj+DDi16NOnSpk+jTq16NevWrl/Djt06AO3atgngzq17N+/evn8DDy58OPHixo8jT658OfPmzp9Djy59OvXq1q9PD6B9O3cC3r+DDy9+PPny5s+jT69+Pfv27t/Djy9/Pv369u/jz69/P//++QEGEDiQIAGDBxEmVLiQYUOHDyFGlDiRYkWLFzFm1LiR/2NHjx9BhhQ5kmTJkAFQplRJgGVLly9hxpQ5k2ZNmzdx5tS5k2dPnz+BBhU6lGhRo0eRJlW69GgAp0+hEpA6lWpVq1exZtW6lWtXr1/BhhU7lmxZs2fRplW7lm1bt2/hxm0bgG5duwTw5tW7l29fv38BBxY8mHBhw4cRJ1a8mHFjx48hR5Y8mXJly5cnB9C8mTMBz59BhxY9mnRp06dRp1a9mnVr169hx5Y9m3Zt27dx59a9m3fv3AGABxdOgHhx48eRJ1e+nHlz58+hR5c+nXp169exZ9e+nXt379/Bhxc//nsA8+fRE1C/nn179+/hx5c/n359+/fx59e/n39///8ACQgcSLCgwYMIEypcyLChw4cQI0qcSLGixYsYMzIMwLGjRwIgQ4ocSbKkyZMoU6pcybKly5cwY8qcSbOmzZs4c+rcybOnz587AwgdSpSA0aNIkypdyrSp06dQo0qdSrWq1atYs2rdyrWr169gw4odS7Zs2ABo06olwLat27dw48qdS7eu3bt48+rdy7ev37+AAwseTLiw4cOIEytefDiA48eQCUieTLmy5cuYM2vezLmz58+gQ4seTbq06dOoU6tezbq169ewY7cOQLu2bQK4c+vezbu379/AgwsfTry48ePIkytfzry58+fQo0ufTr269evTA2jfzp2A9+/gw4v/H0++vPnz6NOrX8++vfv38OPLn0+/vv37+PPr38+/f36AAQQOJEjA4EGECRUuZNjQ4UOIESVOpFjR4kWMGTVu5NjR40eQIUWOJFkyZACUKVUSYNnS5UuYMWXOpFnT5k2cOXXu5NnT50+gQYUOJVrU6FGkSZUuPRrA6VOoBKROpVrV6lWsWbVu5drV61ewYcWOJVvW7Fm0adWuZdvW7Vu4cdsGoFvXLgG8efXu5dvX71/AgQUPJlzY8GHEiRUvZtzY8WPIkSVPplzZ8uXJATRv5kzA82fQoUWPJl3a9GnUqVWvZt3a9WvYsWXPpl3b9m3cuXXv5t07dwDgwYUTIF7c//hx5MmVL2fe3Plz6NGlT6de3fp17Nm1b+fe3ft38OHFj/8ewPx59ATUr2ff3v17+PHlz6df3/59/Pn17+ff3z9AAgIHEixo8CDChAoXMmzo8CHEiBInUqxo8SLGjAwDcOzokQDIkCJHkixp8iTKlCpXsmzp8iXMmDJn0qxp8ybOnDp38uzp8+fOAEKHEiVg9CjSpEqXMm3q9CnUqFKnUq1q9SrWrFq3cu3q9SvYsGLHki0bNgDatGoJsG3r9i3cuHLn0q1r9y7evHr38u3r9y/gwIIHEy5s+DDixIoXHw7g+DFkApInU65s+TLmzJo3c+7s+TPo0KJHky5t+jTq1P+qV7Nu7fo17NitA9CubZsA7ty6d/Pu7fs38ODChxMvbvw48uTKlzNv7vw59OjSp1Ovbv369ADat3Mn4P07+PDix5Mvb/48+vTq17Nv7/49/Pjy59Ovb/8+/vz69/Pvnx9gAIEDCRIweBBhQoULGTZ0+BBiRIkTKVa0eBFjRo0bOXb0+BFkSJEjSZYMGQBlSpUEWLZ0+RJmTJkzada0eRNnTp07efb0+RNoUKFDiRY1ehRpUqVLjwZw+hQqAalTqVa1ehVrVq1buXb1+hVsWLFjyZY1exZtWrVr2bZ1+xZu3LYB6Na1SwBvXr17+fb1+xdwYMGDCRc2fBhxYsWLGTf/dvwYcmTJkylXtnx5cgDNmzkT8PwZdGjRo0mXNn0adWrVq1m3dv0admzZs2nXtn0bd27du3n3zh0AeHDhBIgXN34ceXLly5k3d/4cenTp06lXt34de3bt27l39/4dfHjx478HMH8ePQH169m3d/8efnz58+nXt38ff379+/n39w+QgMCBBAsaPIgwocKFDBs6fAgxosSJFCtavIgxI8MAHDt6JAAypMiRJEuaPIkypcqVLFu6fAkzpsyZNGvavIkzp86dPHv6/LkzgNChRAkYPYo0qdKlTJs6fQo1qtSpVKtavYo1q9atXLt6/Qo2rNixZMuGDYA2rVoCbNu6fQs3/67cuXTr2r2LN6/evXz7+v0LOLDgwYQLGz6MOLHixYcDOH4MmYDkyZQrW76MObPmzZw7e/4MOrTo0aRLmz6NOrXq1axbu34NO3brALRr2yaAO7fu3bx7+/4NPLjw4cSLGz+OPLny5cybO38OPbr06dSrW7/+G4D27dy7dw8APrx4AOTLmz9/noD69ezbu38PP778+fTr27+PP7/+/fz7+wdIQOBAggUNHkSYUOFChg0dPoQYUeJEihUtXqwIQONGjh07BgAZUiQAkiVNnjxJQOVKli1dvoQZU+ZMmjVt3sSZU+dOnj19/gQaVOhQokWNHkXqE8BSpk2dOg0QVepUAP9VrV7FipXAVq5dvX4FG1bsWLJlzZ5Fm1btWrZt3b6FG1fuXLp17d7Fm/ctAL59/f79GyDAAAEDBAwQECAAAMaNHT9+TEDyZMqVLV/GnFnzZs6dPX8GHVr0aNKlTZ9GnVr1atatXb+GbRrAbNq1bdsOIGCAgAECBggYEADAcOLFjRsnkFz5cubNnT+HHl36dOrVrV/Hnl37du7dvX8HH178ePLlzZ/vDkD9evbt2w8QMEDAAAEDBAwIAED/fv79+wMkIHAgwYIGDyJMqHAhw4YOH0KMKHEixYoWL2LMqHEjx44eP4K0CGAkyZImTQoYIGCAgAECBggYAGAmzZo2bRL/yKlzJ8+ePn8CDSp0KNGiRo8iTap0KdOmTp9CjSp1KtWqVq82BaB1K9euXQcIGCBggIABAgYIAKB2Ldu2bQnAjSt3Lt26du/izat3L9++fv8CDix4MOHChg8jTqx4MePGjgkDiCx5MmXKAgYIGCBggIABAgYACC16NGnSBE6jTq16NevWrl/Dji17Nu3atm/jzq17N+/evn8DDy58OPHiuwEgT658+fIBAgYIGCBggIABAQBgz659+3YC3r+DDy9+PPny5s+jT69+Pfv27t/Djy9/Pv369u/jz69/P3/5AAACEDiQYEGCAQYIGCBggIABAgIAkDiRYsWKBDBm1LiR/2NHjx9BhhQ5kmRJkydRplS5kmVLly9hxpQ5k2ZNmywB5NS5kyfPAAEEDBAwQMCAAAEAJFW6lClTAk+hRpU6lWpVq1exZtW6lWtXr1/BhhU7lmxZs2fRplW7lm3bsQDgxpU7l67cAHfvAtC7l2/fvgQABxY8mHBhw4cRJ1a8mHFjx48hR5Y8mXJly5cxZ9a8mXNnz5QBhBY9mnRp06dRkyawmnVr169hx5Y9m3Zt27dx59a9m3dv37+BBxc+nHhx48eRJ/8NgHlz58+hR5c+/TkB69exZ9e+nXt379/Bhxc/nnx58+e7A1C/nn179+/hx5c/n359+/fx59e/n39///8AAQgcSLCgwYMIEypcyLChw4cQI0qcSLGixYsYM1okwLGjx48gQ4ocSbKkyZMoU6pcybKly5cwY8qcSROAzZs4c+rcybNnTgJAgwodSrSo0aNIkypdyrSp06dQo0qdSrWq1atYs2rdyrWrV6oAwoodS7as2bNoyRJYy7at27dw48qdS7eu3bt48+rdy7ev37+AAwseTLiw4cOIE/8FwLix48eQI0ue/JiA5cuYM2vezLmz58+gQ4seTbq06dOoU6tezbq169ewY8ueTVs1gNu4c+vezbu3b90EggsfTry48ePIkytfzry58+fQo0ufTr269evYs2vfzr279+/VAYj/H0++vPnz6NOXJ8C+vfv38OPLn0+/vv37+PPr38+/v3+ABAQOJFjQ4EGECRUuZNjQ4UOIESVOpFjR4kWMGR8C4NjR40eQIUWO/EjA5EmUKVWuZNnS5UuYMWXOpFnT5k2cOXXu5NnT50+gQYUOJaoTwFGkSZUuZdrUqVICUaVOpVrV6lWsWbVu5drV61ewYcWOJVvW7Fm0adWuZdvW7duyAOTOpVvX7l28eesS4NvX71/AgQUPJlzY8GHEiRUvZtzY8WPIkSVPplzZ8mXMmTVDBtDZ82fQoUWPJg2awGnUqVWvZt3a9WvYsWXPpl3b9m3cuXXv5t3b92/gwYUPJ158/zcA5MmVL2fe3Pnz5QSkT6de3fp17Nm1b+fe3ft38OHFjydf3vx59OnVr2ff3v17+OYBzKdf3/59/Pn12yfQ3z9AAgIHEixo8CDChAoXMmzo8CHEiBInUqxo8SLGjBo3cuzo8SNIiABGkixp8iTKlCpNEmjp8iXMmDJn0qxp8ybOnDp38uzp8yfQoEKHEi1q9CjSpEqXBgXg9CnUqFKnUq0alQDWrFq3cu3q9SvYsGLHki1r9izatGrXsm3r9i3cuHLn0q1rly2AvHr38u3r9y9gvgQGEy5s+DDixIoXM27s+DHkyJInU65s+TLmzJo3c+7s+TPo0KJHky5t+jTq1P+qV7Nu7fo17NiyZ9Oubfs27ty6d/Pu7fs38ODChxMvbvw48uTKlzNv7vw59OjSp1Ovbv069uzat3Pv7v07+PDix5Mvb/48+vTq17Nv7/49/Pjy59Ovb/8+/vz69/Pv7x8gAYEDCRY0eBBhQoULGTZ0+BBiRIkTKVa0eBFjRo0bOXb0+BFkSJEjSZY0eRJlSpUrWbZ0+RJmTJkzada0eRNnTp07efb0+RNoUKFDiRY1ehRpUqVLmTZ1+hRqVKlTqVa1ehVrVq1buXb1+hVsWLFjyZY1exZtWrVr2bZ1+xZuXLlz6da1exdvXr17+fb1+xdwYMGDCRc2fBhxYsWLGTf/dvwYcmTJkylXtnwZc2bNmzl39vwZdGjRo0mXNn0adWrVq1m3dv0admzZs2nXtn0bd27du3n39v0beHDhw4kXN34ceXLly5k3d/4cenTp06lXt34de3bt27l39/4dfHjx48mXN38efXr169m3d/8efnz58+nXt38ff379+/n39w+QgMCBBAsaPIgwocKFDBs6fAgxosSJFCtavIgxo8aNHDt6/AgypMiRJEuaPIkypcqVLFu6fAkzpsyZNGvavIkzp86dPHv6/Ak0qNChRIsaPYo0qdKlTJs6fQo1qtSpVKtavYo1q9atXLt6/Qo2rNixZMuaPYs2rdq1bNu6fQs3Kq7cuXTr2r2LN6/evXz7+v0LOLDgwYQLGz6MOLHixYwbO34MObLkyT0DAgAh/wtORVRTQ0FQRTIuMAMBAAAALBMBrAB+AI8AggAAAMyZZmZmzJmZzP///wAAAAAAAAAAAAj/AAkIHEiwoEGBARIGIMCwocOHECNKnEixosWLGDMyDMCxo0cCIEOKHEmypMmTKFOqXMkyZYCXMGMSmEmzps2bOHPq3Mmzp8+fPAMIHUqUgNGjSJMqXcq0qdOnUKNKfRqgqtWrBLJq3cq1q9evYMOKHUu2rNgAaNOqJcC2rdu3cOPKnUu3rt27eOsG2Mu3L4G/gAMLHky4sOHDiBMrXow4gOPHkAlInky5suXLmDNr3sy5s+fNAUKLHk2gtOnTqFOrXs26tevXsGO7DkC7tm0CuHPr3s27t+/fwIMLH048eIDjyJMTWM68ufPn0KNLn069uvXr1ANo386dgPfv4MOL/x9Pvrz58+jTqz8foL379wTiy59Pv779+/jz69/Pv79+gAEEDiRIwOBBhAkVLmTY0OFDiBElPgxQ0eJFAhk1buTY0eNHkCFFjiRZUmQAlClVEmDZ0uVLmDFlzqRZ0+ZNnDUD7OTZk8BPoEGFDiVa1OhRpEmVLkUawOlTqASkTqVa1epVrFm1buXa1evWAGHFjiVQ1uxZtGnVrmXb1u1buHHbBqBb1y4BvHn17uXb1+9fwIEFDyYcOMBhxIkJLGbc2PFjyJElT6Zc2fJlygE0b+ZMwPNn0KFFjyZd2vRp1KlVnw7Q2vVrArFlz6Zd2/Zt3Ll17+bdW3cA4MGFEyBe3P/4ceTJlS9n3tz5c+jNA0ynXp3AdezZtW/n3t37d/DhxY8HH8D8efQE1K9n3979e/jx5c+nX9/+/AD59e8n0N8/QAICBxIsaPAgwoQKFzJs6LBggIgSJxKoaPEixowaN3Ls6PEjyJAeA5AsaZIAypQqV7Js6fIlzJgyZ9KMGeAmzpwEdvLs6fMn0KBChxItavQo0QBKlzIl4PQp1KhSp1KtavUq1qxarwbo6vUrgbBix5Ita/Ys2rRq17JtqzYA3LhyCdCta/cu3rx69/Lt6/cv4L4BBhMuTOAw4sSKFzNu7Pgx5MiSJ0MOYPkyZgKaN3Pu7Pkz6NCiR5MubXp0gNT/qlcTaO36NezYsmfTrm37Nu7ctgPw7u2bAPDgwocTL278OPLkypczTx7gOfToBKZTr279Ovbs2rdz7+79O/cA4seTJ2D+PPr06tezb+/+Pfz48t8HqG//PoH8+vfz7+8fIAGBAwkWNHgQYUKFCxkqDPAQYkQCEylWtHgRY0aNGzl29PiRYwCRI0kSMHkSZUqVK1m2dPkSZkyZLwPUtHmTQE6dO3n29PkTaFChQ4kWFRoAaVKlBJg2dfoUalSpU6lWtXoVa9UAW7l2JfAVbFixY8mWNXsWbVq1a9EGcPsWLgG5c+nWtXsXb169e/n29bs3QGDBgwkUNnwYcWLFixk3/3b8GHJkxwEoV7ZMAHNmzZs5d/b8GXRo0aNJhw5wGnVqAqtZt3b9GnZs2bNp17Z9m3YA3bt5E/D9G3hw4cOJFzd+HHly5ccDNHf+nEB06dOpV7d+HXt27du5d9ceAHx48QTIlzd/Hn169evZt3f/Hn77APPp1ydwH39+/fv59/cPkIDAgQQLGjyIMKHChQUDOHwIkYDEiRQrWryIMaPGjRw7etwYIKTIkQRKmjyJMqXKlSxbunwJM6bLADRr2iSAM6fOnTx7+vwJNKjQoUSDBjiKNCmBpUybOn0KNarUqVSrWr1KNYDWrVwJeP0KNqzYsWTLmj2LNq3aswHaun1LIP+u3Ll069q9izev3r18++oNADiwYAKECxs+jDix4sWMGzt+DJlxgMmUKxO4jDmz5s2cO3v+DDq06NGgA5g+jZqA6tWsW7t+DTu27Nm0a9ueHSC37t0Eevv+DTy48OHEixs/jjy58QDMmzsnAD269OnUq1u/jj279u3cswf4Dj48gfHky5s/jz69+vXs27t/zz6A/Pn0Cdi/jz+//v38+/sHSEDgQIIFDR5EmFChwQANHT4kEFHiRIoVLV7EmFHjRo4dNQYAGVIkAZIlTZ5EmVLlSpYtXb6E2TLATJo1CdzEmVPnTp49ff4EGlToUKABjB5FSkDpUqZNnT6FGlXqVKr/Va1ODZBV61YCXb1+BRtW7FiyZc2eRZvWbAC2bd0SgBtX7ly6de3exZtX716+eQP8BRyYwGDChQ0fRpxY8WLGjR0/ZhxA8mTKBCxfxpxZ82bOnT1/Bh1a9OcApU2fJpBa9WrWrV2/hh1b9mzatWUHwJ1bNwHevX3/Bh5c+HDixY0fR148wHLmzQk8hx5d+nTq1a1fx55d+3bsAbx/B09A/Hjy5c2fR59e/Xr27d2vDxBf/nwC9e3fx59f/37+/f0DJCBwIMGCBg8iTFgwAMOGDglAjChxIsWKFi9izKhxI8eMAT6CDElgJMmSJk+iTKlyJcuWLl+yDCBzJk0CNm/i/8ypcyfPnj5/Ag0q9GeAokaPEkiqdCnTpk6fQo0qdSrVqlIDYM2qlQDXrl6/gg0rdizZsmbPoi0bYC3btgTewo0rdy7dunbv4s2rdy/eAH7/AiYgeDDhwoYPI06seDHjxo4XB4gseTKBypYvY86seTPnzp4/gw7tOQDp0qYJoE6tejXr1q5fw44tezbt2AFu485NYDfv3r5/Aw8ufDjx4saPEw+gfDlzAs6fQ48ufTr16tavY8+u/XqA7t6/Ewgvfjz58ubPo0+vfj379uoDwI8vnwD9+vbv48+vfz///v4BEhA4kGBBgwcRCgywkGFDAg8hRpQ4kWJFixcxZtS4Ef9jAI8fQRIQOZJkSZMnUaZUuZJlS5crA8SUOZNATZs3cebUuZNnT58/gQb1GYBoUaMEkCZVupRpU6dPoUaVOpVq1ABXsWYlsJVrV69fwYYVO5ZsWbNnyQZQu5YtAbdv4caVO5duXbt38ebVezdAX79/CQQWPJhwYcOHESdWvJhxY8UBIEeWTIByZcuXMWfWvJlzZ8+fQXcOMJp0aQKnUadWvZp1a9evYceWPft1ANu3cRPQvZt3b9+/gQcXPpx4cePDAyRXvpxAc+fPoUeXPp16devXsWe3HoB7d+8EwIcXP558efPn0adXv559+gDv4ccnMJ9+ffv38efXv59/f///AAkIHEiwoEGCARIqXEigocOHECNKnEixosWLGDNaDMCxo0cCIEOKHEmypMmTKFOqXMkyZYCXMGMSmEmzps2bOHPq3Mmzp8+fPAMIHUqUgNGjSJMqXcq0qdOnUKNKfRqgqtWrBLJq3cq1q9evYMOKHUu2rNgAaNOqJcC2rdu3cOPKnUu3rt27eOsG2Mu3L4G/gAMLHky4sOHDiBMrXow4gOPHkAlInky5suXLmDNr3sy5c2UAoEOLHj06gOnTqAGoXs26dWsCsGPLnk27tu3buHPjBsC7t+/fvwMIH04cgPHjyJMnJ8C8ufPn0KNLn069OnUA2LNr3749gPfv4AGI/x9Pvnx5AujTq1/Pvr379/DjwwdAv779+/cDBBggYIAAgAMEBAgAwOBBhAkTEmDY0OFDiBElTqRYkSIAjBk1btwYQMAAAQMEDBAwIAAAlClVrlxJwOVLmDFlzqRZ0+ZNmwB07uTZs+cAAQMEDBAwQMAAAQCULmXatCkBqFGlTqVa1epVrFmxAuDa1evXrwIGCBggYICAAQIGAGDb1u3btwTkzqVb1+5dvHn17tULwO9fwIEDDxAwQMAAAQMEDBAAwPFjyJEjE6Bc2fJlzJk1b+bcmTMA0KFFjx4tYICAAQIGCBggYAAA2LFlz55NwPZt3Ll17+bd2/dv3wCEDydevP/4AAEDBAwQMEDAAAEApE+nXr06AezZtW/n3t37d/DhwQMgX978+fMBBggYIGCAgAECAgCgX9/+/fsE9O/n398/QAICBxIsaPAgwoQKATBs6PDhwwABBAwQMEDAgAABAHDs6PHjRwIiR5IsafIkypQqV6oE4PIlzJgyYQaoWRMAzpw6d+4k4PMn0KBChxItavSoUQBKlzJt6vQp1KhNCVCtavUq1qxat3LtyhUA2LBix5Ita/bsWAJq17Jt6/Yt3Lhy58oFYPcu3rx69/Lt6/cv4MCCBxMubDgvgcSKFzNu7Pgx5MiSIwOobPky5syaN3PGTOAz6NCiR5Mubfo06tP/AFazbu36NezYsl0TqG37Nu7cunfz7u27N4DgwocTL278OHLiBJYzb+78OfTo0qdTnw7gOvbs2rdz7+5dO4Hw4seTL2/+PPr06tMDaO/+Pfz48ufTh0/gPv78+vfz7+8fIAGBAwkWNHhwIACFCxk2dPgQYsSGBChWtHgRY0aNGzl25AgAZEiRI0mWNHlyJAGVK1m2dPkSZkyZM2UCsHkTZ06dO3n2zEkAaFChQ4kWNXoUaVKkAJg2dfoUalSpU58SsHoVa1atW7l29frVKwCxY8mWNXsWbdqyBNi2dfsWbly5c+nWpQsAb169e/n29ft3LwHBgwkXNnwYcWLFixUDMnD8GHJkyZMpV45MAHNmzZs5d/b8GXRo0ABIlzZ9GnVq1atPE3D9GnZs2bNp17Z923ZAACH/C05FVFNDQVBFMi4wAwEAAAAsJgGsABAAfgCCAAAAzJlmZmbMmZnM////AAAAAAAAAAAACP8ACQgcGCAAgYMIEyYMwLChQwIQIwaYSLEigYsYA2jcyJGAR48BQoocSaCkyQAoU6okwLJlgJcwYxKYSTOAzZs4CejcGaCnz58EggoNQLSoUQJIkwZYyrQpgadQA0idSpWA1asBsmrdSqCr1wBgw4olQLZsgLNo0xJYyzaA27dwCcidG6Cu3bsE8uoNwLevXwKAAwcYTLgwgcOIAyhezJiA48cBIkueTKCy5QCYM2smwLlzgM+gQxMYTTqA6dOoCaheHaC169cEYssOQLu2bQK4cwfYzbs3gd+/AwgfTpyA8eMBkitfTqC58wDQo0snQL16gOvYsxPYzj2A9+/gCYj/Hx+gvPnzBNKrD8C+vXsC8OMHmE+/PoH7+APo38+fgH+ABAQGIFjQIAGECQMsZNiQwEOIASROpEjA4sUAGTVuJNDRYwCQIUUSIFkywEmUKQmsZBnA5UuYBGTODFDT5k0COXUG4NnTJwGgQQMMJVqUwFGkAZQuZUrA6dMAUaVOJVDVagCsWbUS4No1wFewYQmMJRvA7Fm0BNSqDdDW7VsCceUGoFvXLgG8eQPs5duXwF/AAQQPJkzA8OEAiRUvJtDYcQDIkSUToFw5wGXMmQls5hzA82fQBESPDlDa9GkCqVUHYN3aNQHYsQPMpl2bwG3cAXTv5k3A9+8AwYUPJ1Dc/3gA5MmVE2DePMBz6NEJTKcewPp17AS0bw/Q3ft3AuHFByBf3jwB9OkDrGffnsB7+AHkz6dPwP79APn17yfQ3z/AAAIHEiRg8GCAhAoXEmjYMADEiBIJUKwY4CLGjAQ2cgzg8SNIAiJHBihp8iSBlCoDsGzpkgDMmAFm0qxJ4CbOADp38iTg82eAoEKHEihqNADSpEoJMG0a4CnUqASmUg1g9SpWAlq3Bujq9SuBsGIDkC1rlgDatAHWsm1L4C3cAHLn0iVg926AvHr3EujrNwDgwIIJEC4c4DDixAQWMw7g+DFkApInB6hs+TKBzJoDcO7smQDo0AFGky5N4DTqAP+qV7Mm4Pp1gNiyZxOoXTsA7ty6CfDuHeA38OAEhhMPYPw4cgLKlwdo7vw5gejSA1Cvbp0A9uwBtnPvTuA7+ADix5MnYP58gPTq1xNo7z4A/PjyCdCvH+A+/vwE9vMP4B9gAIEDAxAweDBAQoULCTR0GABiRIkEKFYMcBFjRgIbOQbw+BEkAZEiAQQweRIlAJUrA7R0+RJATJkBaNa0CQBnzgABBggYIGBAAKEAiBYNIGCAgAECBggIEABAVKkDBAwQMEDAAAEDAgDw+lXAAAEDBAwQMEBAAABr2Q4QMEDAAAEDBAwQAAAv3gACBggYIGCAgAECABQ2HGCAgAECBgguGCBgAADJkwMEGCBggIABAgYIAPAZdADRAgYIGCAgQAAAq1m3BhAANmwAs2kHBAAh/wtORVRTQ0FQRTIuMAMBAAAALBMBrAA1AI8AggAAAMyZZmZmzJmZzP///wAAAAAAAAAAAAj/AAkIHEiwoMGDAQIQWMiwocOHECNKfBigosWLBDJq3Mixo8ePHgOIHEmSgMmTKFOqXMlyZYCXMGMSmEmzps2bOHPiDMCzp08CQIMKHUq0qNGiAZIqXUqgqdOnUKNKnRo1gNWrWAlo3cq1q9evYL8GGEu2LIGzaNOqXcu2LdsAcOPKJUC3rt27ePPqzRugr9+/BAILHky4sOHDhgMoXsyYgOPHkCNLnkx5coDLmDMT2My5s+fPoEODDkC6tGkCqFOrXs26tevWAWLLnk2gtu3buHPr3q07gO/fwAkIH068uPHjyI8HWM68OYHn0KNLn069OvUA2LNrJ8C9u/fv4MOL/w8foLz58wTSq1/Pvr379+4DyJ9Pn4D9+/jz69/Pf38AgAEEDhxIwOBBhAkVLmS4MMBDiBEJTKRY0eJFjBkxBuDY0SMBkCFFjiRZ0mTJAClVriTQ0uVLmDFlzpQZwOZNnAR07uTZ0+dPoD8DDCValMBRpEmVLmXalGkAqFGlEqBa1epVrFm1Zg3Q1etXAmHFjiVb1uxZswHUrmVLwO1buHHlzqU7N8BdvHkJ7OXb1+9fwIEBByBc2DABxIkVL2bc2DHjAJElTyZQ2fJlzJk1b9YcwPNn0AREjyZd2vRp1KcDrGbdmsBr2LFlz6Zdm3YA3Ll1E+Dd2/dv4MGFBw9Q3P/4cQLJlS9n3tz5c+cBpE+nTsD6dezZtW/nvj3Ad/DhCYwnX978efTp0Qdg3949Afjx5c+nX99+/QD59e8n0N8/QAICBxIsaPAgQgIBFjJsSOAhxIgSJ1KsSDEAxowaCXDs6PEjyJAiQwYoafIkgZQqV7Js6fKlywAyZ9IkYPMmzpw6d/LcGeAn0KAEhhItavQo0qRIAzBt6pQA1KhSp1KtarVqgKxatxLo6vUr2LBix4oNYPYsWgJq17Jt6/Yt3LcB5tKtS+Au3rx69/LtyzcA4MCCCRAubPgw4sSKEwdo7PgxgciSJ1OubPmy5QCaN3Mm4Pkz6NCiR5MeHeA06tT/BFazbu36NezYsAPQrm2bAO7cunfz7u27d4DgwocTKG78OPLkypcnD+D8OXQC0qdTr279OvbrAbZz707gO/jw4seTL08+APr06gmwb+/+Pfz48uMHqG//PoH8+vfz7+8fIAGBAwkWDHAQYUICCxk2dPgQYkSIAShWtEgAY0aNGzl29NgxQEiRIwmUNHkSZUqVK1UGcPkSJgGZM2nWtHkT580AO3n2JPATaFChQ4kWJRoAaVKlBJg2dfoUalSpUQNUtXqVQFatW7l29frVawCxY8kSMHsWbVq1a9muDfAWblwCc+nWtXsXb168Afj29UsAcGDBgwkXNlw4QGLFiwk0/3b8GHJkyZMlB7B8GTMBzZs5d/b8GfTnAKNJlyZwGnVq1atZt2YdAHZs2QRo17Z9G3du3bkD9Pb9m0Bw4cOJFzd+3HgA5cuZE3D+HHp06dOpTw9wHXt2Atu5d/f+HXx48AHIlzdPAH169evZt3ffPkB8+fMJ1Ld/H39+/fv1B/APMIDAgQEIGDyIMKHChQwXBngIMSKBiRQrWryIMePFABw7eiQAMqTIkSRLmiwZIKXKlQRaunwJM6bMmTID2LyJk4DOnTx7+vwJ9GeAoUSLEjiKNKnSpUybMg0ANapUAlSrWr2KNavWrAG6ev1KIKzYsWTLmj1rNoDatWwJuH0LN/+u3Ll05wa4izcvgb18+/r9Czgw4ACECxsmgDix4sWMGztuHCCy5MkEKlu+jDmz5s2aA3j+DJqA6NGkS5s+jfp0gNWsWxN4DTu27Nm0a9MOgDu3bgK8e/v+DTy48OABihs/TiC58uXMmzt/7jyA9OnUCVi/jj279u3ctwf4Dj48gfHky5s/jz49+gDs27snAD++/Pn069uvHyC//v0E+vsHSEDgQIIFDR5ESCDAQoYNCTyEGFHiRIoVKQbAmFEjAY4dPX4EGVJkyAAlTZ4kkFLlSpYtXb50GUDmTJoEbN7EmVPnTp47A/wEGpTAUKJFjR5FmhRpAKZNnRKAGlXqVKr/Va1SDZBV61YCXb1+BRtW7FixAcyeRUtA7Vq2bd2+hfs2wFy6dQncxZtX716+ffkGABxYMAHChQ0fRpxYceIAjR0/JhBZ8mTKlS1fthxA82bOBDx/Bh1a9GjSowOcRp2awGrWrV2/hh0bdgDatW0TwJ1b927evX33DhBc+HACxY0fR55c+XLlAZw/h05A+nTq1a1LB5Bd+3bu3AN8Bx8ewHjy5c2bJ5AewHr27d27DxBf/nwA9e3fx4+fwH4A/f0DBCBwIEGCAQ4iTAhgIcOGDh0SiAhgIsWKFi0GCDBAwAABAwQECABgJMmSJk0SSAlgJcuWLl0GEDBAwAABAwQM/wgAYCfPnj59EggKYCjRokaNDhAwQMAAAQMEDAgAYCrVqlatEsgKYCvXrl69ChggYICAAQIGCBgAYC3btm7dEogLYC7dunbtDhAwQMAAAQMEDBAAYDDhwoYNE0gMYDHjxo4dCxggYICAAQIGCBgAYDPnzp49EwgNYDTp0qZNDxAwQMAAAQMEDAgAYDbt2rZtE8gNYDfv3r59BxggYICAAQIGCAgAYDnz5s6dE4gOYDr16tatBwggYICAAQIGBAgAYDz58ubNE0gPYD379u7ftw8gXz6A+vbv48dPYD+A/v4BAhA4kGBBgwcRIiSwEEBDhw8hRpQ4kWJFixcxXiSwEbxAR48fQYYUOZIkSAInAaRUuZJlS5cvYbIkMBNATZs3cebUuZMnTgI/AQQVOpRoUaNHkRIlsBRAU6dPoUaVOpUqVAJXAWTVupVrV69fwXIlMBZAWbNn0aZVu5YtWgJvAcSVO5duXbt38dIlsBdAX79/AQcWPJgwYAKHASRWvJhxY8ePITMmMBlAZcuXMWfWvJkzZgKfAYQWPZp0adOnUZMmsBpAa9evYceWPZs2bAK3AeTWvZt3b9+/gfMOCAAh/wtORVRTQ0FQRTIuMAMBAAAALBYBrAA5AI8AggAAAMyZZmZmzJmZzP///wAAAAAAAAAAAAj/AAkIHEiwoMGDBAIoDECgocOHECNKnEhxYoCLGDMS2Mixo8ePIEOK3BigpMmTBFKqXMmypcuXMFMGmEmzJoGbOHPq3Mmzp8+bAYIKHUqgqNGjSJMqXcq0aICnUKMSmEq1qtWrWLNqnRqgq9evBMKKHUu2rNmzaMMGWMu2LYG3cOPKnUu3rt23AfLq3Uugr9+/gAMLHky4b4DDiBMTWMy4sePHkCNLXhygsuXLBDJr3sy5s+fPoDMHGE26NIHTqFOrXs26tevTAWLLnk2gtu3buHPr3s27doDfwIMTGE68uPHjyJMrHx6gufPnBKJLn069uvXr2KMH2M69O4Hv4MOL/x9Pvrz57wHSq19PoL379/Djy59Pv32A+/jzE9jPv79/gAQEDiRY0OBBggEULmRIwOFDiBElTqRY0WEAjBk1EuDY0eNHkCFFjuQYwORJlARUrmTZ0uVLmDFVBqBZ0yYBnDl17uTZ0+dPnAGEDiVKwOhRpEmVLmXa1GgAqFGlEqBa1epVrFm1biUQwOtXsATEjiVb1uxZtGnFBmDb1i0BuHHlzqVb1+5duAH07uVLwO9fwIEFDyZc2G8AxIkVE2Dc2PFjyJElT2YcwPJlzAQ0b+bc2fNn0KE1ByBd2jQB1KlVr2bd2vVr1AFkz6ZNwPZt3Ll17+bd23YA4MGFEyBe3P/4ceTJlS8nHsD5c+gEpE+nXt36dezZpQfg3t07AfDhxY8nX978efAB1K9nT8D9e/jx5c+nX999APz59RPg398/QAICBxIsaPAgQgIBFjJsSOAhxIgSJ1KsaPFhgIwaNxLo6PEjyJAiR5LsGOAkypQEVrJs6fIlzJgyVwaoafMmgZw6d/Ls6fMn0JwBhhItSuAo0qRKlzJt6vRogKhSpxKoavUq1qxat3KtGuAr2LAExpIta/Ys2rRqxwZo6/Ytgbhy59Kta/cu3rgB9vLtS+Av4MCCBxMubPhvgMSKFxNo7Pgx5MiSJ1NuHOAy5swENnPu7Pkz6NCiNwcobfo0gdT/qlezbu36NezUAWbTrk3gNu7cunfz7u37doDgwocTKG78OPLkypczLx7gOfToBKZTr279Ovbs2qcH6O79O4Hw4seTL2/+PPrwAdazb0/gPfz48ufTr2//fYD8+vcT6O8fIAGBAwkWNHgQYcEACxk2JPAQYkSJEylWtPgwQEaNGwl09PgRZEiRI0l2DHASZUoCK1m2dPkSZkyZKwPUtHmTQE6dO3n29PkTaM4AQ4kWJXAUaVKlS5k2dXo0QFSpUwlUtXoVa1atW7lWDfAVbFgCY8mWNXsWbVq1YwO0dfuWQFy5c+nWtXsXb9wAe/n2JfAXcGDBgwkXNvw3QGLFiwk0/3b8GHJkyZMpNw5wGXNmAps5d/b8GXRo0ZsDlDZ9mkBq1atZt3b9GnbqALNp1yZwG3du3bt59/Z9O0Bw4cMJFDd+HHly5cuZFw/wHHp0AtOpV7d+HXt27dMDdPf+nUB48ePJlzd/Hn34AOvZtyfwHn58+fPp17f/PkB+/fsJ9PcPkIDAgQQLGjyIsGCAhQwbEngIMaLEiRQrWnwYIKPGjQQ6evwIMqTIkSQ7BjiJMiWBlSxbunwJM6bMlQFq2rxJIKfOnTx7+vwJNGeAoUSLEjiKNKnSpUybOj0aIKrUqQSqWr2KNavWrVyrBvgKNiyBsWTLmj2LNq3asQHaun1LIP+u3Ll069q9izdugL18+xL4Cziw4MGECxsmECCx4sUEGjt+DDmy5MmUGwe4jDkzgc2cO3v+DDq06M0BSps+TSC16tWsW7t+DTt1gNm0axO4jTu37t28e/u+HSC48OEEihs/jjy58uXMiwd4Dj06genUq1u/jj279ukBunv/TiC8+PHky5s/jz58gPXs2xN4Dz++/Pn069t/HyC//v0E+vsHSEDgQIIFDR5EWDDAQoYNCTyEGFHiRIoVLT4MkFHjRgIdPX4EGVLkSJIdA5xEmZLASpYtXb6EGVPmygA1bd4kkFPnTp49ff4EmjPAUKJFCRxFmlTpUqZNnR4NEFXqVAL/Va1exZpV61auVQN8BRuWwFiyZc2eRZtW7dgAbd2+JRBX7ly6de3exRs3wF6+fQn8BRxY8GDChQ3/DZBY8WICjR0/hhxZ8mTKjQNcxpyZwGbOnT1/Bh1a9OYApU2fJpBa9WrWrV2/hp06wGzatQncxp1b927evX3fDhBc+HACxY0fR55c+XLmxQM8hx6dwHTq1a1fx55d+/QA3b1/JxBe/Hjy5c2fRx8+wHr27Qm8hx9f/nz69e2/D5Bf/34C/f0DJCBwIMGCBg8iLBhgIcOGBB5CjChxIsWKFh8GyKhxI4GOHj+CDClyJMmOAU6iTElgJcuWLl/CjClzZYCaNm8S/8ipcyfPnj5/As0ZYCjRogSOIk2qdOlSAE6fQo0aNQDVqlYBYM2qdetWAl6/EgAgdizZsmUDoE2rFgDbtm7fviUgdy4BAHbv4s2bNwDfvn4BAA4sePBgAoYPEwCgeDHjxo0DBBggYICAAQICBACgeTPnzp0JgA5NAADp0qZPnw4gYICAAQIGCBgQAADt2rZv3yagezcBAL5/Aw8efICAAQIGCBggYEAAAM6fQ48enQD16gQAYM+ufft2AQMEDBAwQMAAAQMAoE+vfv16Au7fEwAgfz79+vUHCBggYICAAQIADhAAgGBBgwcPElC4kAAAhw8hRowoYICAAQIGCBggYP8AAI8fQYYMSYBkSQIAUKZUuXLlAAEDBAwQMEDAgAAAcObUuXMnAZ8/CQAQOpRo0aIBBggYIGCAgAECAgCQOpVq1aoEsGYlAIBrV69fvwYIIGCAgAECBgQIAIBtW7dv3xKQO5cAALt38ebVizdA374AAAcWPHgwAcOHCQBQvJhxY8ePIUduTIByZQIAMGfWvJlzZ8+fQYcWPZo0ZgKnURMAsJp1a9evYceW7ZpAbdsEAOTWvZt3b9+/gfMmMJw4AQDHkSdXvpx5c+fKCUSXTgBAdevXsWfXvp07dgLfwRMAMJ58efPn0adXb55Ae/cEAMSXP59+ffv38dMnsJ8/AQB8AAEIHEiwoMGDCBMSJMCwIQEAECNKnEixosWLEwlo3EgAgMePIEOKHEmyZEgCKFMSAMCypcuXMGPKnPmSgM2bBADo3Mmzp8+fQIP2JEC0KAEASJMqXcq0qdOnSwlInUoAgNWrWLNq3cq1a1YCYMMSAEC2rNmzaNOqXXs2IAAh/wtORVRTQ0FQRTIuMAMBAAAALB0BrAA5AI8AggAAAMyZZmZmzJmZzP///wAAAAAAAAAAAAj/AAkIHEiwoEGDARImJMCwocOHECNKnBgxgMWLGAlo3Mixo8ePIENqDECypEkCKFOqXMmypcuXKAPInEmTgM2bOHPq3Mmzp80AQIMKJUC0qNGjSJMqXUo0gNOnUAlInUq1qtWrWLNKDcC1q1cCYMOKHUu2rNmzYAOoXcuWgNu3cOPKnUu3rtsAePPqJcC3r9+/gAMLHsw3gOHDiAkoXsy4sePHkCMrDkC5smUCmDNr3sy5s+fPmAOIHk2agOnTqFOrXs26tekAsGPLJkC7tu3buHPr3k07gO/fwAkIH068uPHjyJMLD8C8uXMC0KNLn069uvXr0ANo386dgPfv4MOL/x9Pvrz3AOjTqyfAvr379/Djy5/PPoD9+/gJ6N/Pv79/gAQEDiRY0GDBAAkVLiTQ0OFDiBElTqTYMMBFjBkJbOTY0eNHkCFFbgxQ0uRJAilVrmTZ0uVLmCkDzKRZk8BNnDl17uTZ0+fNAEGFDiVQ1OhRpEmVLmVaNMBTqFEJTKVa1epVrFm1Tg3Q1etXAmHFjiVb1uxZtGEDrGXblsBbuHHlzqVb1+7bAHn17iXQ1+9fwIEFDybcN8BhxIkJLGbc2PFjyJElLw5Q2fJlApk1b+bc2fNn0JkDjCZdmsBp1KlVr2bd2vXpALFlzyZQ2/Zt3Ll17+ZdO8Bv4MEJDCde3P/4ceTJlQ8P0Nz5cwLRpU+nXt36dezRA2zn3p3Ad/DhxY8nX9789wDp1a8n0N79e/jx5c+n3z7Affz5Cezn398/QAICBxIsaPAgwQAKFzIk4PAhxIgSJ1Ks6DAAxowaCXDs6PEjyJAiR3IMYPIkSgIqV7Js6fIlzJgqA9CsaZMAzpw6d/Ls6fMnzgBChxIlYPQo0qRKlzJtajQA1KhSCVCtavUq1qxat1IN4PUrWAJix5Ita/Ys2rRiA7Bt65YA3Lhy59Kta/cu3AB69/Il4Pcv4MCCBxMu7DcA4sSKCTBu7Pgx5MiSJzMOYPkyZgKaN3Pu7Pkz6NCaA5AubZoA6tT/qlezbu36NeoAsmfTJmD7Nu7cunfz7m07APDgwgkQL278OPLkypcTD+D8OXQC0qdTr279Ovbs0gNw7+6dAPjw4seTL2/+PPgA6tezJ+D+Pfz48ufTr+8+AP78+gnw7+8fIAGBAwkWNHgQIYEACxk2JPAQYkSJEylWtPgwQEaNGwl09PgRZEiRI0l2DHASZUoCK1m2dPkSZkyZKwPUtHmTQE6dO3n29PkTaM4AQ4kWJXAUaVKlS5k2dXo0QFSpUwlUtXoVa1atW7lWDfAVbFgCY8mWNXsWbVq1YwO0dfuWQFy5c+nWtXsXb9wAe/n2JfAXcGDBgwkXNvw3QGLFiwk0/3b8GHJkyZMpNw5wGXNmAps5d/b8GXRo0ZsDlDZ9mkBq1atZt3b9GnbqALNp1yZwG3du3bt59/Z9O0Bw4cMJFDd+HHly5cuZFw/wHHp0AtOpV7d+HXt27dMDdPf+nUB48ePJlzd/Hn34AOvZtyfwHn58+fPp17f/PkB+/fsJ9PcPkIDAgQQLGjyIsGCAhQwbEngIMaLEiRQrWnwYIKPGjQQ6evwIMqTIkSQ7BjiJMiWBlSxbunwJM6bMlQFq2rxJIKfOnTx7+vwJNGeAoUSLEjiKNKnSpUybOj0aIKrUqQSqWr2KNavWrVyrBvgKNiyBsWTLmj2LNq3asQHaun1LIP+u3Ll069q9izdugL18+xL4Cziw4MGECxv+GyCx4sUEGjt+DDmy5MmUGwe4jDkzgc2cO3v+DDq06M0BSps+TSC16tWsW7t+DTt1gNm0axO4jTu37t28e/u+HSC48OEEihs/jjy58uXMiwd4Dj06genUq1u/jj279ukBunv/TiC8+PHky5s/jz58gPXs2xN4Dz++/Pn069t/HyC//v0E+vsHSEDgQIIFDR5EWDDAQoYNCTyEGFHiRIoVLT4MkFHjRgIdPX4EGVLkSJIdA5xEmZLASpYtXb6EGVPmygA1bd4kkFPnTp49ff4EmjPAUKJFCRxFmlTpUqZNnR4NEFXqVAL/Va1exZpV61auVQN8BRuWwFiyZc2eRZtW7dgAbd2+JRBX7ly6de3exRs3wF6+fQn8BRxY8GDChQ3/DZBY8WICjR0/hhxZ8mTKjQNcxpyZwGbOnT1/Bh1a9OYApU2fJpBa9WrWrV2/hp06wGzatQncxp1b927evX3fDhBc+HACxY0fR55c+XLmxQM8hx6dwHTq1a1fx55d+/QA3b1/JxBe/Hjy5c2fRx8+wHr27Qm8hx9f/nz69e2/D5Bf/34C/f0DJCBwIMGCBg8iLBhgIcOGBB5CjChxIsWKFh8GyKhxI4GOHj+CDClyJMmOAU6iTElgJcuWLl/CjClzZYCaNm8S/8ipcyfPnj5/As0ZYCjRogSOIk2qdOlSAE6fQo0aNQDVqlYBYM2qdetWAl6/EgAgdizZsmUDoE2rFgDbtm7fviUgdy4BAHbv4s2bNwDfvn4BAA4sePBgAoYPEwCgeDHjxo0DBBggYICAAQICBACgeTPnzp0JgA5NAADp0qZPnw4gYICAAQIGCBgQAADt2rZv3yagezcBAL5/Aw8efICAAQIGCBggYEAAAM6fQ48enQD16gQAYM+ufft2AQMEDBAwQMAAAQMAoE+vfv16Au7fEwAgfz79+vUHCBggYICAAQIADhAAgGBBgwcPElC4kAAAhw8hRowoYICAAQIGCBggYP8AAI8fQYYMSYBkSQIAUKZUuXLlAAEDBAwQMEDAgAAAcObUuXMnAZ8/CQAQOpRo0aIBBggYIGCAgAECAgCQOpVq1aoEsGYlAIBrV69fvwYIIGCAgAECBgQIAIBtW7dv3xKQO5cAALt38ebVizdA374AAAcWPHgwAcOHCQBQvJhxY8ePIUduTIByZQIAMGfWvJlzZ8+fQYcWPZo0ZgKnURMAsJp1a9evYceW7ZpAbdsEAOTWvZt3b9+/gfMmMJw4AQDHkSdXvpx5c+fKCUSXTgBAdevXsWfXvp07dgLfwRMAMJ58efPn0adXb55Ae/cEAMSXP59+ffv38dMnsJ8/AQB8AAEIHEiwoMGDCBMSJMCwIQEAECNKnEixosWLEwlo3EgAgMePIEOKHEmyZEgCKFMSAMCypcuXMGPKnPmSgM2bBADo3Mmzp8+fQIP2JEC0KAEASJMqXcq0qdOnSwlInUoAgNWrWLNq3cq1a1YCYMMSAEC2rNmzaNOqXXs2IAAh/wtORVRTQ0FQRTIuMAMBAAAALCQBrAA5AI8AggAAAMyZZmZmzJmZzP///wAAAAAAAAAAAAj/AAkIHEiwoMGDAwMoVEigocOHECNKnEixYYCLGDMS2Mixo8ePIEOK3BigpMmTBFKqXMmypcuXMFMGmEmzJoGbOHPq3Mmzp8+bAYIKHUqgqNGjSJMqXcq0aICnUKMSmEq1qtWrWLNqnRqgq9evBMKKHUu2rNmzaMMGWMu2LYG3cOPKnUu3rt23AfLq3Uugr9+/gAMLHky4b4DDiBMTWMy4sePHkCNLXhygsuXLBDJr3sy5s+fPoDMHGE26NIHTqFOrXs26tevTAWLLnk2gtu3buHPr3s27doDfwIMTGE68uPHjyJMrHx6gufPnBKJLn069uvXr2KMH2M69O4Hv4MOL/x9Pvrz57wHSq19PoL379/Djy59P332A+/jzE9jPv79/gAQEDiRY0OBBggEULmRIwOFDiBElTqRY0WEAjBk1EuDY0eNHkCFFjuQYwORJlARUrmTZ0uVLmDFVBqBZ0yYBnDl17uTZ0+dPnAGEDiVKwOhRpEmVLmXa1GgAqFGlEqBa1epVrFm1bqUawOtXsATEjiVb1uxZtGnFBmDb1i0BuHHlzqVb1+5duAH07uVLwO9fwIEFDyZc2G8AxIkVE2Dc2PFjyJElT2YcwPJlzAQ0b+bc2fNn0KE1ByBd2jQB1KlVr2bd2vVr1AFkz6ZNwPZt3Ll17+bd23YA4MGFEyBe3P/4ceTJlS8nHsD5c+gEpE+nXt36dezZpQfg3t07AfDhxY8nX978efAB1K9nT8D9e/jx5c+nX999APz59RPg398/QAICBxIsaPAgQgIBFjJsSOAhxIgSJ1KsaPFhgIwaNxLo6PEjyJAiR5LsGOAkypQEVrJs6fIlzJgyVwaoafMmgZw6d/Ls6fMn0JwBhhItSuAo0qRKlzJt6vRogKhSpxKoavUq1qxat3KtGuAr2LAExpIta/Ys2rRqxwZo6/Ytgbhy59Kta/cu3rgB9vLtS+Av4MCCBxMubPhvgMSKFxNo7Pgx5MiSJ1NuHOAy5swENnPu7Pkz6NCiNwcobfo0gdT/qlezbu36NezUAWbTrk3gNu7cunfz7u37doDgwocTKG78OPLkypczLx7gOfToBKZTr279Ovbs2qcH6O79O4Hw4seTL2/+PPrwAdazb0/gPfz48ufTr2//fYD8+vcT6O8fIAGBAwkWNHgQYcEACxk2JPAQYkSJEylWtPgwQEaNGwl09PgRZEiRI0l2DHASZUoCK1m2dPkSZkyZKwPUtHmTQE6dO3n29PkTaM4AQ4kWJXAUaVKlS5k2dXo0QFSpUwlUtXoVa1atW7lWDfAVbFgCY8mWNXsWbVq1YwO0dfuWQFy5c+nWtXsXb9wAe/n2JfAXcGDBgwkXNvw3QGLFiwk0/3b8GHJkyZMpNw5wGXNmAps5d/b8GXRo0ZsDlDZ9mkBq1atZt3b9GnbqALNp1yZwG3du3bt59/Z9O0Bw4cMJFDd+HHly5cuZFw/wHHp0AtOpV7d+HXt27dMDdPf+nUB48ePJlzd/Hn34AOvZtyfwHn58+fPp17f/PkB+/fsJ9PcPkIDAgQQLGjyIsGCAhQwbEngIMaLEiRQrWnwYIKPGjQQ6evwIMqTIkSQ7BjiJMiWBlSxbunwJM6bMlQFq2rxJIKfOnTx7+vwJNGeAoUSLEjiKNKnSpUybOj0aIKrUqQSqWr2KNavWrVyrBvgKNiyBsWTLmj2LNq3asQHaun1LIP+u3Ll069q9izdugL18+xL4Cziw4MGECxv+GyCx4sUEGjt+DDmy5MmUGwe4jDkzgc2cO3v+DDq06M0BSps+TSC16tWsW7t+DTt1gNm0axO4jTu37t28e/u+HSC48OEEihs/jjy58uXMiwd4Dj06genUq1u/jj279ukBunv/TiC8+PHky5s/jz58gPXs2xN4Dz++/Pn069t/HyC//v0E+vsHSEDgQIIFDR5EWDDAQoYNCTyEGFHiRIoVLT4MkFHjRgIdPX4EGVLkSJIdA5xEmZLASpYtXb6EGVPmygA1bd4kkFPnTp49ff4EmjPAUKJFCRxFmlTpUqZNnR4NEFXqVAL/Va1exZpV61auVQN8BRuWwFiyZc2eRZtW7dgAbd2+JRBX7ly6de3exRs3wF6+fQn8BRxY8GDChQ3/DZBY8WICjR0/hhxZ8mTKjQNcxpyZwGbOnT1/Bh1a9OYApU2fJpBa9WrWrV2/hp06wGzatQncxp1b927evX3fDhBc+HACxY0fR55c+XLmxQM8hx6dwHTq1a1fx55d+/QA3b1/JxBe/Hjy5c2fRx8+wHr27Qm8hx9f/nz69e2/D5Bf/34C/f0DJCBwIMGCBg8iLBhgIcOGBB5CjChxIsWKFh8GyKhxI4GOHj+CDClyJMmOAU6iTElgJcuWLl/CjClzZYCaNm8S/8ipcyfPnj5/As0ZYCjRogSOIk2qdOlSAE6fQo0aNQDVqlYBYM2qdetWAl6/EgAgdizZsmUDoE2rFgDbtm7fviUgdy4BAHbv4s2bNwDfvn4BAA4sePBgAoYPEwCgeDHjxo0DBBggYICAAQICBACgeTPnzp0JgA5NAADp0qZPnw4gYICAAQIGCBgQAADt2rZv3yagezcBAL5/Aw8efICAAQIGCBggYEAAAM6fQ48enQD16gQAYM+ufft2AQMEDBAwQMAAAQMAoE+vfv16Au7fEwAgfz79+vUHCBggYICAAQIADhAAgGBBgwcPElC4kAAAhw8hRowoYICAAQIGCBggYP8AAI8fQYYMSYBkSQIAUKZUuXLlAAEDBAwQMEDAgAAAcObUuXMnAZ8/CQAQOpRo0aIBBggYIGCAgAECAgCQOpVq1aoEsGYlAIBrV69fvwYIIGCAgAECBgQIAIBtW7dv3xKQO5cAALt38ebNG4AvXwB/AQcWPDgwAcOHCQBQvJhxY8ePIUduTIByZQIAMGfWvJlzZ8+fQYcWPZo0ZgKnURMAsJp1a9evYceW7ZpAbdsEAOTWvZt3b9+/gfMmMJw4AQDHkSdXvpx5c+fKCUSXTgBAdevXsWfXvp07dgLfwRMAMJ58efPn0adXb55Ae/cEAMSXP59+ffv38dMnsJ8/AQB8AAEIHEiwoMGDCBMSJMCwIQEAECNKnEixosWLEwlo3EgAgMePIEOKHEmyZEgCKFMSAMCypcuXMGPKnPmSgM2bBADo3Mmzp8+fQIP2JEC0KAEASJMqXcq0qdOnSwlInUoAgNWrWLNq3cq1a1YCYMMSAEC2rNmzaNOqXXs2IAAh/wtORVRTQ0FQRTIuMAMBAAAALCsBrAA4AI8AggAAAMyZZmZmzJmZzP///wAAAAAAAAAAAAj/AAkIHEiwoMGCARImJMCwocOHECNKnAgxgMWLGAlo3Mixo8ePIEMSCECypEkCKFOqXMmypcuXBALInEmTgM2bOHPq3MmzJ4EAQIMKJUC0qNGjSJMqXUoggNOnUAlInUq1qtWrWLMSCMC1q1cCYMOKHUu2rNmzBAKoXcuWgNu3cOPKnUu3LoEAePPqJcC3r9+/gAMLHkwggOHDiAkoXsy4sePHkCMTCEC5smUCmDNr3sy5s+fPBAKIHk2agOnTqFOrXs26NYEAsGPLJkC7tu3buHPr3k0ggO/fwAkIH068uPHjyJMTCMC8uXMC0KNLn069uvXrBAJo386dgPfv4MOL/x9PvjyBAOjTqyfAvr379/Djy59PIID9+/gJ6N/Pv79/gAQEDiRY0CDBAAkVLiTQ0OFDiBElTqRIIMBFjBkJbOTY0eNHkCFFEghQ0uRJAilVrmTZ0uVLmAQCzKRZk8BNnDl17uTZ0yeBAEGFDiVQ1OhRpEmVLmVKIMBTqFEJTKVa1epVrFm1EgjQ1etXAmHFjiVb1uxZtAQCrGXblsBbuHHlzqVb1y6BAHn17iXQ1+9fwIEFDyZMIMBhxIkJLGbc2PFjyJElEwhQ2fJlApk1b+bc2fNn0AQCjCZdmsBp1KlVr2bd2jWBALFlzyZQ2/Zt3Ll17+ZNIMBv4MEJDCde3P/4ceTJlRMI0Nz5cwLRpU+nXt36dewEAmzn3p3Ad/DhxY8nX948gQDp1a8n0N79e/jx5c+nTyDAffz5Cezn398/QAICBxIsaPDgwAAKFzIk4PAhxIgSJ1KsSCAAxowaCXDs6PEjyJAiRxIIYPIkSgIqV7Js6fIlzJgEAtCsaZMAzpw6d/Ls6fMngQBChxIlYPQo0qRKlzJtSiAA1KhSCVCtavUq1qxatxII4PUrWAJix5Ita/Ys2rQEArBt65YA3Lhy59Kta/cugQB69/Il4Pcv4MCCBxMuTCAA4sSKCTBu7Pgx5MiSJxMIYPkyZgKaN3Pu7Pkz6NAEApAubZoA6tT/qlezbu36NYEAsmfTJmD7Nu7cunfz7k0gAPDgwgkQL278OPLkypcTCOD8OXQC0qdTr279OvbsBAJw7+6dAPjw4seTL2/+PIEA6tezJ+D+Pfz48ufTr08gAP78+gnw7+8fIAGBAwkWNHgQYQCFCxkScPgQYkSJEylWJBAAY0aNBDh29PgRZEiRIwkEMHkSJQGVK1m2dPkSZkwCAWjWtEkAZ06dO3n29PmTQAChQ4kSMHoUaVKlS5k2JRAAalSpBKhWtXoVa1atWwkE8PoVLAGxY8mWNXsWbVoCAdi2dUsAbly5c+nWtXuXQAC9e/kS8PsXcGDBgwkXJhAAcWLFBBg3/3b8GHJkyZMJBLB8GTMBzZs5d/b8GXRoAgFIlzZNAHVq1atZt3b9mkAA2bNpE7B9G3du3bt59yYQAHhw4QSIFzd+HHly5csJBHD+HDoB6dOpV7d+HXt2AgG4d/dOAHx48ePJlzd/nkAA9evZE3D/Hn58+fPp1ycQAH9+/QT49/cPkIDAgQQLGjyIMIDChQwJOHwIMaLEiRQrEgiAMaNGAhw7evwIMqTIkQQCmDyJkoDKlSxbunwJMyaBADRr2iSAM6fOnTx7+vxJIIDQoUQJGD2KNKnSpUybEggANapUAlSrWr2KNavWrQQCeP0KloDYsWTLmj2LNi2BAGzbuiUAN/+u3Ll069q9SyCA3r18Cfj9Cziw4MGECxMIgDixYgKMGzt+DDmy5MkEAli+jJmA5s2cO3v+DDo0gQCkS5smgDq16tWsW7t+TSCA7Nm0Cdi+jTu37t28exMIADy4cALEixs/jjy58uUEAjh/Dp2A9OnUq1u/jj07gQDcu3snAD68+PHky5s/TyCA+vXsCbh/Dz++/Pn06xMIgD+/fgL8+/sHSEDgQIIFDR5EGEDhQoYEHD6EGFHiRIoVCQTAmFEjAY4dPX4EGVLkSAIBTJ5ESUDlSpYtXb6EGZNAAJo1bRLAmVPnTp49ff4kEEDoUKIEjB5FmlTpUqZNCQSAGlUqAar/Va1exZpV61YCAbx+BUtA7FiyZc2eRZuWQAC2bd0SgBtX7ly6de3eJRBA716+BPz+BRxY8GDChQkEQJxYMQHGjR0/hhxZ8mQCASxfxkxA82bOnT1/Bh2aQADSpU0TQJ1a9WrWrV2/JhBA9mzaBGzfxp1b927evQkEAB5cOAHixY0fR55c+XICAZw/h05A+nTq1a1fx56dQADu3b0TAB9e/Hjy5c2fJxBA/Xr2BNy/hx9f/nz69QkEwJ9fPwH+/f0DJCBwIMGCBg8iDKBwIUMCDh9CjChxIsWKBAJgzKiRAMeOHj+CDClyJIEAJk+iJKByJcuWLl/CjEkgAM2aNgng/8ypcyfPnj5/EgggdChRAkaPIk2qNCmApk6fQoUaYCrVqgCuYs2qVSuBrl4BgA0rduzYAGbPogWgdi3btm0JwI0LYC7dunbtBsirdy+Avn7/AgZMYDBhAIYPI06cOECAAQIGCBggIEAAAJYvY86cmQDnzgA+gw4tWnQAAQMEDBAwQMCAAABew44tWzaB2rYB4M6te/fuAQIGCBggYICAAQEAIE+ufPlyAs6fA4gufTp16gIGCBggYICAAQIGAAgvfjx58gTOowegfj379u0HCBggYICAAQIGCACgfz///v0BEhA4EEBBgwcRIhQwQMAAAQMEDBAwAEBFixcxYiSwkf8jAI8fQYYMOUDAAAEDBAwQMCAAAJcvYcaMSYBmTQA3cebUqTPAAAEDBAwQMEBAAABHkSZVqpRAU6cAoEaVOnVqgAACBggYIGBAgAAAwIYVO3YsAbNnAaRVu5Zt27UB4MIFMJduXbt2CeTVC4BvX79/AQcWPPgvAcOHASRWvJhxY8ePIUeWPJlyZQAEMGcGsJlzZ8+fQYcW7ZlAadMAUKdWvZp1a9evVxOQPRtAbdu3cefWvZs3bgK/gQMQPpx4cePHkScvToB5cwDPoUeXPp16devSCWTXDoB7d+/fwYcXP/47AfPnAaRXv559e/fv4bMnMJ8+APv38efXv59///xaAAkIHAigoMGDCBMqXMgQIYGHEAFInEixosWLGDNWJMCxI4CPIEOKHEmypEmRBFKqBMCypcuXMGPKnPmSgM2bAHLq3Mmzp8+fQHkSGEoUgNGjSJMqXcq0adKAACH/C05FVFNDQVBFMi4wAwEAAAAsMQGsADgAjwCCAAAAzJlmZmbMmZnM////AAAAAAAAAAAACP8ACQgcSLCgwYIBEiYkwLChw4cQI0qcCDGAxYsYCWjcyLGjx48gQxIIQLKkSQIoU6pcybKly5cEAsicSZOAzZs4c+rcybMngQBAgwolQLSo0aNIkypdSiCA06dQCUidSrWq1atYsxIIwLWrVwJgw4odS7as2bMEAqhdy5aA27dw48qdS7cugQB48+olwLev37+AAwseTCCA4cOICShezLix48eQIxMIQLmyZQKYM2vezLmz588EAogeTZqA6dOoU6tezbo1gQCwY8smQLu27du4c+veTSCA79/ACQgfTry48ePIkxMIwLy5cwLQo0ufTr269esEAmjfzp2A9+/gw4v/H0++PIEA6NOrJ8C+vfv38OPLn08ggP37+Ano38+/v3+ABAQOJFjQIMEACRUuJNDQ4UOIESVOpEggwEWMGQls5NjR40eQIUUSCFDS5EkCKVWuZNnS5UuYBALMpFmTwE2cOXXu5NnTJ4EAQYUOJVDU6FGkSZUuZUogwFOoUQlMpVrV6lWsWbUSCNDV61cCYcWOJVvW7Fm0BAKsZduWwFu4ceXOpVvXLoEAefXuJdDX71/AgQUPJkwgwGHEiQksZtzY8WPIkSUTCFDZ8mUCmTVv5tzZ82fQBAKMJl2awGnUqVWvZt3aNYEAsWXPJlDb9m3cuXXv5k0gwG/gwQkMJ17c//hx5MmVEwjQ3PlzAtGlT6de3fp17AQCbOfencB38OHFjydf3jyBAOnVryfQ3v17+PHlz6dPIMB9/PkJ7Off3z9AAgIHEixo8ODAAAoXMiTg8CHEiBInUqxIIADGjBoJcOzo8SPIkCJHEghg8iRKAipXsmzp8iXMmAQC0KxpkwDOnDp38uzp8yeBAEKHEiVg9CjSpEqXMm1KIADUqFIJUK1q9SrWrFq3Egjg9StYAmLHki1r9izatAQCsG3rlgDcuHLn0q1r9y6BAHr38iXg9y/gwIIHEy5MIADixIoJMG7s+DHkyJInEwhg+TJmApo3c+7s+TPo0AQCkC5tmgDq1P+qV7Nu7fo1gQCyZ9MmYPs27ty6d/PuTSAA8ODCCRAvbvw48uTKlxMI4Pw5dALSp1Ovbv069uwEAnDv7p0A+PDix5Mvb/48gQDq17Mn4P49/Pjy59OvTyAA/vz6CfDv7x8gAYEDCRY0eBBhAIULGRJw+BBiRIkTKVYkEABjRo0EOHb0+BFkSJEjCQQweRIlAZUrWbZ0+RJmTAIBaNa0SQBnTp07efb0+ZNAAKFDiRIwehRpUqVLmTYlEABqVKkEqFa1ehVrVq1bCQTw+hUsAbFjyZY1exZtWgIB2LZ1SwBuXLlz6da1e5dAAL17+RLw+xdwYMGDCRcmEABxYsUEGDf/dvwYcmTJkwkEsHwZMwHNmzl39vwZdGgCAUiXNk0AdWrVq1m3dv2aQADZs2kTsH0bd27du3n3JhAAeHDhBIgXN34ceXLlywkEcP4cOgHp06lXt34de3YCAbh3904AfHjx48mXN3+eQAD169kTcP8efnz58+nXJxAAf379BPj39w+QgMCBBAsaPIgwgMKFDAk4fAgxosSJFCsSCIAxo0YCHDt6/AgypMiRBAKYPImSgMqVLFu6fAkzJoEANGvaJIAzp86dPHv6/EkggNChRAkYPYo0qdKlTJsSCAA1qlQCVKtavYo1q9atBAJ4/QqWgNixZMuaPYs2LYEAbNu6JQA3/67cuXTr2r1LIIDevXwJ+P0LOLDgwYQLEwiAOLFiAowbO34MObLkyQQCWL6MmYDmzZw7e/4MOjSBAKRLmyaAOrXq1axbu35NIIDs2bQJ2L6NO7fu3bx7EwgAPLhwAsSLGz+OPLny5QQCOH8OnYD06dSrW7+OPTuBANy7eycAPrz48eTLmz9PIID69ewJuH8PP778+fTrEwiAP79+Avz7+wdIQOBAggUNHkQYQOFChgQcPoQYUeJEihUJBMCYUSMBjh09fgQZUuRIAgFMnkRJQOVKli1dvoQZk0AAmjVtEsCZU+dOnj19/iQQQOhQogSMHkWaVOlSpk0JBIAaVSoBqv9VrV7FmlXrVgIBvH4FS0DsWLJlzZ5Fm5ZAALZt3RKAG1fuXLp17d4lEEDvXr4E/P4FHFjwYMKFCQRAnFgxAcaNHT+GHFnyZAIBLF/GTEDzZs6dPX8GHZpAANKlTRNAnVr1atatXb8mEED2bNoEbN/GnVv3bt69CQQAHlw4AeLFjR9Hnlz5cgIBnD+HTkD6dOrVrV/Hnp1AAO7dvRMAH178ePLlzZ8nEED9evYE3L+HH1/+fPr1CQTAn18/Af79/QMkIHAgwYIGDyIMoHAhQwIOH0KMKHEixYoEAmDMqJEAx44eP4IMKXIkgQAmT6IkoHIly5YuX8KMSSAAzZo2CeD/zKlzJ8+ePn8SCCB0KFECRo8iTao0KYCmTp9ChRpgKtWqAK5izapVK4GuXgGADSt27NgAZs+iBaB2Ldu2bQnAjQtgLt26du0GyKt3L4C+fv8CBkxgMGEAhg8jTpw4QIABAgYIGCAgQAAAli9jzpyZAOfOAD6DDi1adAABAwQMEDBAwIAAAF7Dji1bNoHatgHgzq179+4BAgYIGCBggIABAQAgT658+XICzp8DiC59OnXqAgYIGCBggIABAgYACC9+PHnyBM6jB6B+Pfv27QcIGCBggIABAgYIAKB/P//+/QESEDgQQEGDBxEiFDBAwAABAwQMEDAAQEWLFzFiJLCR/yMAjx9Bhgw5QMAAAQMEDBAwIAAAly9hxoxJgGZNADdx5tSpM8AAAQMEDBAwQEAAAEeRJlWqlEBTpwCgRpU6dWqAAAIGCBggYECAAADAhhU7diwBs2cBpFW7lm3btQHgwgUwl25du3YJ5NULgG9fv38BBxY8+C8Bw4cBJFa8mHFjx48hR5Y8mXJlAAQwZwawmXNnz59BhxbtmUBp0wBQp1a9mnVr169XE5A9G0Bt27dx59a9mzduAr+BAxA+nHhx48eRJy9OgHlzAM+hR5c+nXp169IJZNcOgHt379/Bhxc//jsB8+cBpFe/nn179+/hsycwnz4A+/fx59e/n3///FoACQgcCKCgwYMIEypcyBAhgYcQAUicSLGixYsYM1YkwLEjgI8gQ4ocSbKkSZEEUqoEwLKly5cwY8qc+ZKAzZsAcurcybOnz59AeRIYShSA0aNIkypdyrRp0oAAIf8LTkVUU0NBUEUyLjADAQAAACw3AawAOACPAIIAAADMmWZmZsyZmcz///8AAAAAAAAAAAAI/wAJCBxIsKDBggESJiTAsKHDhxAjSpwIMYDFixgJaNzIsaPHjyBDEghAsqRJAihTqlzJsqXLlwQCyJxJk4DNmzhz6tzJsyeBAECDCiVAtKjRo0iTKl1KIIDTp1AJSJ1KtarVq1izEgjAtatXAmDDih1LtqzZswQCqF3LloDbt3Djyp1Lty6BAHjz6iXAt6/fv4ADCx5MIIDhw4gJKF7MuLHjx5AjEwhAubJlApgza97MubPnzwQCiB5NmoDp06hTq17NujWBALBjyyZAu7bt27hz695NIIDv38AJCB9OvLjx48iTEwjAvLlzAtCjS59Ovbr16wQCaN/OnYD37+DDi/8fT748gQDo06snwL69+/fw48ufTyCA/fv4Cejfz7+/f4AEBA4kWNAgwQAJFS4k0NDhQ4gRJU6kSCDARYwZCWzk2NHjR5AhRRIIUNLkSQIpVa5k2dLlS5gEAsykWZPATZw5de7k2dMngQBBhQ4lUNToUaRJlS5lSiDAU6hRCUylWtXqVaxZtRII0NXrVwJhxY4lW9bsWbQEAqxl25bAW7hx5c6lW9cugQB59e4l0NfvX8CBBQ8mTCDAYcSJCSxm3NjxY8iRJRMIUNnyZQKZNW/m3NnzZ9AEAowmXZrAadSpVa9m3do1gQCxZc8mUNv2bdy5de/mTSDAb+DBCQwnXtz/+HHkyZUTCNDc+XMC0aVPp17d+nXsBAJs596dwHfw4cWPJ1/ePIEA6dWvJ9De/Xv48eXPp08gwH38+Qns59/fP0ACAgcSLGjw4MAAChcyJODwIcSIEidSrEggAMaMGglw7OjxI8iQIkcSCGDyJEoCKleybOnyJcyYBALQrGmTAM6cOnfy7OnzJ4EAQocSJWD0KNKkSpcybUogANSoUglQrWr1KtasWrcSCOD1K1gCYseSLWv2LNq0BAKwbeuWANy4cufSrWv3LoEAevfyJeD3L+DAggcTLkwgAOLEigkwbuz4MeTIkicTCGD5MmYCmjdz7uz5M+jQBAKQLm2aAOrU/6pXs27t+jWBALJn0yZg+zbu3Lp38+5NIADw4MIJEC9u/Djy5MqXEwjg/Dl0AtKnU69u/Tr27AQCcO/unQD48OLHky9v/jyBAOrXsyfg/j38+PLn069PIAD+/PoJ8O/vHyABgQMJFjR4EGEAhQsZEnD4EGJEiRMpViQQAGNGjQQ4dvT4EWRIkSMJBDB5EiUBlStZtnT5EmZMAgFo1rRJAGdOnTt59vT5k0AAoUOJEjB6FGlSpUuZNiUQAGpUqQSoVrV6FWtWrVsJBPD6FSwBsWPJljV7Fm1aAgHYtnVLAG5cuXPp1rV7l0AAvXv5EvD7F3BgwYMJFyYQAHFixQQYN/92/BhyZMmTCQSwfBkzAc2bOXf2/Bl0aAIBSJc2TQB1atWrWbd2/ZpAANmzaROwfRt3bt27efcmEAB4cOEEiBc3fhx5cuXLCQRw/hw6AenTqVe3fh17dgIBuHf3TgB8ePHjyZc3f55AAPXr2RNw/x5+fPnz6dcnEAB/fv0E+Pf3D5CAwIEECxo8iDCAwoUMCTh8CDGixIkUKxIIgDGjRgIcO3r8CDKkyJEEApg8iZKAypUsW7p8CTMmgQA0a9okgDOnzp08e/r8SSCA0KFECRg9ijSp0qVMmxIIADWqVAJUq1q9ijWr1q0EAnj9CpaA2LFky5o9izYtgQBs27olADf/rty5dOvavUsggN69fAn4/Qs4sODBhAsTCIA4sWICjBs7fgw5suTJBAJYvoyZgObNnDt7/gw6NIEApEubJoA6terVrFu7fk0ggOzZtAnYvo07t+7dvHsTCAA8uHACxIsbP448ufLlBAI4fw6dgPTp1Ktbv449O4EA3Lt7JwA+vPjx5MubP08ggPr17Am4fw8/vvz59OsTCIA/v34C/Pv7B0hA4ECCBQ0eRBhA4UKGBBw+hBhR4kSKFQkEwJhRIwGOHT1+BBlS5EgCAUyeRElA5UqWLV2+hBmTQACaNW0SwJlT506ePX3+JBBA6FCiBIweRZpU6VKmTQkEgBpVKgGq/1WtXsWaVetWAgG8fgVLQOxYsmXNnkWblkAAtm3dEoAbV+5cunXt3iUQQO9evgT8/gUcWPBgwoUJBECcWDEBxo0dP4YcWfJkAgEsX8ZMQPNmzp09fwYdmkAA0qVNE0CdWvVq1q1dvyYQQPZs2gRs38adW/du3r0JBAAeXDgB4sWNH0eeXPlyAgGcP4dOQPp06tWtX8eenUAA7t29EwAfXvx48uXNnycQQP169gTcv4cfX/58+vUJBMCfXz8B/v39AyQgcCDBggYPIgygcCFDAg4fQowocSLFigQCYMyokQDHjh4/ggwpciSBACZPoiSgciXLli5fwoxJIADNmjYJ4P/MqXMnz54+fxIIIHQoUQJGjyJNqjQpgKZOn0KFGmAq1aoArmLNqlUrga5eAYANK3bs2ABmz6IFoHYt27ZtCcCNC2Au3bp27QbIq3cvgL5+/wIGTGAwYQCGDyNOnDhAgAECBggYICBAAACWL2POnJkA584APoMOLVp0AAEDBAwQMEDAgAAAXsOOLVs2gdq2AeDOrXv37gECBggYIGCAgAEBACBPrnz5cgLOnwOILn06deoCBggYIGCAgAECAgAIL348efIEzqMHoH49+/btBwgYIGCAgAECBggAoH8///79ARIQOBBAQYMHESIUMEDAAAEDBAwQEABARYsXMWIksJH/IwCPH0GGDDlAwAABAwQMEDAgAACXL2HGjEmAZk0AN3Hm1KkzwAABAwQMEDBAQAAAR5EmVaqUQFOnAKBGlTp1aoAAAgYIGCBgQIAAAMCGFTt2LAGzZwGkVbuWbdu1AeDCBTCXbl27dgnk1QuAb1+/fwEHFjz4LwHDhwEkVryYcWPHjyFHljyZcmUABDBnBrCZc2fPn0GHFu2ZQGnTAFCnVr2adWvXr1cTkD0bQG3bt3Hn1r2bN24Cv4EDED6ceHHjx5EnL06AeXMAz6FHlz6denXr0glk1w6Ae3fv38GHFz/+OwHz5wGkV7+efXv37+GzJzCfPgD79/Hn17+ff//8WgAJCBwIoKDBgwgTKlzIECGBhxABSJxIsaLFixgzViTAsSOAjyBDihxJsqRJkQRSqgTAsqXLlzBjypz5koDNmwBy6tzJs6fPn0B5EhhKFIDRo0iTKl3KtGnSgAAh/wtORVRTQ0FQRTIuMAMBAAAALD0BrAA4AI8AggAAAMyZZmZmzJmZzP///wAAAAAAAAAAAAj/AAkIHEiwoMGCARImJMCwocOHECNKnAgxgMWLGAlo3Mixo8ePIEMSCECypEkCKFOqXMmypcuXBALInEmTgM2bOHPq3MmzJ4EAQIMKJUC0qNGjSJMqXUoggNOnUAlInUq1qtWrWLMSCMC1q1cCYMOKHUu2rNmzBAKoXcuWgNu3cOPKnUu3LoEAePPqJcC3r9+/gAMLHkwggOHDiAkoXsy4sePHkCMTCEC5smUCmDNr3sy5s+fPBAKIHk2agOnTqFOrXs26NYEAsGPLJkC7tu3buHPr3k0ggO/fwAkIH068uPHjyJMTCMC8uXMC0KNLn069uvXrBAJo386dgPfv4MOL/x9PvjyBAOjTqyfAvr379/Djy59PIID9+/gJ6N/Pv79/gAQEDiRY0CDBAAkVLiTQ0OFDiBElTqRIIMBFjBkJbOTY0eNHkCFFEghQ0uRJAilVrmTZ0uVLmAQCzKRZk8BNnDl17uTZ0yeBAEGFDiVQ1OhRpEmVLmVKIMBTqFEJTKVa1epVrFm1EgjQ1etXAmHFjiVb1uxZtAQCrGXblsBbuHHlzqVb1y6BAHn17iXQ1+9fwIEFDyZMIMBhxIkJLGbc2PFjyJElEwhQ2fJlApk1b+bc2fNn0AQCjCZdmsBp1KlVr2bd2jWBALFlzyZQ2/Zt3Ll17+ZNIMBv4MEJDCde3P/4ceTJlRMI0Nz5cwLRpU+nXt36dewEAmzn3p3Ad/DhxY8nX948gQDp1a8n0N79e/jx5c+nTyDAffz5Cezn398/QAICBxIsaPDgwAAKFzIk4PAhxIgSJ1KsSCAAxowaCXDs6PEjyJAiRxIIYPIkSgIqV7Js6fIlzJgEAtCsaZMAzpw6d/Ls6fMngQBChxIlYPQo0qRKlzJtSiAA1KhSCVCtavUq1qxatxII4PUrWAJix5Ita/Ys2rQEArBt65YA3Lhy59Kta/cugQB69/Il4Pcv4MCCBxMuTCAA4sSKCTBu7Pgx5MiSJxMIYPkyZgKaN3Pu7Pkz6NAEApAubZoA6tT/qlezbu36NYEAsmfTJmD7Nu7cunfz7k0gAPDgwgkQL278OPLkypcTCOD8OXQC0qdTr279OvbsBAJw7+6dAPjw4seTL2/+PIEA6tezJ+D+Pfz48ufTr08gAP78+gnw7+8fIAGBAwkWNHgQYQCFCxkScPgQYkSJEylWJBAAY0aNBDh29PgRZEiRIwkEMHkSJQGVK1m2dPkSZkwCAWjWtEkAZ06dO3n29PmTQAChQ4kSMHoUaVKlS5k2JRAAalSpBKhWtXoVa1atWwkE8PoVLAGxY8mWNXsWbVoCAdi2dUsAbly5c+nWtXuXQAC9e/kS8PsXcGDBgwkXJhAAcWLFBBg3/3b8GHJkyZMJBLB8GTMBzZs5d/b8GXRoAgFIlzZNAHVq1atZt3b9mkAA2bNpE7B9G3du3bt59yYQAHhw4QSIFzd+HHly5csJBHD+HDoB6dOpV7d+HXt2AgG4d/dOAHx48ePJlzd/nkAA9evZE3D/Hn58+fPp1ycQAH9+/QT49/cPkIDAgQQLGjyIMIDChQwJOHwIMaLEiRQrEgiAMaNGAhw7evwIMqTIkQQCmDyJkoDKlSxbunwJMyaBADRr2iSAM6fOnTx7+vxJIIDQoUQJGD2KNKnSpUybEggANapUAlSrWr2KNavWrQQCeP0KloDYsWTLmj2LNi2BAGzbuiUAN/+u3Ll069q9SyCA3r18Cfj9Cziw4MGECxMIgDixYgKMGzt+DDmy5MkEAli+jJmA5s2cO3v+DDo0gQCkS5smgDq16tWsW7t+TSCA7Nm0Cdi+jTu37t28exMIADy4cALEixs/jjy58uUEAjh/Dp2A9OnUq1u/jj07gQDcu3snAD68+PHky5s/TyCA+vXsCbh/Dz++/Pn06xMIgD+/fgL8+/sHSEDgQIIFDR5EGEDhQoYEHD6EGFHiRIoVCQTAmFEjAY4dPX4EGVLkSAIBTJ5ESUDlSpYtXb6EGZNAAJo1bRLAmVPnTp49ff4kEEDoUKIEjB5FmlTpUqZNCQSAGlUqAar/Va1exZpV61YCAbx+BUtA7FiyZc2eRZuWQAC2bd0SgBtX7ly6de3eJRBA716+BPz+BRxY8GDChQkEQJxYMQHGjR0/hhxZ8mQCASxfxkxA82bOnT1/Bh2aQADSpU0TQJ1a9WrWrV2/JhBA9mzaBGzfxp1b927evQkEAB5cOAHixY0fR55c+XICAZw/h05A+nTq1a1fx56dQADu3b0TAB9e/Hjy5c2fJxBA/Xr2BNy/hx9f/nz69QkEwJ9fPwH+/f0DJCBwIMGCBg8iDKBwIUMCDh9CjChxIsWKBAJgzKiRAMeOHj+CDClyJIEAJk+iJKByJcuWLl/CjEkgAM2aNgng/8ypcyfPnj5/EgggdChRAkaPIk2qNCmApk6fQoUaYCrVqgCuYs2qVSuBrl4BgA0rduzYAGbPogWgdi3btm0JwI0LYC7dunbtBsirdy+Avn7/AgZMYDBhAIYPI06cOECAAQIGCBgQYDKAypYvY8ZMYDNnAJ4/gw4dOoCAAQIGCBggYEAAAK5fw44dmwDt2gBu486tW/cAAQMEDBAwQMCAAACOI0+uXDmB5s4BQI8uffp0AQMEDBAwQMAAAQEAgA8vfvx4AubPA0ivfj179gMEDBAwQMAAAQMEAMivfz9//gQAEhAoEEBBgwcRIhQwQMAAAQMEDBAQAEBFixcxYiSwkf8jAI8fQYYMOUDAAAEDBAwQMCAAAJcvYcaMSYBmTQA3cebUqTPAAAEDBAwQMEBAAABHkSZVqpRAU6cAoEaVOnVqgAACBggYICBAVwBfwYYVK5ZAWbMA0KZVu5at2gBv3wKQO5du3boE8OYFsJdvX79/AQcW7JdAYcMAECdWvJhxY8ePIUeWPJkyAAKXMQPQvJlzZ8+fQYfuTIB0aQCnUadWvZp1a9eqCcSWDYB2bdu3cefWvfs2Ad+/AQQXPpx4cePHkRMnsJw5AOfPoUeXPp169egEsGcHsJ17d+/fwYcX751AefMA0KdXv559e/fv1xOQPx9Affv38efXv58/fgJaAAkIFAigoMGDCBMqXMgQIYGHEAFInEixosWLGDNWJMCxI4CPIEOKHEmypEmRBFKqBMCypcuXMGPKnPmSgM2bAHLq3Mmzp8+fQHkSGEoUgNGjSJMqXcq0adKAACH/C05FVFNDQVBFMi4wAwEAAAAsQwGsADcAjwCCAAAAzJlmZmbMmZnM////AAAAAAAAAAAACP8ACQgcSLCgQYMBEgYgwLChw4cQI0qcCDGAxYsYCWjcyLGjx48gQwYYSbIkgZMoU6pcybKlywAwY8okQLOmzZs4c+rcGaCnz58EggodSrSo0aNIAyhdypSA06dQo0qdSrVqgKtYsxLYyrWr169gw4oNQLasWQJo06pdy7at27cB4sqdS6Cu3bt48+rdyzeA37+ACQgeTLiw4cOIEwdYzLgxgceQI0ueTLmy5QCYM2smwLmz58+gQ4seHaC06dMEUqtezbq169ewA8ieTZuA7du4c+vezbt3gN/AgxMYTry48ePIkysPwLy5cwLQo0ufTr269esBsmvfTqC79+/gw4v/H08+gPnz6AmoX8++vfv38OMHmE+/PoH7+PPr38+/v3+AAQQOJEjA4EGECRUuZNgwwEOIEQlMpFjR4kWMGTUG4NjRIwGQIUWOJFnS5MkAKVWuJNDS5UuYMWXOpBnA5k2cBHTu5NnT50+gQQMMJVqUwFGkSZUuZdrUaQCoUaUSoFrV6lWsWbVuDdDV61cCYcWOJVvW7Fm0AdSuZUvA7Vu4ceXOpVs3wF28eQns5dvX71/AgQUHIFzYMAHEiRUvZtzY8eMAkSVPJlDZ8mXMmTVv5hzA82fQBESPJl3a9GnUqQOsZt2awGvYsWXPpl3bdgDcuXUT4N3b92/gwYUPD1Dc//hxAsmVL2fe3Plz6AGkT6dOwPp17Nm1b+fePcB38OEJjCdf3vx59OnVB2Df3j0B+PHlz6df3/79APn17yfQ3z9AAgIHEixo8CDCgQEWMmxI4CHEiBInUqxoMQDGjBoJcOzo8SPIkCJFBihp8iSBlCpXsmzp8iXMADJn0iRg8ybOnDp38uwZ4CfQoASGEi1q9CjSpEoDMG3qlADUqFKnUq1q9WqArFq3Eujq9SvYsGLHkg1g9ixaAmrXsm3r9i3cuAHm0q1L4C7evHr38u3rNwDgwIIJEC5s+DDixIoXB2js+DGByJInU65s+TLmAJo3cybg+TPo0KJHky4d4DTq1P8EVrNu7fo17NiyA9CubZsA7ty6d/Pu7ft3gODChxMobvw48uTKlzMP4Pw5dALSp1Ovbv069uwBtnPvTuA7+PDix5Mvbz4A+vTqCbBv7/49/Pjy5weob/8+gfz69/Pv7x8gAYEDCRYUGABhQoUEGDZ0+BBiRIkTA1S0eJFARo0bOXb0+BFkAJEjSRIweRJlSpUrWbYM8BJmTAIzada0eRNnTp0BePb0SQBoUKFDiRY1ejRAUqVLCTR1+hRqVKlTqQawehUrAa1buXb1+hVs2ABjyZYlcBZtWrVr2bZ1GwBuXLkE6Na1exdvXr17A/T1+5dAYMGDCRc2fBhxAMWLGRP/cPwYcmTJkylXDnAZc2YCmzl39vwZdGjRAUiXNk0AdWrVq1m3dv06QGzZswnUtn0bd27du3kH8P0bOAHhw4kXN34cefIAy5k3J/AcenTp06lXtx4Ae3btBLh39/4dfHjx4wOUN3+eQHr169m3d/8efgD58+kTsH8ff379+/n3DwAwgMCBAwkYPIgwocKFDBsGeAgxIoGJFCtavIgxo8YAHDt6JAAypMiRJEuaPBkgpcqVBFq6fAkzpsyZNAPYvImTgM6dPHv6/Ak0aIChRIsSOIo0qdKlTJs6DQA1qlQCVKtavYo1q9atAbp6/UogrNixZMuaPYs2gNq1bAm4fQs3/67cuXTrBriLNy+BvXz7+v0LOLDgAIQLGyaAOLHixYwbO34cILLkyQQqW76MObPmzZwDeP4MmoDo0aRLmz6NOnWA1axbE3gNO7bs2bRr2w6AO7duArx7+/4NPLjw4QGKGz9OILny5cybO38OPYD06dQJWL+OPbv27dy7B/gOPjyB8eTLmz+PPr36AOzbuycAP778+fTr278fIL/+/QT6+wdIQOBAggUNHkQ4MMBChg0JPIQYUeJEihUtBsCYUSMBjh09fgQZUuTIACVNniSQUuVKli1dvoQZQOZMmgRs3sSZU+dOnj0D/AQalMBQokWNHkWaVGkApk2dEoAaVepUqv9VrV4NkFXrVgJdvX4FG1bsWLIBzJ5FS0DtWrZt3b6FGzfAXLp1CdzFm1fvXr59/QYAHFgwAcKFDR9GnFjx4gCNHT8mEFnyZMqVLV/GHEDzZs4EPH8GHVr0aNKlA5xGnZrAatatXb+GHVt2ANq1bRPAnVv3bt69ff8OEFz4cALFjR9Hnlz5cuYBnD+HTkD6dOrVrU8HkF37du7dA3wHHx7AePLlzZcnkD49APbt3b+HH0D+fPoA7N/Hnx8/Af78AQAEIHAgwYIFAyBMqBAAw4YOHzokIFEigIoWL2LMGCDAAAEDBAwIIBIAyZImT5okoFIlgJYuX8KMOUDAAAEDBAz/EBAgAICePn8C/Ulg6FAARo8iTZo0gIABAgYIGCBggAAAVq9izZqVAFeuAL6CDStWbIABAgYIGCBggIABAN7CjStXLoG6dQHgzat3714BAwQMEDBAwAABAwAgTqx48WICjh0DiCx5MmXKAQYIGCBggIABAgYACC16NGnSBE6fBqB6NevWrQMIGCBggIABAgYIAKB7N+/evQkABw5gOPHixo0HGCBggIABAgYICABgOvXq1q0TyJ4dAPfu3r9/DyBewAABAwQECABgPfv27t0TiB8fAP369u/jtx9g/34A/gECEDiQYEGBBBAiBLCQYUOHDyFGlOiQQMWKADBm1LiR2GNHjx9BhhQ5kiQBkyYBpFS5kmVLly9hsiQwcyYAmzdx5tS5k2fPnASAAgUwlGhRo0eRJlVqlEDTpgCgRpU6lWpVq1enEtCqFUBXr1/BhhU7lixYAmfPAlC7lm1bt2/hxm1LgC5dAHfx5tW7l29fv3oJBA4MgHBhw4cRJ1a8+DABx44BRJY8mXJly5cxUyaweTMAz59BhxY9mnTp0ARQowawmnVr169hx5btmkDt2gBw59a9m3dv3793ExAuHEBx48eRJ1e+nDlyAs+fA5A+nXp169exZ68eEAAh/wtORVRTQ0FQRTIuMAMBAAAALEgBrAA5AI8AggAAAMyZZmZmzJmZzP///wAAAAAAAAAAAAj/AAkIHEiwoMGDBAIoDECgocOHECNKnEhxYoCLGDMS2Mixo8ePIEOK3BigpMmTBFKqXMmypcuXMFMGmEmzJoGbOHPq3Mmzp8+bAYIKHUqgqNGjSJMqXcq0aICnUKMSmEq1qtWrWLNqnRqgq9evBMKKHUu2rNmzaMMGWMu2LYG3cOPKnUu3rt23AfLq3Uugr9+/gAMLHky4b4DDiBMTWMy4sePHkCNLXhygsuXLBDJr3sy5s+fPoDMHGE26NIHTqFOrXs26tevTAWLLnk2gtu3buHPr3s27doDfwIMTGE68uPHjyJMrHx6gufPnBKJLn069uvXr2KMH2M69O4Hv4MOL/x9Pvrz57wHSq19PoL379/Djy59Pv32A+/jzE9jPv79/gAQEDiRY0OBBggEULmRIwOFDiBElTqRY0WEAjBk1EuDY0eNHkCFFjuQYwORJlARUrmTZ0uVLmDFVBqBZ0yYBnDl17uTZ0+dPnAGEDiVKwOhRpEmVLmXa1GgAqFGlEqBa1epVrFm1bqUawOtXsATEjiVb1uxZtGnFBmDb1i0BuHHlzqVb1+5duAH07uVLwO9fwIEFDyZc2G8AxIkVE2Dc2PFjyJElT2YcwPJlzAQ0b+bc2fNn0KE1ByBd2jQB1KlVr2bd2vVr1AFkz6ZNwPZt3Ll17+bd23YA4MGFEyBe3P/4ceTJlS8nHsD5c+gEpE+nXt36dezZpQfg3t07AfDhxY8nX978efAB1K9nT8D9e/jx5c+nX999APz59RPg398/QAICBxIsaPAgQgIBFjJsSOAhxIgSJ1KsaPFhgIwaNxLo6PEjyJAiR5LsGOAkypQEVrJs6fIlzJgyVwaoafMmgZw6d/Ls6fMn0JwBhhItSuAo0qRKlzJt6vRogKhSpxKoavUq1qxat3KtGuAr2LAExpIta/Ys2rRqxwZo6/Ytgbhy59Kta/cu3rgB9vLtS+Av4MCCBxMubJhAgMSKFxNo7Pgx5MiSJ1NuHOAy5swENnPu7Pkz6NCiNwcobfo0gdT/qlezbu36NezUAWbTrk3gNu7cunfz7u37doDgwocTKG78OPLkypczLx7gOfToBKZTr279Ovbs2qcH6O79O4Hw4seTL2/+PPrwAdazb0/gPfz48ufTr2//fYD8+vcT6O8fIAGBAwkWNHgQYcEACxk2JPAQYkSJEylWtPgwQEaNGwl09PgRZEiRI0l2DHASZUoCK1m2dPkSZkyZKwPUtHmTQE6dO3n29PkTaM4AQ4kWJXAUaVKlS5k2dXo0QFSpUwlUtXoVa1atW7lWDfAVbFgCY8mWNXsWbVq1YwO0dfuWQFy5c+nWtXsXb9wAe/n2JfAXcGDBgwkXNvw3QGLFiwk0/3b8GHJkyZMpNw5wGXNmAps5d/b8GXRo0ZsDlDZ9mkBq1atZt3b9GnbqALNp1yZwG3du3bt59/Z9O0Bw4cMJFDd+HHly5cuZFw/wHHp0AtOpV7d+HXt27dMDdPf+nUB48ePJlzd/Hn34AOvZtyfwHn58+fPp17f/PkB+/fsJ9PcPkIDAgQQLGjyIsGCAhQwbEngIMaLEiRQrWnwYIKPGjQQ6evwIMqTIkSQ7BjiJMiWBlSxbunwJM6bMlQFq2rxJIKfOnTx7+vwJNGeAoUSLEjiKNKnSpUybOj0aIKrUqQSqWr2KNavWrVyrBvgKNiyBsWTLmj2LNq3asQHaun1LIP+u3Ll069q9izdugL18+xL4Cziw4MGECxv+GyCx4sUEGjt+DDmy5MmUGwe4jDkzgc2cO3v+DDq06M0BSps+TSC16tWsW7t+DTt1gNm0axO4jTu37t28e/u+HSC48OEEihs/jjy58uXMiwd4Dj06genUq1u/jj279ukBunv/TiC8+PHky5s/jz58gPXs2xN4Dz++/Pn069t/HyC//v0E+vsHSEDgQIIFDR5EWDDAQoYNCTyEGFHiRIoVLT4MkFHjRgIdPX4EGVLkSJIdA5xEmZLASpYtXb6EGVPmygA1bd4kkFPnTp49ff4EmjPAUKJFCRxFmlTpUqZNnR4NEFXqVAL/Va1exZpV61auVQN8BRuWwFiyZc2eRZtW7dgAbd2+JRBX7ly6de3exRs3wF6+fQn8BRxY8GDChQ3/DZBY8WICjR0/hhxZ8mTKjQNcxpyZwGbOnT1/Bh1a9OYApU2fJpBa9WrWrV2/hp06wGzatQncxp1b927evX3fDhBc+HACxY0fR55c+XLmxQM8hx6dwHTq1a1fx55d+/QA3b1/JxBe/Hjy5c2fRx8+wHr27Qm8hx9f/nz69e2/D5Bf/34C/f0DJCBwIMGCBg8iLBhgIcOGBB5CjChxIsWKFh8GyKhxI4GOHj+CDClyJEkCAU6iTElgJcuWLl/CjClzZYCaNm8S/8ipcyfPnj5/As0ZYCjRogSOIk2qdOlSAE6fQo0aNQDVqlYBYM2qdetWAl6/EgAgdizZsmUDoE2rFgDbtm7fviUgdy4BAHbv4s2bNwDfvn4BAA4sePBgAoYPEwCgeDHjxo0DBBggYICAAQICBACgeTPnzp0JgA5NAADp0qZPnw4gYICAAQIGCBgQAADt2rZv3yagezcBAL5/Aw8ePMAAAQMEDBAwQMAAAM6fQ48enQD16gQAYM+ufft2AQMEDBAwQMAAAQMAoE+vfv16Au7fEwAgfz79+vUHCBggYICAAQIADhAAgGBBgwcPElC4kAAAhw8hRowoYICAAQIGCBggYP8AAI8fQYYMSYBkSQIAUKZUuXJlgAECBggYIGCAgAEAcObUuXMnAZ8/CQAQOpRo0aIBBAwQMEDAAAEDAgCQOpVq1aoEsGYlAIBrV69fvwYIMEDAAAEDBAQIAIBtW7dv3xKQO5cAALt38ebVizdA374AAAcWPHgwAcOHCQBQvJhxY8ePIUduTIByZQIAMGfWvJlzZ8+fQYcWPZo0ZgKnURMAsJp1a9evYceW7ZpAbdsEAOTWvZt3b9+/gfMmMJw4AQDHkSdXvpx5c+fKCUSXTgBAdevXsWfXvp07dgLfwRMAMJ58efPn0adXb55Ae/cEAMSXP59+ffv38dMnsJ8/AQB8AAEIHEiwoMGDCBMSJMCwIQEAECNKnEixosWLEwlo3EgAgMePIEOKHEmyZEgCKFMSAMCypcuXMGPKnPmSgM2bBADo3Mmzp8+fQIP2JEC0KAEASJMqXcq0qdOnSwlInUoAgNWrWLNq3cq1a1YCYMMSAEC2rNmzaNOqXXs2IAAh/wtORVRTQ0FQRTIuMAMBAAAALE8BrAA5AI8AggAAAMyZZmZmzJmZzP///wAAAAAAAAAAAAj/AAkIHEiwoMGDAgMoDECgocOHECNKnEhxYoCLGDMS2Mixo8ePIEOK3BigpMmTBFKqXMmypcuXMFMGmEmzJoGbOHPq3Mmzp8+bAYIKHUqgqNGjSJMqXcq0aICnUKMSmEq1qtWrWLNqnRqgq9evBMKKHUu2rNmzaMMGWMu2LYG3cOPKnUu3rt23AfLq3Uugr9+/gAMLHky4b4DDiBMTWMy4sePHkCNLXhygsuXLBDJr3sy5s+fPoDMHGE26NIHTqFOrXs26tevTAWLLnk2gtu3buHPr3s27doDfwIMTGE68uPHjyJMrHx6gufPnBKJLn069uvXr2KMH2M69O4Hv4MOL/x9Pvrz57wHSq19PoL379/Djy59Pv32A+/jzE9jPv79/gAQEDiRY0OBBggEULmRIwOFDiBElTqRY0WEAjBk1EuDY0eNHkCFFjuQYwORJlARUrmTZ0uVLmDFVBqBZ0yYBnDl17uTZ0+dPnAGEDiVKwOhRpEmVLmXa1GgAqFGlEqBa1epVrFm1bqUawOtXsATEjiVb1uxZtGnFBmDb1i0BuHHlzqVb1+5duAH07uVLwO9fwIEFDyZc2G8AxIkVE2Dc2PFjyJElT2YcwPJlzAQ0b+bc2fNn0KE1ByBd2jQB1KlVr2bd2vVr1AFkz6ZNwPZt3Ll17+bd23YA4MGFEyBe3P/4ceTJlS8nEMD5c+gEpE+nXt36dezZpQfg3t07AfDhxY8nX978efAB1K9nT8D9e/jx5c+nX999APz59RPg398/QAICBxIsaPAgQgIBFjJsSOAhxIgSJ1KsaPFhgIwaNxLo6PEjyJAiR5LsGOAkypQEVrJs6fIlzJgyVwaoafMmgZw6d/Ls6fMn0JwBhhItSuAo0qRKlzJt6vRogKhSpxKoavUq1qxat3KtGuAr2LAExpIta/Ys2rRqxwZo6/Ytgbhy59Kta/cu3rgB9vLtS+Av4MCCBxMubPhvgMSKFxNo7Pgx5MiSJ1NuHOAy5swENnPu7Pkz6NCiNwcobfo0gdT/qlezbu36NezUAWbTrk3gNu7cunfz7u37doDgwocTKG78OPLkypczLx7gOfToBKZTr279Ovbs2qcH6O79O4Hw4seTL2/+PPrwAdazb0/gPfz48ufTr2//fYD8+vcT6O8fIAGBAwkWNHgQYcEACxk2JPAQYkSJEylWtPgwQEaNGwl09PgRZEiRI0l2DHASZUoCK1m2dPkSZkyZKwPUtHmTQE6dO3n29PkTaM4AQ4kWJXAUaVKlS5k2dXo0QFSpUwlUtXoVa1atW7lWDfAVbFgCY8mWNXsWbVq1YwO0dfuWQFy5c+nWtXsXb9wAe/n2JfAXcGDBgwkXNvw3QGLFiwk0/3b8GHJkyZMpNw5wGXNmAps5d/b8GXRo0ZsDlDZ9mkBq1atZt3b9GnbqALNp1yZwG3du3bt59/Z9O0Bw4cMJFDd+HHly5cuZFw/wHHp0AtOpV7d+HXt27dMDdPf+nUB48ePJlzd/Hj2BAOvZtyfwHn58+fPp17f/PkB+/fsJ9PcPkIDAgQQLGjyIsGCAhQwbEngIMaLEiRQrWnwYIKPGjQQ6evwIMqTIkSQ7BjiJMiWBlSxbunwJM6bMlQFq2rxJIKfOnTx7+vwJNGeAoUSLEjiKNKnSpUybOj0aIKrUqQSqWr2KNavWrVyrBvgKNiyBsWTLmj2LNq3asQHaun1LIP+u3Ll069q9izdugL18+xL4Cziw4MGECxv+GyCx4sUEGjt+DDmy5MmUGwe4jDkzgc2cO3v+DDq06M0BSps+TSC16tWsW7t+DTt1gNm0axO4jTu37t28e/u+HSC48OEEihs/jjy58uXMiwd4Dj06genUq1u/jj279ukBunv/TiC8+PHky5s/jz58gPXs2xN4Dz++/Pn069t/HyC//v0E+vsHSEDgQIIFDR5EWDDAQoYNCTyEGFHiRIoVLT4MkFHjRgIdPX4EGVLkSJIdA5xEmZLASpYtXb6EGVPmygA1bd4kkFPnTp49ff4EmjPAUKJFCRxFmlTpUqZNnR4NEFXqVAL/Va1exZpV61auVQN8BRuWwFiyZc2eRZtW7dgAbd2+JRBX7ly6de3exRs3wF6+fQn8BRxY8GDChQ3/DZBY8WICjR0/hhxZ8mTKjQNcxpyZwGbOnT1/Bh1a9OYApU2fJpBa9WrWrV2/hp06wGzatQncxp1b927evX3fDhBc+HACxY0fR55c+XLmxQM8hx6dwHTq1a1fx55d+/QA3b1/JxBe/Hjy5c2fRx8+wHr27Qm8hx9f/nz69e2/D5Bf/34C/f0DJCBwIMGCBg8iJBhgIcOGBB5CjChxIsWKFh8GyKhxI4GOHj+CDClyJMmOAU6iTElgJcuWLl/CjClzZYCaNm8S/8ipcyfPnj5/As0ZYCjRogSOIk2qdOlSAE6fQo0aNQDVqlYBYM2qdetWAl6/EgAgdizZsmUDoE2rFgDbtm7fviUgdy4BAHbv4s2bNwDfvn4BAA4sePBgAoYPEwCgeDHjxo0DBBggYICAAQICBACgeTPnzp0JgA5NAADp0qZPnw4gYICAAQIGCBgQAADt2rZv3yagezcBAL5/Aw8ePMAAAQMEDBAwQMAAAM6fQ48enQD16gQAYM+ufft2AQMEDBAwQMAAAQMAoE+vfv16Au7fEwAgfz79+vUHCBggYICAAQIADhAAgGBBgwcPElC4kAAAhw8hRowoYICAAQIGCBggYP8AAI8fQYYMSYBkSQIAUKZUuXJlgAECBggYIGCAgAEAcObUuXMnAZ8/CQAQOpRo0aIBBAwQMEDAAAEDAgCQOpVq1aoEsGYlAIBrV69fvwYIMEDAAAEDBAQIAIBtW7dv3xKQO5cAALt38ebVizdA374AAAcWPHgwAcOHCQBQvJhxY8ePIUduTIByZQIAMGfWvJlzZ8+fQYcWPZo0ZgKnURMAsJp1a9evYceW7ZpAbdsEAOTWvZt3b9+/gfMmMJw4AQDHkSdXvpx5c+fKCUSXTgBAdevXsWfXvp07dgLfwRMAMJ58efPn0adXb55Ae/cEAMSXP59+ffv38dMnsJ8/AQB8AAEIHEiwoMGDCBMSJMCwIQEAECNKnEixosWLEwlo3EgAgMePIEOKHEmyZEgCKFMSAMCypcuXMGPKnPmSgM2bBADo3Mmzp8+fQIP2JEC0KAEASJMqXcq0qdOnSwlInUoAgNWrWLNq3cq1a1YCYMMSAEC2rNmzaNOqXXs2IAAh/wtORVRTQ0FQRTIuMAMBAAAALFYBrAA7AI8AggAAAMyZZmZmzJmZzP///wAAAAAAAAAAAAj/AAkIHEiwoMGDBAMoDECgocOHECNKnEixYoCLGDMS2Mixo8ePIEOK7BigpMmTBFKqXMmypcuXMFcGmEmzJoGbOHPq3Mmzp8+cAYIKHUqgqNGjSJMqXcr0aICnUKMSmEq1qtWrWLNqrRqgq9evBMKKHUu2rNmzaMcGWMu2LYG3cOPKnUu3rt24AfLq3Uugr9+/gAMLHkz4b4DDiBMTWMy4sePHkCNLbhygsuXLBDJr3sy5s+fPoDcHGE26NIHTqFOrXs26tevUAWLLnk2gtu3buHPr3s37doDfwIMTGE68uPHjyJMrLx6gufPnBKJLn069uvXr2KcH2M69O4Hv4MOL/x9Pvrz58AHSq19PoL379/Djy59P/32A+/jzE9jPv79/gAQEDiRY0OBBgwEULmRIwOFDiBElTqRYEWIAjBk1EuDY0eNHkCFFjvQYwORJlARUrmTZ0uVLmDFZBqBZ0yYBnDl17uTZ0+dPnQGEDiVKwOhRpEmVLmXaFGkAqFGlEqBa1epVrFm1brUawOtXsATEjiVb1uxZtGnJBmDb1i0BuHHlzqVb1+5duQH07uVLwO9fwIEFDyZcGHAAxIkVE2Dc2PFjyJElT3YcwPJlzAQ0b+bc2fNn0KE5ByBd2jQB1KlVr2bd2vVr1QFkz6ZNwPZt3Ll17+bd+3YA4MGFEyBe3P/4ceTJlS83HsD5c+gEpE+nXt36dezZqQfg3t07AfDhxY8nX978efEB1K9nT8D9e/jx5c+nXx9+APz59RPg398/QAICBxIsaPAgwoEBFjJsSOAhxIgSJ1KsaDFigIwaNxLo6PEjyJAiR5L8GOAkypQEVrJs6fIlzJgyWwaoafMmgZw6d/Ls6fMn0J0BhhItSuAo0qRKlzJt6jRpgKhSpxKoavUq1qxat3K9GuAr2LAExpIta/Ys2rRqywZo6/Ytgbhy59Kta/cu3rkB9vLtS+Av4MCCBxMubDhwgMSKFxNo7Pgx5MiSJ1N+HOAy5swENnPu7Pkz6NCiOwcobfo0gdT/qlezbu36NezVAWbTrk3gNu7cunfz7u07d4DgwocTKG78OPLkypczPx7gOfToBKZTr279Ovbs2qsH6O79O4Hw4seTL2/+PPrxAdazb0/gPfz48ufTr28/foD8+vcT6O8fIAGBAwkWNHgQ4cEACxk2JPAQYkSJEylWtBgxQEaNGwl09PgRZEiRI0l+DHASZUoCK1m2dPkSZkyZLQPUtHmTQE6dO3n29PkT6M4AQ4kWJXAUaVKlS5k2dZo0QFSpUwlUtXoVa1atW7leDfAVbFgCY8mWNXsWbVq1ZQO0dfuWQFy5c+nWtXsX79wAe/n2JfAXcGDBgwkXNhw4QGLFiwk0/3b8GHJkyZMpOw5wGXPmAAQ4d/b8GXRo0aM7BzB9GjUB1atZt3b9GnZs1gFo17ZNAHdu3bt59/b9W3cA4cOJEzB+HHly5cuZN0ceAHp06QSoV7d+HXt27dutB/D+HTwB8ePJlzd/Hn168gHYt3dPAH58+fPp17d/X34A/fv5E/APkIDAgQQLGjyIMCGBAAwbOiQAMaLEiRQrWrwoMYDGjRwJePwIMqTIkSRLggyAMqVKAixbunwJM6bMmS4D2LyJk4DOnTx7+vwJNCjPAESLGiWANKnSpUybOn2qNIDUqVQJWL2KNavWrVy7Yg0ANqxYAmTLmj2LNq3atWYDuH0Ll/+A3Ll069q9izcv3QB8+/olADiw4MGECxs+LDiA4sWMCTh+DDmy5MmUK0MOgDmzZgKcO3v+DDq06NGeA5g+jZqA6tWsW7t+DTs26wC0a9smgDu37t28e/v+rTuA8OHECRg/jjy58uXMmyMPAD26dALUq1u/jj279u3WA3j/Dp6A+PHky5s/jz49+QDs27snAD++/Pn069u/Lz+A/v38CfgHSEDgQIIFDR5EmJBAAIYNHRKAGFHiRIoVLV6UGEDjRo4EPH4EGVLkSJIlQQZAmVIlAZYtXb6EGVPmTJcBbN7ESUDnTp49ff4EGpRnAKJFjRJAmlTpUqZNnT5VGkDqVKr/BKxexZpV61auXbEGABtWLAGyZc2eRZtW7VqzAdy+hUtA7ly6de3exZt3bgC+ff0SABxY8GDChQ0fFhxA8WLGBBw/hhxZ8mTKlSEHwJxZMwHOnT1/Bh1a9GjPAUyfRk1A9WrWrV2/hh2bdQDatW0TwJ1b927evX3/1h1A+HDiBIwfR55c+XLmzZEHgB5dOgHq1a1fx55d+3brAbx/B09A/Hjy5c2fR5+efAD27d0TgB9f/nz69e3flx9A/37+BPwDJCBwIMGCBg8iTEggAMOGDglAjChxIsWKFi9KDKBxI0cCHj+CDClyJMmSIAOgTKmSAMuWLl/CjClzpssANm/i/ySgcyfPnj5/Ag3KMwDRokYJIE2qdCnTpgQAQI0qderUAFavYgWgdSvXrl0JgA0bFgDZsmbPng2gdi1bAG7fwo0blwDdunUB4M2rd+/eAH7/AgYgeDDhwoUJIE6cGADjxo4fPw4QYICAAQIGCAgQAADnzp4/fyYgevRoAKZPo06dOoCAAQIGCBggYEAAALZv486dmwDv3r0BAA8ufPjwAQIGCBggYICAAQEAQI8uffp0AtavXwegfTv37t0FDBAwQMAAAQMEDACgfj379u0JwI8fHwD9+vbv3x8gYICAAQIADhAwQAAAgwcRJkxIgGHDhgAgRpQ4caKAAQIGCBggYP+AgAEAQIYUOXIkAZMnTwJQuZJly5YDBAwQMEDAAAEDAgDQuZNnz54EgAYNCoBoUaNHjwYYIGCAgAECBggIAIBqVatXrxLQunUrAK9fwYYNGyCAgAECBggYECAAALdv4caNS4Bu3boA8ObVu5ev3gB//wIQPJhw4cIEECdODIBxY8ePIUeWPPkxAcuXLwPQvJlzZ8+fQYcWPZp0adOcCaRWrRpAa9evYceWPZs2bAK3ceMGsJt3b9+/gQcX7ptAcePGASRXvpx5c+fPoTMnMJ06dQDXsWfXvp17d+/aCYQXLx5AefPn0adXv549egLv4cMHMJ9+ffv38efXb59Af/9+AAkIBECwoMGDCBMqXHiQgMOHDwFInEixosWLGDNWJMCxY0cAIEOKHEmypMmTIwmoXLkSgMuXMGPKnEmzZkwCOHPmBMCzp8+fQIMKHfqTgNGjRwEoXcq0qdOnUKM2JUC1alUAWLNq3cq1q9evWwmIHTsWgNmzaNOqXcu2bdqAACH/C05FVFNDQVBFMi4wAwEAAAAsXwGsAD0AjwCCAAAAzJlmZmbMmZnM////AAAAAAAAAAAACP8ACQgcSLCgwYMFAygMQKChw4cQI0qcSLFiwwAYM2okwLGjx48gQ4ocCTKAyZMoCahcybKly5cwY7oMQLOmTQI4c+rcybOnz588AwgdSpSA0aNIkypdyrSp0gBQo0olQLWq1atYs2rdijWA169gCYgdS7as2bNo05oNwLatWwJw48qdS7eu3bt0A+jdy5eA37+AAwseTLiw4ACIEysmwLix48eQI0ueDDmA5cuYCWjezLmz58+gQ3sOQLq0aQKoU6tezbq169esA8ieTZuA7du4c+vezbu37gDAgwsnQLy48ePIkytfjjyA8+fQCUifTr269evYs1sPwL27dwLgw4v/H0++vPnz5AOoX8+egPv38OPLn0+/vvwA+PPrJ8C/v3+ABAQOJFjQ4EGEBQMsZNiQwEOIESVOpFjR4sQAGTVuJNDR40eQIUWOJBkywEmUKQmsZNnS5UuYMWW+DFDT5k0COXXu5NnT50+gPQMMJVqUwFGkSZUuZdrU6dIAUaVOJVDV6lWsWbVu5Zo1wFewYQmMJVvW7Fm0adWeDdDW7VsCceXOpVvX7l28dQPs5duXwF/AgQUPJlzY8OAAiRUvJtDY8WPIkSVPphw5wGXMmQls5tzZ82fQoUV/DlDa9GkCqVWvZt3a9WvYrQPMpl2bwG3cuXXv5t3b9+4AwYUPJ1Dc//hx5MmVL2eePMBz6NEJTKde3fp17Nm1Xw/Q3ft3AuHFjydf3vx59OUDrGffnsB7+PHlz6df3/78APn17yfQ3z9AAgIHEixo8CDChAEWMmxI4CHEiBInUqxocWKAjBo3Eujo8SPIkCJHkgwZ4CTKlARWsmzp8iXMmDJfBqhp8yaBnDp38uzp8yfQngGGEi1K4CjSpEqXMm3qdGmAqFKnEqhq9SrWrFq3cs0a4CvYsATGki1r9izatGrPBmjr9i2BuHLn0q1r9y7eugH28u1L4C/gwIIHEy5seHCAxIoXE2js+DHkyJInU44c4DLmzAQ2c+7s+TPo0KI/Byht+jSB1P+qV7Nu7fo17NYBZtOuTeA27ty6d/Pu7Xt3gODChxMobvw48uTKlzNPHuA59OgEplOvbv069uzarwfo7v07gfDix5Mvb/48+vIB1rNvT+A9/Pjy59Ovb19+gPz69xPo7x8gAYEDCRY0eBBhwgALGTYk8BBiRIkTKVa0ODFARo0bCXT0+BFkSJEjSYYMcBJlSgIrWbZ0+RJmTJkvA9S0eZNATp07efb0+RNozwBDiRYlcBRpUqVLmTZ1ujRAVKlTCVS1ehVrVq1buWYN8BVsWAJjyZY1exZtWrVnA7R1+5ZAXLlz6da1exdv3QB7+fYl8BdwYMGDCRc2PDhAYsWLCTT/dvwYcmTJkylHDnAZc2YCmzl39vwZdGjRnwOUNn2aQGrVq1m3dv0adusAs2nXJnAbd27du3n39r07QHDhwwkUN34ceXLly5knD/AcenQC06lXt34de3bt1wN09/6dQHjx48mXN38effkA69m3J/Aefnz58+nXtz8/QH79+wn09w+QgMCBBAsaPIgwYYCFDBsSeAgxosSJFCtanBggo8aNBDp6/AgypMiRJEMGOIkyJYGVLFu6fAkzpsyXAWravEkgp86dPHv6/Am0Z4ChRIsSOIo0qdKlTJs6XRogqtSpBKpavYo1q9atXLMG+Ao2LIGxZMuaPYs2rdqzAdq6fUsg/67cuXTr2r2Lt26AvXz7EvgLOLDgwYQLGx4cILHixQQaO34MObLkyZQjB7iMOTOBzZw7e/4MOrTozwFKmz5NILXq1axbu34Nu3WA2bRrE7iNO7fu3bx7+94dILjw4QSKGz+OPLny5cyTB3gOPTqB6dSrW7+OPbv26wG6e/9OILz48eTLmz+PvnyA9ezbE3gPP778+fTr258fIL/+/QT6+wdIQOBAggUNHkSYMMBChg0JPIQYUeJEihUtTgyQUeNGAh09fgQZUuRIkiEDnESZksBKli1dvoQZU+bLADVt3iSQU+dOnj19/gTaM8BQokUJHEWaVOlSpk2dLg0QVepUAv9VrV7FmlXrVq5ZA3wFG5bAWLJlzZ5Fm1bt2QBt3b4lEFfuXLp17d7FWzfAXr59CfwFHFjwYMKFDQ8OkFjxYgKNHT+GHFnyZMqRA1zGnJnAZs6dPX8GHVr05wClTZ8mkFr1atatXb+G3TrAbNq1CdzGnVv3bt69fe8OEFz4cALFjR9Hnlz5cubJAzyHHp3AdOrVrV/Hnl379QDdvX8nEF78ePLlzZ9HXz7AevbtCbyHH1/+fPr17c8PkF//fgL9/QMkIHAgwYIGDyJMGGAhw4YEHkKMKHEixYoWJwbIqHEjgY4eP4IMKXIkyZABTqJMSWAly5YuX8KMKdNlgJo2bxL/yKlzJ8+ePn8C7RlgKNGiBI4iTap0KVOkAJ5CjSpVaoCqVq8CyKp1K1euBL6CDUsAANmyZs+eDaB2LVsAbt/CjRuXAN26dgkAyKt3L1++Af4CDgxgMOHChg0TSKx4MQEAjh9Djhw5QIABAgYIGCAgQAAAnj+DDh2aAOnSpgkASK16NWvWAQQMEDBAwAABAwIAyK17N2/eBH4DD04AAPHixo8fDzBAwAABAwQMEDAAAPXq1q9fJ6B9O3cCAL6DDy9evIABAgYIGCBggIABAN7Djy9fPoH69u8TAKB/P//+/QEOEDBAwAABAwQMEACAYUOHDx8SkDiRIgEAFzFm1KhR/8AAAQMEDBAwQMAAACdRplSpkkBLly8JAJA5k2bNmgEGCBggYICAAQIGABA6lGjRogSQJlVKAEBTp0+hQg0gYICAAQIGCBgQAEBXr1/BgiUwlmxZAgDQplW7dm2AAAMEDBAwQECAAADw5tW7dy8Bv38BEwAwmHBhw4cLB1CsGEBjx48hQyYwmXJlAgAwZ9a8mXNnz583ExA9mjQBAKdRp1a9mnVr169hx5Y9ezUB27dxEwCwm3dv37+BBxfum0Bx48cJAFC+nHlz58+hR29OgHp16wQAZNe+nXt379/Bcycwnnx5AgDQp1e/nn179+/XE5A/nz4BAPfx59e/n39//54AAQgUSKCgwYMEAChcyLChw4cQIzYkQLGiRQIAMmrcyLGjx48gORIYSbIkAQAoU6pcybKly5crCcicSZMAgJs4c+rcybOnT50EggodSgCA0aNIkypdyrRpUgJQo0olAKCq1atYs2rdyhUrga9gwxIAQLas2bNo06pde5aA27dwCQCYS7eu3bt48+q1S6Cv378EAAgeTLiw4cOIExcOCAAh/wtORVRTQ0FQRTIuMAMBAAAALGoBrAA+AI8AggAAAMyZZmZmzJmZzP///wAAAAAAAAAAAAj/AAkIHEiwoMGDBgMoDECgocOHECNKnEixosMAGDNqJMCxo8ePIEOKHBkygMmTKAmoXMmypcuXMGO+DECzpk0COHPq3Mmzp8+fPQMIHUqUgNGjSJMqXcq06dIAUKNKJUC1qtWrWLNq3Zo1gNevYAmIHUu2rNmzaNOeDcC2rVsCcOPKnUu3rt27dQPo3cuXgN+/gAMLHky48OAAiBMrJsC4sePHkCNLnhw5gOXLmAlo3sy5s+fPoEN/DkC6tGkCqFOrXs26tevXrQPInk2bgO3buHPr3s279+4AwIMLJ0C8uPHjyJMrX548gPPn0AlIn069uvXr2LNfD8C9u3cC4MOL/x9Pvrz58+UDqF/PnoD79/Djy59Pv/78APjz6yfAv79/gAQEDiRY0OBBhAYDLGTYkMBDiBElTqRY0SLFABk1biTQ0eNHkCFFjiQpMsBJlCkJrGTZ0uVLmDFlvgxQ0+ZNAjl17uTZ0+dPoD4DDCValMBRpEmVLmXa1CnTAFGlTiVQ1epVrFm1buWqNcBXsGEJjCVb1uxZtGnVog3Q1u1bAnHlzqVb1+5dvHYD7OXbl8BfwIEFDyZc2DDhAIkVLybQ2PFjyJElT6YsOcBlzJkJbObc2fNn0KFFgw5Q2vRpAqlVr2bd2vVr2K4DzKZdm8Bt3Ll17+bd2zfvAMGFDydQ3P/4ceTJlS9nrjzAc+jRCUynXt36dezZtWMP0N37dwLhxY8nX978efTmA6xn357Ae/jx5c+nX98+/QD59e8n0N8/QAICBxIsaPAgwoQEAjBs6JAAxIgSJ1KsaPFixQAaN3Ik4PEjyJAiR5IsOTIAypQqCbBs6fIlzJgyZ8YMYPMmTgI6d/Ls6fMn0KA/AxAtapQA0qRKlzJt6vRp0wBSp1IlYPUq1qxat3LtujUA2LBiCZAta/Ys2rRq16YN4PYtXAJy59Kta/cu3rx3A/Dt65cA4MCCBxMubPhw4QCKFzMm4Pgx5MiSJ1OuPDkA5syaCXDu7Pkz6NCiR4cOYPo0agL/qlezbu36NezYrwPQrm2bAO7cunfz7u37d+8AwocTJ2D8OPLkypczb748APTo0glQr279Ovbs2rdnD+D9O3gC4seTL2/+PPr05wOwb++eAPz48ufTr2//fv0A+vfzJ+AfIAGBAwkWNHgQYUKCARg2dEgAYkSJEylWtHixYgCNGzkS8PgRZEiRI0mWHBkAZUqVBFi2dPkSZkyZM2MGsHkTJwGdO3n29PkTaNCfAYgWNUoAaVKlS5k2dfq0aQCpU6kSsHoVa1atW7l23RoAbFixBMiWNXsWbVq1a9MGcPsWLgG5c+nWtXsXb967Afj29UsAcGDBgwkXNny4cADFixkT/3D8GHJkyZMpV54cAHNmzQQ4d/b8GXRo0aNDBzB9GjUB1atZt3b9Gnbs1wFo17ZNAHdu3bt59/b9u3cA4cOJEzB+HHly5cuZN18eAHp06QSoV7d+HXt27duzB/D+HTwB8ePJlzd/Hn368wHYt3dPAH58+fPp17d/v34A/fv5E/APkIDAgQQLGjyIMCHBAAwbOiQAMaLEiRQrWrxYMYDGjRwJePwIMqTIkSRLjgyAMqVKAixbunwJM6bMmTED2LyJk4DOnTx7+vwJNOjPAESLGiWANKnSpUybOn3aNIDUqVQJWL2KNavWrVy7ag0ANqzYAATKmj2LNq3atWzTBngLN/8ugbl069q9izevXrwB+vr9SyCw4MGECxs+jNhwgMWMGxN4DDmy5MmUK1umHCCz5s0EOnv+DDq06NGkRQc4jTo1gdWsW7t+DTu2bNgBatu+TSC37t28e/v+Ddx3gOHEixM4jjy58uXMmztnHiC69OkEqlu/jj279u3ctQf4Dj48gfHky5s/jz69evQB2rt/TyC+/Pn069u/j99+gP38+xMASEDgQIIFDR5EmNBgAIYNHRKAGFHiRIoVLV6sGEDjRo4EPH4EGVLkSJIlRwZAmVIlAZYtXb6EGVPmzJgBbN7ESUDnTp49ff4EGvRnAKJFjRJAmlTpUqZNnT5tGkDqVKr/BKxexZpV61auXbcGABtWLAGyZc2eRZtW7dq0Ady+hUtA7ly6de3exZv3bgC+ff0SABxY8GDChQ0fLhxA8WLGBBw/hhxZ8mTKlScHwJxZMwHOnT1/Bh1a9OjQAUyfRk1A9WrWrV2/hh37dQDatW0TwJ1b927evX3/7h1A+HDiBIwfR55c+XLmzZcHgB5dOgHq1a1fx55d+/bsAbx/B09A/Hjy5c2fR5/+fAD27d0TgB9f/nz69e3frx9A/37+BPwDJCBwIMGCBg8iTEgwAMOGDglAjChxIsWKFi9WDKBxI0cCHj+CDClyJMmSIwOgTKmSAMuWLl/CjClzZswANm/i/ySgcyfPnj5/Ag36MwDRokYJIE2qdCnTpkoBQI0qderUAFavYgWgdSvXrl0JgA0rFiyAsmbPokUbYC3btgDewo0rVy6Bunbv1gWgdy/fvn0DAA4sGADhwoYPHyageDFjxQAeQ44sWXKAAAMEDBAwQECAAAA+gw4tWjSB0qZPlwagejXr1q0DCBggYICAAQIGBACgezfv3r0JAA8uHDiA4saPI0c+QMAAAQMEDBAwIACA6tavY8dOYDv37tsBgA8vfvx4AQMEDBAwQMAAAQMAwI8vf/58Avbv47cPYD///v4BAhAocICAAQIGCBggYIAAAA8hRpQokUBFixcrAtC4kf9jx44CBggYIGCAgAECBgBQuZJly5YEYMaUCRNATZs3ceIcIGCAgAECBggYEABAUaNHkSIlsJRp06UAoEaVOnVqgAECBggYIGCAgAAAwIYVO3YsAbNn0ZoFsJZtW7duAwQQMEDAAAEDAgQAsJdvX79+CQQWPDgwAMOHESdWjDhA48YAIEeWPHkyAcuXMVsGsJlzZ8+fQYcW7ZlAadOnSwNQvZp1a9evYceWPZt2bduvCeTWvTs3AN+/gQcXPpx48eAEkCdXjhxAc+fPoUeXPp06dALXsWe/DoB7d+/fwYcXP/47AfPn0ZsHsJ59e/fv4ceX755Affv36wPQv59/f/+kAAEIHEiwoMGDAAgoXMhQIYCHECNKnEixokWJBDJq3JgRgMePIEOKHEmyZEgCKFOqRAmgpcuXMGPKnEkTJoGbOHPeBMCzp8+fQIMKHfqTgNGjSI0CWMq0qdOnUKNKdUqgqtWrVQFo3cq1q9evYMN2JUC2rFmyANKqXcu2rdu3cNkSmEu37lwAePPq3cu3r9+/ewkIHkxYMIDDiBMrXsy4sWPFAQEAIf8LTkVUU0NBUEUyLjADAQAAACx2AawAPQCPAIIAAADMmWZmZsyZmcz///8AAAAAAAAAAAAI/wAJCBxIsKDBgwcDKCTAsKHDhxAjSpxIsWGAixgzEtjIsaPHjyBDivwYoKTJkwRSqlzJsqXLlzBbBphJsyaBmzhz6tzJs6fPnQGCCh1KoKjRo0iTKl3KNGmAp1CjEphKtarVq1izar0aoKvXrwTCih1LtqzZs2jJBljLti2Bt3Djyp1Lt67duQHy6t1LoK/fv4ADCx5MOHCAw4gTE1jMuLHjx5AjS34coLLlywQya97MubPnz6A7BxhNujSB06hTq17NurXr1QFiy55NoLbt27hz697NO3eA38CDExhOvLjx48iTKz8eoLnz5wSiS59Ovbr169irB9jOvTuB7+DDi/8fT768+fEB0qtfT6C9+/fw48ufTz9+gPv48xPYz7+/f4AEBA4kWNDgQYQBFC5kSMDhQ4gRJU6kWFFiAIwZNRLg2NHjR5AhRY4EGcDkSZQEVK5k2dLlS5gxXQagWdMmAZw5de7k2dPnT54BhA4lSsDoUaRJlS5l2lRpAKhRpRKgWtXqVaxZtW7FGsDrV7AExI4lW9bsWbRpzQZg29YtAbhx5c6lW9fuXboB9O7lS8DvX8CBBQ8mXFhwAMSJFRNg3NjxY8iRJU+GHMDyZcwENG/m3NnzZ9ChPQcgXdo0AdSpVa9m3dr1a9YBZM+mTcD2bdy5de/m3Vt3AODBhRMgXtz/+HHkyZUvRx7A+XPoBKRPp17d+nXs2a0H4N7dOwHw4cWPJ1/e/HnyAdSvZ0/A/Xv48eXPp19ffgD8+fUT4N/fP0ACAgcSLGjwIMKCARYybEjgIcSIEidSrGhxYoCMGjcS6OjxI8iQIkeSDBngJMqUBFaybOnyJcyYMl8GqGnzJoGcOnfy7OnzJ9CeAYYSLUrgKNKkSpcybepUaYCoUqcSqGr1KtasWrdyzRrgK9iwBMaSLWv2LNq0as8GaOv2LYG4cufSrWv3Lt66Afby7UvgL+DAggcTLmx4cIDEihcTaOz4MeTIkidTjhzgMubMBDZz7uz5M+jQoj8HKG36NIHU/6pXs27t+jXs1gFm065N4Dbu3Lp38+7te3eA4MKHEyhu/Djy5MqXM08e4Dn06ASmU69u/Tr27NqvB+ju/TuB8OLHky9v/jz68gHWs29P4D38+PLn069vf36A/Pr3E+jvHyABgQMJFjR4EGHCAAsZNiTwEGJEiRMpVrQ4MUBGjRsJdPT4EWRIkSNJhgxwEmVKAitZtnT5EmZMmS8D1LR5k0BOnTt59vT5E2jPAEOJFiVwFGlSpUuZNnW6NEBUqVMJVLV6FWtWrVu5Zg3wFWxYAmPJljV7Fm1atWcDtHX7lkBcuXPp1rV7F2/dAHv59iXwF3BgwYMJFzY8OEBixYsJNP92/BhyZMmTKUcOcBlzZgKbOXf2/Bl0aNGfA5Q2fZpAatWrWbd2/Rp26wCzadcmcBt3bt27eff2vTtAcOHDCRQ3fhx5cuXLmScP8Bx6dALTqVe3fh17du3XA3T3/p1AePHjyZc3fx59+QDr2bcn8B5+fPnz6de3Pz9Afv37CfT3D5CAwIEECxo8iDBhgIUMGxJ4CDGixIkUK1qcGCCjxo0EOnr8CDKkyJEkQQY4iTIlgZUsW7p8CTOmzJcBatq8SSCnzp08e/r8CbRngKFEixI4ijSp0qVMmzpdGiCq1KkEqlq9ijWr1q1cswb4CjYsgbFky5o9izat2rMB2rp9SyD/rty5dOvavYu3boC9fPsS+As4sODBhAsbHhwgseLFBBo7fgw5suTJlCMHuIw5M4HNnDt7/gw6tOjPAUqbPk0gterVrFu7fg27dYDZtGsTuI07t+7dvHv73h0guPDhBIobP448ufLlzJMHeA49OoHp1Ktbv449u/brAbp7/04gvPjx5MubP4++fID17NsTeA8/vvz59Ovbnx8gv/79BPr7B0hA4ECCBQ0eRJgwwEKGDQk8hBhR4kSKFS1ODJBR40YCHT1+BBlS5EiSIQOcRJmSwEqWLV2+hBlT5ssANW3eJJBT506ePX3+BNozwFCiRQkcRZpU6VKmTZ0uDRBV6lQC/1WtXsWaVetWrlkDfAUblsBYsmXNnkWbVu3ZAG3dviUQV+5cunXt3sVbN8Bevn0J/AUcWPBgwoUNDw6QWPFiAo0dP4YcWfJkypEDXMacmcBmzp09fwYdWvTnAKVNnyaQWvVq1q1dv4bdOsBs2rUJ3MadW/du3r197w4QXPhwAsWNH0eeXPly5skDPIcencB06tWtX8eeXfv1AN29fycQXvx48uXNn0dfPsB69u0JvIcfX/58+vXtzw+QX/9+Av39AyQgcCDBggYPIkQYYCHDhgQeQowocSLFihYnBsiocSOBjh4/ggwpciTJkAFOokxJYCXLli5fwowp82WAmjZvEv/IqXMnz54+fwLtGWAo0aIEjiJNqnQpU6QAnkKNKlVqgKpWrwLIqnUrV64EvoINSwAA2bJmz54NoHYtWwBu38KNG5cA3bp2CQDIq3cvX74B/gIODGAw4cKGDRNIrHgxAQCOH0OOHDlAgAECBggYICBAAACeP4MOHZoA6dKmCQBIrXo1a9YBBAwQMEDAAAEDAgDIrXs3b94EfgMPTgAA8eLGjx8PMEDAAAEDBAwQMAAA9erWr18noH07dwIAvoMPL168gAECBggYIGCAgAEA3sOPL18+gfr27xMAoH8///79AQ4QMEDAAAEDBAwQAIBhQ4cPHxKQOJEiAQAXMWbUqFH/wAABAwQMEDBAwAAAJ1GmVKmSQEuXLwkAkDmTZs2aAQYIGCBggIABAgYAEDqUaNGiBJAmVUoAQFOnT6FCDSBggIABAgYIGBAAQFevX8GCJTCWbFkCANCmVbt2bYAAAwQMEDBAQIAAAPDm1bt3LwG/fwETADCYcGHDhwsHUKwYQGPHjyFDJjCZcmUCADBn1ryZc2fPnzcTED2aNAEAp1GnVr2adWvXr2HHlj17NQHbt3ETALCbd2/fv4EHF+6bQHHjxwkAUL6ceXPnz6FHb06AenXrBABk176de3fv38FzJzCefHkCANCnV7+efXv379cTkD+fPgEA9/Hn17+ff3//ngABCBRIoKDBgwQAKFzIsKHDhxAjNiRAsaJFAgAyatzIsaPHjyA5EhhJsiQBAChTqlzJsqXLlysJyJxJkwCAmzhz6tzJs6dPnQSCCh1KAIDRo0iTKl3KtGlSAlCjSiUAoKrVq1izat3KFSuBr2DDEgBAtqzZs2jTql17loDbt3AJAJhLt67du3jz6rVLoK/fvwQACB5MuLDhw4gTFw4IACH/C05FVFNDQVBFMi4wAwEAAAAsgQGsAD8AjwCCAAAAzJlmZmbMmZnM////AAAAAAAAAAAACP8ACQgcSLCgwYMIBQZYSKChw4cQI0qcSLEixAAYM2okwLGjx48gQ4ocKTKAyZMoCahcybKly5cwY8IMQLOmTQI4c+rcybOnz58+AwgdSpSA0aNIkypdyrQp0wBQo0olQLWq1atYs2rdqjWA169gCYgdS7as2bNo06INwLatWwJw48qdS7eu3bt2A+jdy5eA37+AAwseTLgw4QCIEysmwLix48eQI0ueHDmA5cuYCWjezLmz58+gQ4MOQLq0aQKoU6tezbq169euA8ieTZuA7du4c+vezbs37wDAgwsnQLy48ePIkytfrjyA8+fQCUifTr269evYs2MPwL27dwLgw4v/H0++vPnz5gOoX8+egPv38OPLn0+/Pv0A+PPrJ8C/v3+ABAQOJFjQ4EGEBwMsZNiQwEOIESVOpFjRYsUAGTVuJNDR40eQIUWOJDkywEmUKQmsZNnS5UuYMWXGDFDT5k0COXXu5NnT50+gPwMMJVqUwFGkSZUuZdrUadMAUaVOJVDV6lWsWbVu5bo1wFewYQmMJVvW7Fm0adWmDdDW7VsCceXOpVvX7l28dwPs5duXwF/AgQUPJlzYcOEAiRUvJtDY8WPIkSVPpjw5wGXMmQls5tzZ82fQoUWHDlDa9GkCqVWvZt3a9WvYrwPMpl2bwG3cuXXv5t3bd+8AwYUPJ1Dc//hx5MmVL2e+PMBz6NEJTKde3fp17Nm1Zw/Q3ft3AuHFjydf3vx59OcDrGffnsB7+PHlz6df3379APn17yfQ3z9AAgIHEixo8CDChAQCMGzoMACBiBInUqxo8SJGiwE2cuxI4CPIkCJHkixpsmSAlCpXEmjp8iXMmDJn0pwZ4CbOnAR28uzp8yfQoEKDBihq9CiBpEqXMm3q9CnUpwGmUq1K4CrWrFq3cu3qtWuAsGLHEihr9izatGrXsl0b4C3cuATm0q1r9y7evHrzBujr9y+BwIIHEy5s+DDiwwEWM25M4DHkyJInU65suXKAzJo3E+js+TPo0KJHkx4d4DTq1P8EVrNu7fo17NiyYweobfs2gdy6d/Pu7fs38N8BhhMvTuA48uTKlzNv7rx5gOjSpxOobv069uzat3PfHuA7+PAExpMvb/48+vTq0wdo7/49gfjy59Ovb/8+/vsB9vPvTwAgAYEDCRY0eBBhwoMBGDZ0SABiRIkTKVa0eNFiAI0bORLw+BFkSJEjSZYkGQBlSpUEWLZ0+RJmTJkzZQaweRMnAZ07efb0+RNoUKABiBY1SgBpUqVLmTZ1+tRpAKlTqRKwehVrVq1buXblGgBsWLEEyJY1exZtWrVr1QZw+xYuAblz6da1exdvXrwB+Pb1SwBwYMGDCRc2fLhwAMWLGRP/cPwYcmTJkylXphwAc2bNBDh39vwZdGjRo0UHMH0aNQHVq1m3dv0admzYAWjXtk0Ad27du3n39v3bdwDhw4kTMH4ceXLly5k3Zx4AenTpBKhXt34de3bt27UH8P4dPAHx48mXN38efXr0Adi3d08Afnz58+nXt3/ffgD9+/kT8A+QgMCBBAsaPIgwYcEADBs6JAAxosSJFCtavGgxgMaNHAl4/AgypMiRJEuSDIAypUoCLFu6fAkzpsyZMgPYvImTgM6dPHv6/Ak0KNAARIsaJYA0qdKlTJs6feo0gNSpVAlYvYo1q9atXLtyDQA2rFgCZMuaPYs2rdq1agO4fQuX/4DcuXTr2r2LNy/eAHz7+iUAOLDgwYQLGz5sOIDixYwJOH4MObLkyZQrUw6AObNmApw7e/4MOrTo0aIDmD6NmoDq1axbu34NOzbsALRr2yaAO7fu3bx7+/7tO4Dw4cQJGD+OPLny5cybMw8APbp0AtSrW7+OPbv27doDeP8OnoD48eTLmz+PPj36AOzbuycAP778+fTr279vP4D+/fwJ+AdIQOBAggUNHkSYkGAAhg0dEoAYUeJEihUtXrQYQONGjgQ8fgQZUuRIkiVJBkCZUiUBli1dvoQZU+ZMmQFs3sRJQOdOnj19/gQaFGgAokWNEkCaVOlSpk2dPnUaQOpUqv8ErF7FmlXrVq5duQYAG1YsAbJlzZ5Fm1btWrUB3L6FS0DuXLp17d7FmxdvAL59/RIAHFjwYMKFDR82HEDxYsYEHD+GHFnyZMqVKQfAnFkzAc6dPX8GHVr0aNEBTJ9GTUD1atatXb+GHRt2ANq1bRPAnVv3bt69ff/2HUD4cOIEjB9Hnlz5cubNmQeAHl06AerVrV/Hnl37du0BvH8HT0D8ePLlzZ9Hnx59APbt3ROAH1/+fPr17d+3H0D/fv4E/AMkIHAgwYIGDyJMWDAAw4YOCUCMKHEixYoWL1oMoHEjRwIeP4IMKXIkyZIkA6BMqZIAy5YuX8KMKXOmzAA2b+L/JKBzJ8+ePn8CDQo0ANGiRgkgTap0KdOmSgFAjSp1KtUAVq9iBaB1K9euXAmADSs2LICyZs+iTRtgLdu2AN7CjSs3LoG6du/aBaB3L9++fgMADiwYAOHChg8bJqB4MePFAB5DjixZcoAAAwQMEDBAQIAAAD6DDi1aNIHSpk+bBqB6NevWrQMIGCBggIABAgYEAKB7N+/evQkADy48OIDixo8jRx5ggIABAgYIGCBgAIDq1q9jx05gO/fu3AGADy9+/HgBAwQMEDBAwAABAwDAjy9//nwC9u/jvw9gP//+/gECEChwgIABAgYIGCBggAAADyFGlCiRQEWLFy0C0LiR/2PHjgIGCBggYICAAQIGAFC5kmXLlgRgxpQZE0BNmzdx4gwwQMAAAQMEDBAwAEBRo0eRIiWwlGlTpgCgRpU6dWoAAQMEDBAwQMCAAADAhhU7diwBs2fRngWwlm1bt24DBBggYICAAQICBACwl29fv34JBBY8WDAAw4cRJ1aMOEDjxgAgR5Y8eTIBy5cxXwawmXNnz59BhxbtmUBp06dNA1C9mnVr169hx5Y9m3Zt27AJ5Na9WzcA37+BBxc+nHjx4ASQJ1eeHEBz58+hR5c+nTp0AtexZ8cOgHt379/Bhxc//jsB8+fRnwewnn179+/hx5fvnkB9+/ftA9C/n39//6QAAQgcSLCgwYMACChcyHAhgIcQI0qcSLGiRYkEMmrcqBGAx48gQ4ocSbJkSAIoU6pMCaCly5cwY8qcSRMmgZs4c+IEwLOnz59Agwod+pOA0aNIjwJYyrSp06dQo0p1SqCq1atWAWjdyrWr169gw3YlQLas2bIA0qpdy7at27dw2RKYS7cuXQB48+rdy7ev3797CQgeTHgwgMOIEytezLixY8UBAQAh/wtORVRTQ0FQRTIuMAMBAAAALI4BrABCAI8AggAAAMyZZmZmzJmZzP///wAAAAAAAAAAAAj/AAkIHEiwoMGDCAkGWEigocOHECNKnEix4sQAGDNqJMCxo8ePIEOKHEmSQICTKFMSWMmypcuXMGPKnEkggM2bOAno3Mmzp8+fQIMKJRCgqNGjBJIqXcq0qdOnUKMSCEC1qlUCWLNq3cq1q9evYAkEGEu2LIGzaNOqXcu2rdu3BALInUuXgN27ePPq3cu3r18CAQILHkygsOHDiBMrXsy4MYEAkCNLJkC5suXLmDNr3syZQIDPoEMTGE26tOnTqFOrXk0ggOvXsAnInk27tu3buHPrJhCgt+/fBIILH068uPHjyJMTCMC8uXMC0KNLn069uvXr2AkE2M69O4Hv4MOL/x9Pvrz58wQCqF/PnoD79/Djy59Pv759AgHy699PoL9/gAQEDiRY0OBBhAkLBmDY0CEBiBElTqRY0eJFjAQCbOTYkcBHkCFFjiRZ0uRJAgFUrmRJwOVLmDFlzqRZ0yaBADl17iTQ0+dPoEGFDiValEAApEmVEmDa1OlTqFGlTqVKIMBVrFkJbOXa1etXsGHFjiUQwOxZtATUrmXb1u1buHHlEghQ1+5dAnn17uXb1+9fwIEJBCBc2DABxIkVL2bc2PFjyAQCTKZcmcBlzJk1b+bc2fPnAKFFjyZQ2vRp1KlVr2bdmkAA2LFlE6Bd2/Zt3Ll17+ZNIMBv4MEJDCde3P/4ceTJlS8nEMD5c+gEpE+nXt36dezZtRMI0N37dwLhxY8nX978efTpCQRg3949Afjx5c+nX9/+ffwEAuzn358AQAICBxIsaPAgwoQKAzBs6JAAxIgSJ1KsaPEiRgIBNnLsSOAjyJAiR5IsafIkgQAqV7Ik4PIlzJgyZ9KsaZNAgJw6dxLo6fMn0KBChxItSiAA0qRKCTBt6vQp1KhSp1IlEOAq1qwEtnLt6vUr2LBixxIIYPYsWgJq17Jt6/Yt3LhyCQSoa/cugbx69/Lt6/cv4MAEAhAubJgA4sSKFzNu7PgxZAIBJlOuTOAy5syaN3Pu7PkzgQCiR5MmYPo06tT/qlezbu2aQIDYsmcTqG37Nu7cunfz7k0gAPDgwgkQL278OPLkypczJxDgOfToBKZTr279Ovbs2rcTCOD9O3gC4seTL2/+PPr06gkEaO/+PYH48ufTr2//Pv78BALw7+8fIAGBAwkWNHgQYUKFBAI0dPiQQESJEylWtHgRY0YCATh29EgAZEiRI0mWNHkSJYEAK1m2JPASZkyZM2nWtHmTQACdO3kS8PkTaFChQ4kWNUogQFKlSwk0dfoUalSpU6lWJRAAa1atBLh29foVbFixY8kGMHsWLQG1a9m2dfsWbly5BALUtXuXQF69e/n29fsXcGACAQgXNkwAcWLFixk3/3b8GDKBAJMpVyZwGXNmzZs5d/b8mUAA0aNJEzB9GnVq1atZt3ZNIEBs2bMJ1LZ9G3du3bt59yYQAHhw4QSIFzd+HHly5cuZEwjwHHp0AtOpV7d+HXt27dsJBPD+HTwB8ePJlzd/Hn169QQCtHf/nkB8+fPp17d/H39+AgH49/cPkIDAgQQLGjyIMKFCAgEaOnxIIKLEiRQrWryIMSOBABw7eiQAMqTIkSRLmjyJkkCAlSxbEngJM6bMmTRr2rxJIIDOnTwJ+PwJNKjQoUSLGiUQIKnSpQSaOn0KNarUqVSrEgiANatWAly7ev0KNqzYsWQJBDiLNi2BtWzbun0LN/+u3LkEAti9i5eA3r18+/r9CziwYAIBChs+TCCx4sWMGzt+DDkygQCUK1smgDmz5s2cO3v+DJpAgNGkSxM4jTq16tWsW7t+TSCA7Nm0Cdi+jTu37t28e/smECC48OEEihs/jjy58uXMmxMIAD26dALUq1u/jj279u3cCQT4Dj48gfHky5s/jz69+vUEArh/D5+A/Pn069u/jz+/fgIB+vsHGEBgAAIFDR5EmFDhQoYNCQSAGFEiAYoVLV7EmFHjRo4BPH4ESUDkSJIlTZ5EmVIlgQAtXb4kEFPmTJo1bd7EmZNAAJ49fRIAGlToUKJFjR5FSiDAUqZNCTyFGlXqVKr/Va1eJRBA61auBLx+BRtW7FiyZc0SCJBW7VoCbd2+hRtX7ly6dQkEwJtXLwG+ff3+BRxY8GDCBAIcRpyYwGLGjR0/hhxZ8mQCASxfxkxA82bOnT1/Bh1aNIEApU2fJpBa9WrWrV2/hh2bQADatW0TwJ1b927evX3/Bk4gwHDixQkcR55c+XLmzZ0/JxBA+nTqBKxfx55d+3bu3b0TCBBe/HgC5c2fR59e/Xr27QkEgB9fPgH69e3fx59f/37+BAIADCBw4EACBg8iTKhwIcOGDgkEiChxIoGKFi9izKhxI8eOBAKADCmSAMmSJk+iTKlyJUsCAV7CjElgJs2aNm/i/8ypcyeBAD5/AiUgdCjRokaPIk2qlECApk6fEogqdSrVqlavYs1KIADXrl4JgA0rdizZsmbPoiUQYC3btgTewo0rdy7dunbvEgigdy9fAn7/Ag4seDDhwoYJBEiseDGBxo4fQ44seTLlygQCYM6smQDnzp4/gw4tejRpAgFOo05NYDXr1q5fw4YNYDbt2rZvB8itezeA3r5/A/9NYDjx4sYJAEiufDnz5gGeQ48OYDr16tarE8iufTt3AgC+gw8vfnyA8ubPA0ivfj379QTew48vnwCA+vbv48cfIMAAAQMAChggIEAAAAcRJlSokEBDhw8hEgAwkWJFixYDCBggYP+AgAECBgQAMJJkSZMmCaRUuZIlAQAvYcaUKTPAAAEDBAwQMEDAAAA/gQYVKpRAUaNHkRIAsJRpU6dOBQwQMEDAAAEDBAwAsJVrV69eCYQVO5YsAQBn0aZVq3aAgAECBggYIGCAAAB38ebVq5dAX79/ARMAMJhwYcOGBQwQMEDAAAEDBAwAMJlyZcuWCWTWvJkzAQCfQYcWLTrAAAEDBAwQMEDAAACvYceWLZtAbdu3cRMAsJt3b9++AwgYIGCAgAECBgQAsJx5c+fOCUSXPp06AQDXsWfXrj1AgAECBggYICBAAADn0adXr55Ae/fv4RMAMJ9+ffv36wfQrx9Af///AAEIHEiQIIGDCBMqJACgocOHECNKnEgRIoGLGDNqJACgo8ePIEOKHEmypMmTKFOaJMCypcuXBADInEmzps2bOHPWJMCzp8+fBAAIHUq0qNGjSJMWJcC0qdOnBABInUq1qtWrWLNWJcC1q9evBACIHUu2rNmzaNOWJcC2rdu3BADInUu3rt27ePPWJcC3r9+/BAAIHky4sOHDiBMXJsC4sePHBABInky5suXLmDNXJsC5s+fPBACIHk26tOnTqFOXJsC6tevXBADInk27tu3buHPXJsC7t+/fBAAIH068uPHjyJMXJ8C8ufPnBABIn069uvXr2LNXJ8C9u/fvBACIMR9Pvrz58+jTlyfAvr379wQAyJ9Pv779+/jz1yfAv79/gAQEDgRQ0OBBhAkVLmSIMCAAIf8LTkVUU0NBUEUyLjADAQAAACyeAawAQgCPAIIAAADMmWZmZsyZmcz///8AAAAAAAAAAAAI/wAJCBxIsKDBgwgNBghAoKHDhxAjSpxIsSLFABgzaiTAsaPHjyBDihxJkkCAkyhTEljJsqXLlzBjypxJIIDNmzgJ6NzJs6fPn0CDCiUQoKjRowSSKl3KtKnTp1CjEghAtapVAlizat3KtavXr2AJBBhLtiyBs2jTql3Ltq3btwQCyJ1Ll4Ddu3jz6t3Lt69fAgECCx5MoLDhw4gTK17MuDGBAJAjSyZAubLly5gza97MmUCAz6BDExhNurTp06hTq15NIIDr17AJyJ5Nu7bt27hz6yYQoLfv3wSCCx9OvLjx48iTEwjAvLlzAtCjS59Ovbr169gJBNjOvTuB7+DDi/8fT768+fMEAqhfz56A+/fw48ufT7++fQIB8uvfT6C/f4AEBA4kWNDgQYQJCQZg2NBhAAIRJU6kWNHiRYwZA2zk2JHAR5AhRY4kWdLkSQIBVK5kScDlS5gxZc6kWdMmgQA5de4k0NPnT6BBhQ4lWpRAAKRJlRJg2tTpU6hRpU6lSiDAVaxZCWzl2tXrV7BhxY4lEMDsWbQE1K5l29btW7hx5RIIUNfuXQJ59e7l29fvX8CBCQQgXNgwAcSJFS9m3NjxY8gEAkymXJnAZcyZNW/m3NnzZwIBRI8mTcD0adSpVa9m3do1gQCxZc8mUNv2bdy5de/m3ZtAAODBhRMgXtz/+HHkyZUvZ04gwHPo0QlMp17d+nXs2bVvJxDA+3fwBMSPJ1/e/Hn06dUTCNDe/XsC8eXPp1/f/n38+QkE4N/fP0ACAgcSLGjwIMKECgkEaOjwIYGIEidSrGjxIsaMBAJw7OiRAMiQIkeSLGnyJEoCAVaybEngJcyYMmfSrGnzZoCcOncS6OnzJ9CgQocSLUogANKkSgkwber0KdSoUqdSJRDgKtasBLZy7er1K9iwYscSCGD2LFoCateybev2Ldy4cgkEqGv3LoG8evfy7ev3L+DABAIQLmyYAOLEihczbuz4MWQCASZTrkzgMubMmjdz7uz5M4EAokeTJmD6NOrU/6pXs27tmkCA2LJnE6ht+zbu3Lp38+5NIADw4MIJEC9u/Djy5MqXMycQ4Dn06ASmU69u/Tr27Nq3Ewjg/Tt4AuLHky9v/jz69OoJBGjv/j2B+PLn069v/z7+/AQC8O/vHyABgQMJFjR4EGFChQQCNHT4kEBEiRMpVrR4EWNGAgE4dvRIAGRIkSNJljR5EiWBACtZtiTwEmZMmTNp1rR5k0AAnTt5EvD5E2hQoUOJFjVKIEBSpUsJNHX6FGpUqVOpVg1wFWvWAAS4dvX6FWxYsWPJBjB7Fi0BtWvZtnX7Fm5cuQQC1LV7l0BevXv59vX7F3BgAgEIFzZMAHFixYsZN/92/BgygQCTKVcmcBlzZs2bOXf2/JlAANGjSRMwfRp1atWrWbd2TSBAbNmzCdS2fRt3bt27efcmEAB4cOEEiBc3fhx5cuXLmRMI8Bx6dALTqVe3fh17du3bCQTw/h08AfHjyZc3fx59evUEArR3/55AfPnz6de3fx9/fgIB+Pf3D5CAwIEECxo8iDChQgIBGjp8SCCixIkUK1q8iDEjgQAcO3okADKkyJEkS5o8iZJAgJUsWxJ4CTOmzJk0a9q8SSCAzp08Cfj8CTSo0KFEixolECCp0qUEmjp9CjWq1KlUqxIIgDWrVgJcu3r9Cjas2LFkCQQ4izYtgbVs27p9Czf/rty5BALYvYuXgN69fPv6/Qs4sOAAhAsbJoA4seLFjBs7fgyZQIDJlCsTuIw5s+bNnDt7/kwggOjRpAmYPo06terVrFu7JhAgtuzZBGrbvo07t+7dvHsTCAA8uHACxIsbP448ufLlzAkEeA49OoHp1Ktbv449u/btBAJ4/w6egPjx5MubP48+vXoCAdq7f08gvvz59Ovbv48/P4EA/Pv7B0hA4ECCBQ0eRJhQIYEADR0+JBBR4kSKFS1exJiRQACOHT0SABlS5EiSJU2eREkgwEqWLQm8hBlT5kyaNW3eJBBA506eBHz+BBpU6FCiRY0SCJBU6VICTZ0+hRpV6lSq/1UJBMCaVSsBrl29fgUbVuxYsgQCnEWblsBatm3dvoUbV+5cAgHs3sVLQO9evn39/gUcWDCBAIUNHyaQWPFixo0dP4YcmUAAypUtE8CcWfNmzp09fwYdQPRo0gEInEadWvVq1q1dvw4QW/ZsArVt38adW/du3r0JBAAeXDgB4sWNH0eeXPly5gQCPIcencB06tWtX8eeXft2AgG8fwdPQPx48uXNn0efXj2BAO3dvycQX/58+vXt38efn0AA/v39AyQgcCDBggYPIkyokECAhg4fEogocSLFihYvYsxIIADHjh4JgAwpciTJkiZPoiQQYCXLlgRewowpcybNmjZvEv8IoHMnTwI+fwINKnQo0aJGCQRIqnQpgaZOn0KNKnUq1aoEAmDNqpUA165ev4INK3YsWQIBzqJNS2At27Zu38KNK3cugQB27+IloHcv375+/wIOLJhAgMKGDxNIrHgx48aOH0OOTCAA5cqWCWDOrHkz586eP4MmEGA06dIETqNOrXo1a9YAXsOOLXt2gNq2bwPIrXs3790EfgMPLpwAgOLGjyNPHmA58+YAnkOPLj06gerWr2MnAGA79+7evQcIL348gPLmz6NHT2A9+/buCQCIL38+ffoBAgwQMEDAAAEBAAYAMJBgQYMGCSRUuJAhAQAPIUaUKDGAgAECBggYIGD/QAAAH0GGFCmSQEmTJ1ESALCSZUuXLgMMEDBAwAABAwQMALCTZ0+fPgkEFTqUKAEAR5EmVapUwAABAwQMEDBAwAAAV7Fm1aqVQFevX8ESADCWbFmzZgcIGCBggIABAgYIADCXbl27dgnk1buXLwEAfwEHFixYwAABAwQMEDBAwAAAjyFHliyZQGXLlzETALCZc2fPngMMEDBAwAABAwQMALCadWvXrgnElj2bNgEAt3Hn1q07gIABAgYIGCBgQAAAx5EnV66cQHPnz6ETADCdenXr1gMEGCBggIABAgIEADCefHnz5gmkV7+ePQEA7+HHlz8/fgD79gHk17+fP38C/wAJCBxIsCCAgwgTKlzIsKFDhQQiSpxIkQCAixgzatzIsaPHjyBDihwJkoDJkyhTEgDAsqXLlzBjypz5koDNmzhzEgDAs6fPn0CDCh36k4DRo0iTEgDAtKnTp1CjSp36lIDVq1izEgDAtavXr2DDih37lYDZs2jTEgDAtq3bt3Djyp37loDdu3jzEgDAt6/fv4ADCx78l4Dhw4gTEwDAuLHjx5AjS578mIDly5gzEwDAubPnz6BDix79mYDp06hTEwDAurXr17Bjy579moDt27hzEwDAu7fv38CDCx/+m4Dx48iTEwDAvLnz59CjS5/+nID169izEwDAvbv37+DDiy0f/52A+fPo0xMAwL69+/fw48uf/56A/fv48xMAwL+/f4AABA4kWNDgQYQEAwIAOw==\"/>"
            ]
          },
          "metadata": {},
          "execution_count": 65
        }
      ]
    }
  ]
}